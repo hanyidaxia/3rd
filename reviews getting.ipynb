{
 "cells": [
  {
   "cell_type": "code",
   "execution_count": 2,
   "metadata": {},
   "outputs": [],
   "source": [
    "# class Reviews_crawling:\n",
    "import selenium\n",
    "import time\n",
    "from selenium import webdriver\n",
    "from bs4 import BeautifulSoup as BS\n",
    "from selenium.webdriver.chrome.options import Options\n",
    "import sys\n",
    "import pickle\n",
    "import pandas as pd\n",
    "from collections import Counter\n",
    "import string"
   ]
  },
  {
   "cell_type": "code",
   "execution_count": 20,
   "metadata": {},
   "outputs": [],
   "source": [
    "def get_unique_names(file_name):\n",
    "    # this function is getting the unique product name from the existing file\n",
    "    with open('H:/Data/2021_product_names.txt', \"r\") as x:\n",
    "        product_name = []\n",
    "        product_new_name = []\n",
    "        all_product = x.read().splitlines()\n",
    "        for i in all_product:\n",
    "            i = i.strip('\\n')\n",
    "        all_set = set(all_product)\n",
    "        all_product = list(all_set)\n",
    "#         print(all_product)\n",
    "        for j in all_product:\n",
    "            j = j.split('/')[3]\n",
    "#             print(j)\n",
    "            product_name.append(j)\n",
    "            \n",
    "        for k in product_name:\n",
    "            k = k.replace(\"-\", \" \")\n",
    "            k = (string.capwords(k))\n",
    "            k = k.replace(\" \", \"_\")\n",
    "            k = k.replace(\"Mens_\", \"\")\n",
    "            product_new_name.append(k)\n",
    "        new_set = set(product_new_name)\n",
    "        new_product = list(new_set)\n",
    "    return new_product"
   ]
  },
  {
   "cell_type": "code",
   "execution_count": 21,
   "metadata": {},
   "outputs": [],
   "source": [
    "new_product = get_unique_names(_)"
   ]
  },
  {
   "cell_type": "code",
   "execution_count": 22,
   "metadata": {},
   "outputs": [
    {
     "name": "stdout",
     "output_type": "stream",
     "text": [
      "['Brooks_Revel_4_Running_Shoes', 'Champion_Ipo_Repeat_Slide_Sandals', 'Champion_Future_Flex_Slip_On_Casual_Shoes', 'Puma_El_Rey_Ii_Casual_Shoes', 'Nike_Air_Max_95_Qs_Casual_Shoes', 'Under_Armour_Curry_8_Basketball_Shoes', 'Nike_Pegasus_Trail_2_Trail_Running_Shoes', 'Adidas_Alphabounce_Running_Shoes', 'Champion_Ipo_Camo_Slide_Sandals', 'Brooks_Adrenaline_Gts_21_Running_Shoes', 'Adidas_Terrex_Swift_R2_Gore_Tex_Hiking_Shoes', 'Nike_Kd13_Basketball_Shoes', 'Nike_Air_Max_Exosense_Casual_Shoes', 'Puma_Future_Rider_Interstellar_Casual_Shoes', 'Adidas_Originals_Nmd_R1_Trail_Running_Shoes', 'Brooks_Glycerin_19_Running_Shoes', 'Puma_Style_Rider_Warm_Texture_Casual_Shoes', 'Nike_React_Presto_Flyknit_Running_Shoes', 'Puma_Rs_Fast_Am_Casual_Shoes', 'Adidas_Adilette_Clog_Shoes', 'Nike_Blazer_Mid_77_Vintage_World_Tour_Casual_Shoes', 'Nike_Court_Royale_2_Mid_Casual_Shoes', 'Adidas_Pro_Boost_Low_Basketball_Shoes', 'Converse_Pro_Leather_Birth_Of_Flight_High_Top_Casual_Shoes', 'Nike_Manoa_Leather_Boots', 'Lacoste_Fraisier_Slide_Sandals', 'Adidas_Originals_Nmd_R1_V2_Casual_Shoes', 'Nike_Air_Force_1_Mid_Casual_Shoes', 'Nike_Air_Force_1_07_Lv8_Recycled_Felt_Casual_Shoes', 'Nike_Air_Vapormax_360_Running_Shoes', 'Nike_Kyrie_Low_3_Eclipse_Basketball_Shoes', 'Champion_Rally_Pro_Casual_Shoes', 'Nike_Revolution_5_Running_Shoes', 'Nike_Air_Max_90_Leather_Casual_Shoes', 'Timberland_Field_Mid_Waterproof_Boots', 'Nike_Air_Force_1_07_Lv8_Iridescent_Pixel_Casual_Shoes', 'Reebok_Nano_X_Pride_Running_Shoes', 'Adidas_Supernova_Running_Shoes', 'Asics_Gel_Lyte_Xxx_Running_Shoes', 'Nike_Air_Force_1_07_Lv8_Shooting_Stars_Casual_Shoes', 'Nike_Kyrie_6_Team_Basketball_Shoes', 'Reebok_Classic_Leather_Legacy_Street_Sleigh_Casual_Shoes', 'Adidas_Originals_Superstar_Canvas_Casual_Shoes', 'Asics_Gel_Lyte_Iii_Og_Casual_Shoes', 'Lacoste_Croco_119_Slide_Sandals', 'Puma_Future_Rider_Am_Casual_Shoes', 'Puma_Super_Levitate_Running_Shoes', 'Adidas_Terrex_Free_Hiker_Primeblue_Hiking_Shoes', 'Reebok_X_Kung_Fu_Panda_Instapump_Fury_Casual_Shoes', 'Nike_Victori_One_Shower_Slide_Sandals', 'Adidas_Response_Sr_Running_Shoes', 'Puma_Future_Rider_Neon_Play_Casual_Shoes', 'Air_Jordan_1_Zoom_Air_Comfort_Casual_Shoes', 'Puma_Clyde_All_Pro_Basketball_Shoes', 'Skechers_Delson_Camben_Casual_Walking_Shoes', 'Superdry_Classic_Pool_Slide_Sandals', 'Fila_Disruptor_2_Nyc_Casual_Shoes', 'K_Swiss_Court_Casper_Casual_Shoes', 'Jordan_Pro_Rx_Basketball_Shoes', 'Unisex_Asics_Gel_Bondal_Athletic_Sandals', 'Adidas_Ultraboost_Dna_Zebra_Running_Shoes', 'Nike_Flex_Experience_Rn_9_Running_Shoes', 'Adidas_Ultraboost_20_Running_Shoes', 'New_Balance_515_Casual_Shoes', 'New_Balance_X_Jolly_Rancher_Slide_Sandals', 'Puma_Ralph_Sampson_Lo_Casual_Shoes', 'Adidas_Nmd_R1_V2_Quilted_Casual_Shoes', 'Adidas_Multix_Running_Shoes', 'Adidas_Originals_Swift_Run_Running_Shoes', 'Nike_Air_Monarch_Iv_Training_Shoes', 'Nike_Air_Max_97_Casual_Shoes', 'Adidas_Originals_Zx_2k_Boost_Running_Shoes', 'Reebok_Club_C_85_Vintage_Casual_Shoes', 'Puma_Future_Rider_Intl_Game_Casual_Shoes', 'Adidas_Climacool_Vento_Running_Shoes', 'Puma_Rs_Fast_Casual_Shoes', 'Nike_Air_Penny_5_Basketball_Shoes', 'Champion_Sleepover_Slippers', 'Nike_Sky_Force_Three_Quarter_Casual_Shoes', 'Converse_X_Roswell_Rayguns_Chuck_70_High_Top_Casual_Shoes', 'Reebok_X_Minions_Club_C_Casual_Shoes', 'Adidas_Stycon_Laceless_Hardcourt_Tennis_Shoes', 'Puma_Future_Rider_Core_Casual_Shoes', 'Adidas_Baseball_Adizero_Afterburner_Turf_Shoes', 'Crocs_Classic_Animal_Print_Clog_Shoes', 'Nike_Cortez_Basic_Leather_Casual_Shoes', 'Reebok_Club_C_Wool_Corn_Casual_Shoes', 'Adidas_Originals_Top_Ten_Hi_Casual_Shoes', 'Air_Jordan_Retro_1_Low_Casual_Shoes', 'Reebok_Zig_Kinetica_Ii_Running_Shoes', 'Adidas_Alphatorsion_Running_Shoes', 'Nike_Zoom_Fly_3_Running_Shoes', 'Adidas_Harden_Stepback_2_Basketball_Shoes', 'Adidas_Ultraboost_20_Dna_X_Pe_Running_Shoes', 'Nike_Metcon_Sport_Training_Shoes', 'Adidas_Defiant_Generation_Multicourt_Tennis_Shoes', 'Reebok_Instapump_Fury_Og_Casual_Shoes', 'Adidas_Terrex_Trailmaker_Hiking_Shoes', 'Adidas_Court_Team_Bounce_Indoor_Tennis_Shoes', 'Reebok_Kamikaze_Ii_Basketball_Shoes', 'Adidas_Grand_Court_Se_Casual_Shoes', 'Reebok_Classic_Leather_Casual_Shoes', 'Reebok_X_Kung_Fu_Panda_Club_C_85_Casual_Shoes', 'Nike_React_Sertu_Running_Shoes', 'Adidas_Runfalcon_20_Running_Shoes', 'Adidas_Essentials_Adilette_Comfort_Slide_Sandals', 'Nike_Air_Vapormax_Flyknit_3_Usa_Running_Shoes', 'Converse_Chuck_70_Peace_Love_And_Basketball_High_Top_Casual_Shoes', 'Nike_Kd13_Team_Basketball_Shoes', 'Lacoste_Chaymon_120_Casual_Shoes', 'Nike_Free_Metcon_3_Training_Shoes', 'Nike_Air_Max_Plus_3_Casual_Shoes', 'Adidas_Originals_Seeley_Casual_Shoes', 'Nike_Excee_Casual_Shoes', 'Adidas_Originals_Delpala_Casual_Shoes', 'Champion_Ipo_Doodle_Slide_Sandals', 'Nike_Air_Max_Iii_Casual_Shoes', 'Reebok_Classic_Leather_Gum_Casual_Shoes', 'New_Balance_Fresh_Foam_1080v11_Running_Shoes', 'Lacoste_Storda_Casual_Shoes', 'Puma_Future_Rider_Play_On_Casual_Shoes', 'Nike_Challenger_Og_Peace_Love_And_Basketball_Casual_Shoes', 'Asics_Gt_2000_9_Running_Shoes', 'Puma_Future_Rider_Eat_Ur_Veggies_Casual_Shoes', 'Adidas_Adizero_Ubersonic_4_Tokyo_Tennis_Shoes', 'Adidas_Originals_Zx_2k_4d_Running_Shoes', 'Nike_Pg_4_Team_Basketball_Shoes', 'Puma_Rs_Fast_Super_Mario_Galaxy_Casual_Shoes', 'Adidas_Supernova_Winterrdy_Running_Shoes', 'Puma_Super_Liga_Og_Retro_Casual_Shoes', 'Nike_React_Infinity_Run_Flyknit_2_Running_Shoes', 'Nike_Air_Monarch_Iv_Training_Shoes_Wide_Width_4e', 'Adidas_Don_Issue_2_Basketball_Shoes', 'Adidas_Terrex_Agravic_Tr_Gore_Tex_Trail_Running_Shoes', 'Nike_Air_Vapormax_2020_Flyknit_Running_Shoes', 'Nike_Air_Vapormax_Plus_Running_Shoes', 'New_Balance_990v5_Casual_Shoes', 'Nike_Air_Max_Vg_R_Casual_Shoes', 'Womens_Champion_Ipo_Tie_Dye_Slide_Sandals', 'New_Balance_574_Casual_Shoes', 'Reebok_X_Hot_Ones_Classic_Leather_Legacy_Casual_Shoes', 'Nike_Air_Presto_Casual_Shoes', 'Adidas_Ultraboost_20_Dna_Running_Shoes', 'Nike_Air_Zoom_Type_Running_Shoes', 'Asics_Tiger_Runner_Casual_Shoes', 'Adidas_Originals_Zx_2k_Flux_Running_Shoes', 'Timberland_White_Ledge_Mid_Waterproof_Hiking_Boots', 'Nike_Air_Max_Excee_Casual_Shoes', 'Nike_Cortez_Basic_Premium_Recycled_Canvas_Casual_Shoes', 'Adidas_Terrex_Ax3_Hiking_Shoes', 'Puma_Cool_Cat_Slide_Sandals', 'Puma_Thunder_Holiday_Casual_Shoes', 'Adidas_Originals_Xplr_Casual_Shoes', 'Air_Max_90_Se_Worldwide_Casual_Shoes', 'Asics_Gel_Nimbus_23_Running_Shoes', 'Nike_Air_Max_Axis_Casual_Shoes', 'Champion_Hyper_Cx_Casual_Shoes', 'Puma_Roma_Basic_Gum_Casual_Shoes', 'Reebok_Classics_Slide_Sandals', 'Nike_Air_Zoom_Tempo_Next_Running_Shoes', 'Under_Armour_Project_Rock_Slide_Sandals', 'Reebok_Classic_Leather_Collegiate_Casual_Shoes', 'Nike_Air_Max_90_Recycled_Felt_Casual_Shoes', 'Nike_React_Presto_Running_Shoes', 'Nike_Renew_Run_2_Running_Shoes', 'Nike_Air_Force_1_07_Lv8_Casual_Shoes', 'Nike_Mamba_Fury_Basketball_Shoes', 'Nike_X_Roswell_Rayguns_Air_Force_1_Lv8_1_Casual_Shoes', 'Timberland_Premium_Roll_Top_Boots', 'Puma_Rs_Fast_Intl_Casual_Shoes', 'Nike_Court_Vintage_Premium_Casual_Shoes', 'Lacoste_Match_Break_Casual_Shoes', 'Reebok_Zig_Dynamica_Running_Shoes', 'Adidas_N3xt_L3v3l_2020_Basketball_Shoes', 'Adidas_Adilette_Shower_Slide_Sandals', 'Adidas_Originals_Nizza_Rf_Casual_Shoes', 'Puma_Style_Rider_Neo_Archive_Casual_Shoes', 'Crocs_Classic_Tie_Dye_Graphic_Clog_Shoes', 'Oofos_Ooriginal_Thong_Sandals', 'New_Balance_X_Jaden_Smith_Vision_Racer_Casual_Shoes', 'Nike_Dbreak_Sp_Casual_Shoes', 'Converse_Pro_Leather_High_Top_Casual_Shoes', 'Adidas_Terrex_Agravic_Tr_Trail_Running_Shoes', 'Nike_Space_Hippie_04_Casual_Shoes', 'Adidas_Duramo_Sl_Slide_Sandals', 'Nike_Air_Max_95_Lv8_Casual_Shoes', 'Puma_Future_Rider_Double_Byzantium_Casual_Shoes', 'Puma_Mirage_Tech_Core_Casual_Shoes', 'Jordan_Zoom_Trunner_Ultimate_Running_Shoes', 'The_North_Face_Back_To_Berkeley_Mid_Waterproof_Boots', 'Adidas_X9000l4_Running_Shoes', 'Adidas_Pro_Model_2g_Low_Basketball_Shoes', 'Reebok_Liquifect_180_Running_Shoes', 'Puma_Future_Rider_Rip_Casual_Shoes', 'Adidas_Essentials_Adilette_Cloudfoam_Slide_Sandals', 'Reebok_Club_C_Coast_Casual_Shoes', 'Adidas_Duramo_Sl_Sport_Sandals', 'Puma_Style_Rider_Casual_Shoes', 'Adidas_Gamecourt_Tennis_Shoes', 'Puma_X_Emoji_Rs_Fast_Casual_Shoes', 'Crocs_Classic_Clog_Shoes', 'Nike_Air_Max_2015_Running_Shoes', 'Puma_El_Rey_Ii_Slip_On_Casual_Shoes', 'Adidas_Stabil_Next_Gen_Primeknit_Handball_Shoes', 'Adidas_Dame_7_Basketball_Shoes', 'Nike_Drop_Type_Casual_Shoes', 'Reebok_Classic_Leather_Vintage_Casual_Shoes', 'Adidas_Stabil_Next_Gen_Training_Shoes', 'Nike_Air_Max_270_React_Casual_Shoes', 'Adidas_X_Nasa_Ultraboost_50_Dna_Running_Shoes', 'Nike_Challenger_Og_Casual_Shoes', 'New_Balance_574_Black_History_Month_Casual_Shoes', 'Nike_Dbreak_Type_Casual_Shoes', 'Under_Armour_Project_Rock_Bsr_Training_Shoes', 'Adidas_Adipower_Weightlifting_2_Training_Shoes', 'Crocs_Classic_Slide_Sandals', 'Fila_Massaggio_Slide_Sandals', 'Puma_Rs_X_Move_Casual_Shoes', 'Puma_Axelion_Training_Shoes', 'Adidas_Originals_Nmd_R1_Stlt_Primeknit_Casual_Shoes', 'Reebok_Classics_Club_C_Revenge_Casual_Shoes', 'Crocs_Classic_Tie_Dye_Graphic_Lined_Clog_Shoes', 'Nike_Zoom_Freak_2_Basketball_Shoes', 'Nike_Air_Zoom_Type_Se_Running_Shoes', 'Nike_React_Vision_Running_Shoes', 'Adidas_Pro_Model_2g_Basketball_Shoes', 'Under_Armour_Project_Rock_3_Training_Shoes', 'Nike_Dbreak_Type_Second_Season_Casual_Shoes', 'Nike_Dbreak_Type_Recycled_Canvas_Casual_Shoes', 'Crocs_Classic_Out_Of_This_World_Clog_Shoes', 'Nike_Victori_One_Slide_Sandals', 'Puma_Ralph_Sampson_Vulc_Casual_Shoes', 'Nike_Kyrie_6_Basketball_Shoes', 'Adidas_Adilette_Printed_Comfort_Slide_Sandals', 'Nike_Air_Force_1_High_07_Casual_Shoes', 'Puma_Suede_Classic_21_Casual_Shoes', 'Nike_Air_Max_2090_Casual_Shoes', 'Nike_Blazer_Mid_77_Patch_Casual_Shoes', 'Nike_Air_Max_1_Recycled_Casual_Shoes', 'Nike_Air_Max_Zm950_Casual_Shoes', 'Lacoste_Misano_Strap_Casual_Shoes', 'Nike_Air_Zoom_Pegasus_37_Running_Shoes', 'Nike_Drop_Type_Premium_Casual_Shoes', 'Puma_Future_Rider_Dystopia_Casual_Shoes', 'Puma_Rs_20_Future_Casual_Shoes', 'Asics_Gel_Lyte_Classic_Casual_Shoes', 'Puma_Style_Rider_Skies_Casual_Shoes', 'Nike_Flex_Experience_Run_10_Running_Shoes', 'Jordan_Jumpman_2021_Basketball_Shoes', 'Adidas_Terrex_Trailmaker_Mid_Gore_Tex_Hiking_Shoes', 'Nike_Benassi_Jdi_Slide_Sandals', 'Puma_Roma_Basic_Casual_Shoes', 'Champion_University_Script_Slippers', 'Nike_Lebron_18_Basketball_Shoes', 'Adidas_Harden_Vol_5_Basketball_Shoes', 'Nike_Pegasus_Trail_2_Gore_Tex_Running_Shoes', 'Adidas_Duramo_Sl_Running_Shoes', 'Adidas_4d_Fusio_Running_Shoes', 'Converse_Pro_Leather_Peace_Love_And_Basketball_High_Top_Casual_Shoes', 'Nike_Air_Zoom_Type_Recycled_Felt_Running_Shoes', 'Champion_Rally_Crossover_Casual_Shoes', 'Adidas_Terrex_Free_Hiker_Gore_Tex_Hiking_Shoes', 'Asics_Gel_Lyte_Iii_Casual_Shoes', 'Oofos_Ooahh_Slide_Sandals', 'Adidas_Ownthegame_Basketball_Shoes', 'Reebok_Ex_O_Fit_Hi_Casual_Shoes', 'Nike_Blazer_Mid_77_Vintage_Recycled_Felt_Casual_Shoes', 'Champion_Rally_Future_Mid_Casual_Shoes', 'Puma_Roma_International_Games_Casual_Shoes', 'Adidas_Ultraboost_50_Uncaged_Dna_Running_Shoes', 'Adidas_Ultraboost_40_Dna_Running_Shoes', 'Adidas_Essentials_Adilette_Boost_Slide_Sandals', 'Adidas_X90004d_Running_Shoes', 'Jordan_Zoom_92_Basketball_Shoes', 'Brooks_Ghost_13_Running_Shoes', 'Champion_Rally_Pro_Xg_Casual_Shoes', 'Adidas_Apac_Halo_Multicourt_Tennis_Shoes', 'Adidas_Originals_Stan_Smith_Casual_Shoes', 'New_Balance_X_Jolly_Rancher_Kawhi_1_Basketball_Shoes', 'Adidas_Terrex_Ax3_Gore_Tex_Hiking_Shoes', 'Nike_Air_Max_2x_Running_Shoes', 'Nike_Air_Max_720_Se_Running_Shoes', 'Nike_Air_Max_Infinity_2_Casual_Shoes', 'New_Balance_501_Outdoor_Ripple_Casual_Shoes', 'Adidas_Lite_Racer_Adapt_3_Running_Shoes', 'Timberland_Retro_6_Inch_Premium_Waterproof_Boots', 'Adidas_Ultraboost_Winterrdy_Dna_Running_Shoes', 'Nike_Mx_720_818_Running_Shoes', 'Nike_Dbreak_Type_Se_Casual_Shoes', 'Adidas_Solematch_Bounce_Tokyo_Tennis_Shoes', 'Nike_Air_Max_90_Gum_Casual_Shoes', 'Nike_Air_Tailwind_79_Worldwide_Casual_Shoes', 'Reebok_Zig_Kinetica_Edge_Running_Shoes', 'Adidas_Ultraboost_50_Dna_Running_Shoes', 'New_Balance_990v5_Black_History_Month_Casual_Shoes', 'Reebok_Zig_Kinetica_Running_Shoes', 'Adidas_Originals_Samba_Leather_Casual_Shoes', 'Adidas_Originals_Stan_Smith_With_Swarovski_Crystals_Casual_Shoes', 'Reebok_Zig_Elusion_Energy_Running_Shoes', 'Adidas_Adilette_Cloudfoam_Plus_Slide_Sandals', 'Asics_Kickslab_X_Gel_Lyte_V_Klshogun_Casual_Shoes', 'Danner_Mountain_600_Hiking_Boots', 'Adidas_Ultra_4d_50_Running_Shoes', 'Nike_Air_Max_95_Essential_Casual_Shoes', 'Adidas_Courtjam_Bounce_Tennis_Shoes', 'Converse_Chuck_Taylor_All_Star_Street_Mid_Casual_Shoes', 'Nike_Victori_One_Print_Slide_Sandals', 'Nike_Air_Max_1_Casual_Shoes', 'Nike_Kyrie_7_Basketball_Shoes', 'Puma_Rs_20_Intl_Casual_Shoes', 'Nike_React_Miler_Running_Shoes', 'Puma_Rs_20_Core_Casual_Shoes', 'Reebok_Classic_Leather_Glow_Casual_Shoes', 'Adidas_Fluidflow_20_Running_Shoes', 'Puma_Future_Rider_Play_On_Fairgrounds_Casual_Shoes', 'Crocs_Classic_Lined_Clog_Shoes', 'Timberland_6_Inch_Premium_Waterproof_Boots', 'Champion_Ipo_Mega_Script_Slide_Sandals', 'Timberland_Mt_Maddsen_Mid_Waterproof_Hiking_Boots', 'Nike_Air_Max_95_Recycled_Felt_Casual_Shoes', 'Adidas_Adilette_Comfort_Adjustable_Slide_Sandals', 'Nike_Ultra_Comfort_3_Slide_Sandals', 'Nike_Tanjun_Casual_Shoes', 'Adidas_Essentials_Adilette_Comfort_Adjustable_Slide_Sandals', 'Nike_Zoom_Freak_2_Pe_Basketball_Shoes', 'Timberland_Earthkeepers_Original_Leather_6_Inch_Boots', 'Asics_Gel_Cumulus_22_Running_Shoes', 'Nike_Renew_Run_Running_Shoes', 'Nike_Blazer_Mid_77_Vintage_Casual_Shoes', 'New_Balance_Kawhi_1_Basketball_Shoes', 'Adidas_Ultra_Boost_Dna_Cny_Running_Shoes', 'Adidas_Box_Hog_3_Boxing_Shoes', 'Adidas_Originals_X_Ninja_Zx_2k_Boost_Running_Shoes', 'Adidas_Originals_X_Nasa_Nmd_R1_Spectoo_Casual_Shoes', 'Adidas_Ultraboost_21_Running_Shoes', 'Converse_Chuck_Taylor_All_Star_Low_Top_Casual_Shoes', 'Converse_Chuck_Taylor_All_Star_Digital_Terrain_Ripstop_High_Top_Casual_Shoes', 'Puma_Axelion_Perf_Training_Shoes', 'Jordan_Westbrook_One_Take_Basketball_Shoes', 'Adidas_Originals_Swift_Run_X_Casual_Shoes', 'Skechers_Relaxed_Fit_Equalizer_40_Persisting_Slip_On_Walking_Shoes_Wide_Width', 'Adidas_Afterburner_7_Molded_Baseball_Cleats', 'Nike_Owaysis_Sport_Sandal', 'Nike_Hoodland_Boots', 'Nike_Revolution_5_Running_Shoes_Wide_Width', 'Nike_Court_Legacy_Canvas_Casual_Shoes', 'Nike_Blazer_Mid_77_Vintage_Christmas_Sweater_Casual_Shoes', 'Nike_Kyrie_Flytrap_4_Basketball_Shoes', 'Adidas_Adilette_Comfort_Slide_Sandals', 'Champion_Ipo_Warped_Slide_Sandals', 'Nike_React_Phantom_Run_Flyknit_2_Running_Shoes', 'Adidas_Originals_Nizza_Casual_Shoes', 'Nike_Air_Zoom_Bb_Nxt_Basketball_Shoes', 'Nike_Air_Max_270_React_Eng_Casual_Shoes', 'Reebok_Classic_Leather_Wonder_Woman_Casual_Shoes', 'Nike_Nikecourt_Vision_Low_Casual_Shoes', 'Nike_Air_Barrage_Low_Training_Shoes', 'Asics_Dynablast_Running_Shoes', 'Nike_Adapt_Auto_Max_Running_Shoes', 'Fila_Mb_Basketball_Shoes', 'Nike_Kyrie_Low_3_Moon_Basketball_Shoes', 'Fila_Fulcrum_3_Casual_Shoes', 'Nike_Lebron_17_Low_Basketball_Shoes_Sizes_35_18', 'Adidas_Solecourt_Boost_X_Parley_Tennis_Shoes', 'Brooks_Adrenaline_Gts_21_Running_Shoes_Wide_Width', 'Adidas_Runfalcon_20_Tr_Running_Shoes', 'Nike_Air_Max_90_Casual_Shoes', 'Adidas_Comfort_Flip_Flop_Thong_Sandals', 'Reebok_X_Minions_Question_Mid_Basketball_Shoes', 'Nike_Air_Max_90_Second_Season_Casual_Shoes', 'Palladium_Pampa_Hi_Sneaker_Boots', 'Adidas_Originals_Zx_1k_Boost_Casual_Shoes', 'Nike_Air_Vapormax_Flyknit_3_Running_Shoes', 'Adidas_Powerlift_4_Training_Shoes', 'Nike_Air_Vapormax_Plus_Shooting_Stars_Running_Shoes', 'Jordan_Fadeaway_Basketball_Shoes', 'Adidas_Originals_Court_Rallye_Slip_On_Casual_Shoes', 'Skechers_Elite_Flex_Wasick_Slip_On_Walking_Shoes_Wide_Width', 'Adidas_Originals_Superstar_Casual_Shoes', 'Air_Jordan_Why_Not_Zer03_Basketball_Shoes', 'Crocs_Tie_Dye_Graphic_Classic_Slide_Sandals', 'Reebok_Classic_Nylon_Casual_Shoes', 'Asics_Gel_Kayano_27_Running_Shoes', 'Converse_Chuck_Taylor_All_Star_High_Top_Casual_Shoes', 'Nike_Blazer_Mid_77_Infinite_Casual_Shoes', 'Nike_Court_Legacy_Leather_Casual_Shoes', 'Reebok_Question_Mid_Boktober_Basketball_Shoes', 'Adidas_Ultraboost_Dna_X_Disney_Running_Shoes', 'Nike_Air_Max_97_Gold_Medal_Casual_Shoes', 'Nike_Air_Max_Iii_Casual_Shoes_Sizes_6_155', 'Puma_Future_Rider_Nes_Casual_Shoes', 'Nike_Air_Tailwind_79_Casual_Shoes', 'Crocs_Classic_Fuzz_Mania_Clog_Shoes', 'Lacoste_Croco_Tri3_Slide_Sandals', 'Timberland_Bradstreet_Ultra_Chukka_Sneaker_Boots', 'Nike_Lebron_18_Low_Basketball_Shoes', 'Reebok_Lite_Plus_2_Running_Shoes', 'Nike_Air_Force_1_Low_Casual_Shoes', 'Nike_Pg_4_Flip_Basketball_Shoes', 'Adidas_Novaflight_Volleyball_Shoes', 'Nike_React_Infinity_Run_Flyknit_Running_Shoes', 'Converse_Chuck_Taylor_All_Star_Digital_Terrain_Cx_High_Top_Casual_Shoes', 'Fila_Memory_Sportland_Casual_Shoes', 'Adidas_Originals_Adilette_Slide_Sandals', 'Jordan_Max_Aura_2_Basketball_Shoes', 'Nike_Air_Max_Ltd_3_Casual_Shoes', 'The_North_Face_Base_Camp_Iii_Slide_Sandals', 'Lacoste_Bayliss_Casual_Shoes', 'Nike_Air_Metal_Max_Casual_Shoes', 'Brooks_Ricochet_3_Running_Shoes', 'Adidas_Originals_Zx_750_Casual_Shoes', 'Adidas_Originals_Nmd_R1_Casual_Shoes', 'Puma_Future_Rider_Galaxy_Casual_Shoes', 'Converse_Chuck_Taylor_All_Star_Neon_Jelly_Buckle_Up_High_Top_Casual_Shoes', 'Nike_Lebron_17_Low_Basketball_Shoes', 'Reebok_Workout_Plus_Casual_Shoes', 'Champion_Varsity_Reflective_Slippers', 'Asics_Gel_Nandi_360_Trail_Running_Shoes', 'Under_Armour_Embiid_One_Basketball_Shoes', 'Nike_Lebron_Soldier_14_Basketball_Shoes_Sizes_35_18', 'Nike_Air_Max_97_Kaomoji_Casual_Shoes', 'Adidas_D_Rose_11_Basketball_Shoes', 'Nike_Roshe_One_Casual_Shoes', 'Asics_Novablast_Running_Shoes', 'Under_Armour_Vantage_Knit_Running_Shoes', 'Lacoste_Hapona_Casual_Shoes', 'Puma_El_Rey_Ii_Perforated_Casual_Shoes', 'Under_Armour_Ignite_Vi_Slide_Sandals', 'Adidas_Adilette_Slide_Sandals', 'Nike_Air_Huarache_Run_Casual_Shoes', 'Puma_Softride_Rift_Training_Shoes', 'Nike_Cortez_Basic_Leather_Se_Casual_Shoes', 'Nike_Air_Max_Exosense_Se_Worldwide_Casual_Shoes', 'Champion_Ipo_Slide_Sandals', 'Nike_Squash_Type_Casual_Shoes', 'Adidas_Originals_Superstar_Pure_Casual_Shoes', 'Adidas_D_Rose_773_2020_Basketball_Shoes', 'Adidas_Dame_7_I_Am_My_Own_Fan_Basketball_Shoes', 'Reebok_Club_C_85_Casual_Shoes', 'Nike_Lebron_Witness_4basketball_Shoes', 'Fila_Expeditioner_Glow_In_The_Dark_Casual_Shoes', 'Nike_Lebron_17_Basketball_Shoes_Sizes_35_18', 'Nike_Air_Max_270_Casual_Shoes', 'Timberland_Warm_Collar_6_Inch_Premium_Waterproof_Boots', 'Nike_Air_Force_1_07_Le_Casual_Shoes', 'Womens_Nike_Daybreak_Casual_Shoes', 'Puma_Future_Rider_Union_Casual_Shoes', 'Nike_Blazer_Mid_77_Suede_Casual_Shoes', 'Nike_Shox_R4_Casual_Shoes', 'Adidas_Originals_Adilette_Lite_Slide_Sandals', 'Nike_Superrep_Go_Training_Shoes', 'Adidas_Originals_Rivalry_Low_Casual_Shoes', 'Nike_Air_Max_2090_Eoi_Casual_Shoes', 'Nike_Air_Cross_Trainer_3_Training_Shoes', 'Nike_Pg_4_Basketball_Shoes', 'Nike_Air_Max_1_Live_Together_Play_Together_Casual_Shoes', 'Reebok_Classic_Leather_Legacy_Casual_Shoes']\n"
     ]
    }
   ],
   "source": [
    "print(new_product)"
   ]
  },
  {
   "cell_type": "code",
   "execution_count": 23,
   "metadata": {
    "scrolled": true
   },
   "outputs": [],
   "source": [
    "def get_all_reviews(file_name):\n",
    "    # this function is the scrawling \n",
    "    with open (file_name, 'a', encoding='utf-8') as f:\n",
    "        description_list = []\n",
    "        jishu = 0\n",
    "        product_jishu = 0\n",
    "        for name in new_product:\n",
    "            for index in range(1, 1000):\n",
    "                browser = webdriver.Firefox()\n",
    "                browser_name = \"https://finishline.ugc.bazaarvoice.com/9345/Men_char39_s_\" + str(name) + \\\n",
    "                \"/reviews.djs?format=embeddedhtml&page=\"+ str(index) +\"&scrollToTop=true\"\n",
    "                print(browser_name)\n",
    "                browser.get(browser_name)\n",
    "                time.sleep(0.99)\n",
    "                bs_obj = BS(browser.page_source.encode('utf-8', 'ignore'), \"html.parser\")\n",
    "                description = bs_obj.get_text()\n",
    "                star_begin = description.split(\"BVRRReviewTextContainer\")[0]\n",
    "                description = description.split(\"BVRRReviewTextContainer\")[1:]\n",
    "\n",
    "                for content in description:\n",
    "                    reviews_list = []\n",
    "                    star_list = []\n",
    "                    title_list = []\n",
    "                    first_star_temp = star_begin.split(\"BVImgOrSprite\")[4]\n",
    "                    first_star = first_star_temp.split(\"reviewRating\")[0]\n",
    "                    if \"BVRRValue BVRRReviewTitle\" in star_begin:\n",
    "                        first_title_temp = star_begin.split(\"BVRRReviewTitleContainer\")[1]\n",
    "                        first_title = first_title_temp.split(\"BVRRLabel BVRRReviewTitleSuffix\")[0]\n",
    "\n",
    "                    star_list.append(first_star)\n",
    "                    if \"BVImgOrSprite\" in content:\n",
    "                        star_temp = content.split(\"BVImgOrSprite\")[1]\n",
    "                        star = star_temp.split(\"reviewRating\")[0]\n",
    "                        star_list.append(star)\n",
    "\n",
    "                    title_list.append(first_title)\n",
    "                    if \"BVRRValue BVRRReviewTitle\" in content:\n",
    "                        title_temp = content.split(\"BVRRValue BVRRReviewTitle\")[1]\n",
    "                        title = title_temp.split(\"BVRRLabel BVRRReviewTitleSuffix\")[0]\n",
    "                        title_list.append(title)\n",
    "\n",
    "                    reviews_temp = content.split(\"BVRRReviewTextPrefix\")[1]\n",
    "                    reviews = reviews_temp.split(\"BVRRReviewTextSuffix\")[0]\n",
    "                    reviews_list.append(reviews)\n",
    "    #                 print(reviews_list)\n",
    "\n",
    "                    f.write(name + \"+-++++++++++++++++++++++++++++++\" + \\\n",
    "                            \"\".join(star_list) + \"+++++++++++++++++++++++++++++++\" + \\\n",
    "                            \"\".join(title_list) + \"-+-+++++++++++++++++++++++++++++++++++++++\" + \\\n",
    "                            \"\".join(reviews_list))\n",
    "                    f.write('\\n')\n",
    "                    f.write(\"****************************************************************************************\")\n",
    "                    f.write('\\n')\n",
    "                    f.flush()\n",
    "                jishu += 1\n",
    "                browser.quit()\n",
    "    #             print(reviews_list)\n",
    "                description_list.append(reviews_list)\n",
    "                print(jishu)\n",
    "    #             print(description_list[jishu-1])\n",
    "                if index >= 2 and description_list[jishu-2] == reviews_list:\n",
    "                    break\n",
    "            product_jishu += 1\n",
    "            print(product_jishu)\n",
    "            f.write('\\n')\n",
    "            f.write(\"$$$$$$$$$$$$$$$$$$$$$$$$$$$$$$$$$$$$$$$$$$$$$$$$$$$$$$$$$$$$$$$$$$$$$$$$$$$$$$$$$$$$$$$$$$$$$$$$$$$$\")\n",
    "            f.write('\\n')\n",
    "            f.flush()"
   ]
  },
  {
   "cell_type": "code",
   "execution_count": 24,
   "metadata": {},
   "outputs": [
    {
     "name": "stdout",
     "output_type": "stream",
     "text": [
      "https://finishline.ugc.bazaarvoice.com/9345/Men_char39_s_Brooks_Revel_4_Running_Shoes/reviews.djs?format=embeddedhtml&page=1&scrollToTop=true\n"
     ]
    },
    {
     "ename": "WebDriverException",
     "evalue": "Message: Reached error page: about:neterror?e=dnsNotFound&u=https%3A//finishline.ugc.bazaarvoice.com/9345/Men_char39_s_Brooks_Revel_4_Running_Shoes/reviews.djs%3Fformat%3Dembeddedhtml%26page%3D1%26scrollToTop%3Dtrue&c=UTF-8&d=%E6%88%91%E4%BB%AC%E6%97%A0%E6%B3%95%E8%BF%9E%E6%8E%A5%E8%87%B3%20finishline.ugc.bazaarvoice.com%20%E7%9A%84%E6%9C%8D%E5%8A%A1%E5%99%A8%E3%80%82\n",
     "output_type": "error",
     "traceback": [
      "\u001b[1;31m---------------------------------------------------------------------------\u001b[0m",
      "\u001b[1;31mWebDriverException\u001b[0m                        Traceback (most recent call last)",
      "\u001b[1;32m<ipython-input-24-132821204e8b>\u001b[0m in \u001b[0;36m<module>\u001b[1;34m\u001b[0m\n\u001b[1;32m----> 1\u001b[1;33m \u001b[0mget_all_reviews\u001b[0m\u001b[1;33m(\u001b[0m\u001b[1;34m\"H:/Data/2021_Raw_review.txt\"\u001b[0m\u001b[1;33m)\u001b[0m\u001b[1;33m\u001b[0m\u001b[1;33m\u001b[0m\u001b[0m\n\u001b[0m",
      "\u001b[1;32m<ipython-input-23-b45a1a4d826a>\u001b[0m in \u001b[0;36mget_all_reviews\u001b[1;34m(file_name)\u001b[0m\n\u001b[0;32m     11\u001b[0m                 \u001b[1;34m\"/reviews.djs?format=embeddedhtml&page=\"\u001b[0m\u001b[1;33m+\u001b[0m \u001b[0mstr\u001b[0m\u001b[1;33m(\u001b[0m\u001b[0mindex\u001b[0m\u001b[1;33m)\u001b[0m \u001b[1;33m+\u001b[0m\u001b[1;34m\"&scrollToTop=true\"\u001b[0m\u001b[1;33m\u001b[0m\u001b[1;33m\u001b[0m\u001b[0m\n\u001b[0;32m     12\u001b[0m                 \u001b[0mprint\u001b[0m\u001b[1;33m(\u001b[0m\u001b[0mbrowser_name\u001b[0m\u001b[1;33m)\u001b[0m\u001b[1;33m\u001b[0m\u001b[1;33m\u001b[0m\u001b[0m\n\u001b[1;32m---> 13\u001b[1;33m                 \u001b[0mbrowser\u001b[0m\u001b[1;33m.\u001b[0m\u001b[0mget\u001b[0m\u001b[1;33m(\u001b[0m\u001b[0mbrowser_name\u001b[0m\u001b[1;33m)\u001b[0m\u001b[1;33m\u001b[0m\u001b[1;33m\u001b[0m\u001b[0m\n\u001b[0m\u001b[0;32m     14\u001b[0m                 \u001b[0mtime\u001b[0m\u001b[1;33m.\u001b[0m\u001b[0msleep\u001b[0m\u001b[1;33m(\u001b[0m\u001b[1;36m0.99\u001b[0m\u001b[1;33m)\u001b[0m\u001b[1;33m\u001b[0m\u001b[1;33m\u001b[0m\u001b[0m\n\u001b[0;32m     15\u001b[0m                 \u001b[0mbs_obj\u001b[0m \u001b[1;33m=\u001b[0m \u001b[0mBS\u001b[0m\u001b[1;33m(\u001b[0m\u001b[0mbrowser\u001b[0m\u001b[1;33m.\u001b[0m\u001b[0mpage_source\u001b[0m\u001b[1;33m.\u001b[0m\u001b[0mencode\u001b[0m\u001b[1;33m(\u001b[0m\u001b[1;34m'utf-8'\u001b[0m\u001b[1;33m,\u001b[0m \u001b[1;34m'ignore'\u001b[0m\u001b[1;33m)\u001b[0m\u001b[1;33m,\u001b[0m \u001b[1;34m\"html.parser\"\u001b[0m\u001b[1;33m)\u001b[0m\u001b[1;33m\u001b[0m\u001b[1;33m\u001b[0m\u001b[0m\n",
      "\u001b[1;32mL:\\Anaconda\\lib\\site-packages\\selenium\\webdriver\\remote\\webdriver.py\u001b[0m in \u001b[0;36mget\u001b[1;34m(self, url)\u001b[0m\n\u001b[0;32m    331\u001b[0m         \u001b[0mLoads\u001b[0m \u001b[0ma\u001b[0m \u001b[0mweb\u001b[0m \u001b[0mpage\u001b[0m \u001b[1;32min\u001b[0m \u001b[0mthe\u001b[0m \u001b[0mcurrent\u001b[0m \u001b[0mbrowser\u001b[0m \u001b[0msession\u001b[0m\u001b[1;33m.\u001b[0m\u001b[1;33m\u001b[0m\u001b[1;33m\u001b[0m\u001b[0m\n\u001b[0;32m    332\u001b[0m         \"\"\"\n\u001b[1;32m--> 333\u001b[1;33m         \u001b[0mself\u001b[0m\u001b[1;33m.\u001b[0m\u001b[0mexecute\u001b[0m\u001b[1;33m(\u001b[0m\u001b[0mCommand\u001b[0m\u001b[1;33m.\u001b[0m\u001b[0mGET\u001b[0m\u001b[1;33m,\u001b[0m \u001b[1;33m{\u001b[0m\u001b[1;34m'url'\u001b[0m\u001b[1;33m:\u001b[0m \u001b[0murl\u001b[0m\u001b[1;33m}\u001b[0m\u001b[1;33m)\u001b[0m\u001b[1;33m\u001b[0m\u001b[1;33m\u001b[0m\u001b[0m\n\u001b[0m\u001b[0;32m    334\u001b[0m \u001b[1;33m\u001b[0m\u001b[0m\n\u001b[0;32m    335\u001b[0m     \u001b[1;33m@\u001b[0m\u001b[0mproperty\u001b[0m\u001b[1;33m\u001b[0m\u001b[1;33m\u001b[0m\u001b[0m\n",
      "\u001b[1;32mL:\\Anaconda\\lib\\site-packages\\selenium\\webdriver\\remote\\webdriver.py\u001b[0m in \u001b[0;36mexecute\u001b[1;34m(self, driver_command, params)\u001b[0m\n\u001b[0;32m    319\u001b[0m         \u001b[0mresponse\u001b[0m \u001b[1;33m=\u001b[0m \u001b[0mself\u001b[0m\u001b[1;33m.\u001b[0m\u001b[0mcommand_executor\u001b[0m\u001b[1;33m.\u001b[0m\u001b[0mexecute\u001b[0m\u001b[1;33m(\u001b[0m\u001b[0mdriver_command\u001b[0m\u001b[1;33m,\u001b[0m \u001b[0mparams\u001b[0m\u001b[1;33m)\u001b[0m\u001b[1;33m\u001b[0m\u001b[1;33m\u001b[0m\u001b[0m\n\u001b[0;32m    320\u001b[0m         \u001b[1;32mif\u001b[0m \u001b[0mresponse\u001b[0m\u001b[1;33m:\u001b[0m\u001b[1;33m\u001b[0m\u001b[1;33m\u001b[0m\u001b[0m\n\u001b[1;32m--> 321\u001b[1;33m             \u001b[0mself\u001b[0m\u001b[1;33m.\u001b[0m\u001b[0merror_handler\u001b[0m\u001b[1;33m.\u001b[0m\u001b[0mcheck_response\u001b[0m\u001b[1;33m(\u001b[0m\u001b[0mresponse\u001b[0m\u001b[1;33m)\u001b[0m\u001b[1;33m\u001b[0m\u001b[1;33m\u001b[0m\u001b[0m\n\u001b[0m\u001b[0;32m    322\u001b[0m             response['value'] = self._unwrap_value(\n\u001b[0;32m    323\u001b[0m                 response.get('value', None))\n",
      "\u001b[1;32mL:\\Anaconda\\lib\\site-packages\\selenium\\webdriver\\remote\\errorhandler.py\u001b[0m in \u001b[0;36mcheck_response\u001b[1;34m(self, response)\u001b[0m\n\u001b[0;32m    240\u001b[0m                 \u001b[0malert_text\u001b[0m \u001b[1;33m=\u001b[0m \u001b[0mvalue\u001b[0m\u001b[1;33m[\u001b[0m\u001b[1;34m'alert'\u001b[0m\u001b[1;33m]\u001b[0m\u001b[1;33m.\u001b[0m\u001b[0mget\u001b[0m\u001b[1;33m(\u001b[0m\u001b[1;34m'text'\u001b[0m\u001b[1;33m)\u001b[0m\u001b[1;33m\u001b[0m\u001b[1;33m\u001b[0m\u001b[0m\n\u001b[0;32m    241\u001b[0m             \u001b[1;32mraise\u001b[0m \u001b[0mexception_class\u001b[0m\u001b[1;33m(\u001b[0m\u001b[0mmessage\u001b[0m\u001b[1;33m,\u001b[0m \u001b[0mscreen\u001b[0m\u001b[1;33m,\u001b[0m \u001b[0mstacktrace\u001b[0m\u001b[1;33m,\u001b[0m \u001b[0malert_text\u001b[0m\u001b[1;33m)\u001b[0m\u001b[1;33m\u001b[0m\u001b[1;33m\u001b[0m\u001b[0m\n\u001b[1;32m--> 242\u001b[1;33m         \u001b[1;32mraise\u001b[0m \u001b[0mexception_class\u001b[0m\u001b[1;33m(\u001b[0m\u001b[0mmessage\u001b[0m\u001b[1;33m,\u001b[0m \u001b[0mscreen\u001b[0m\u001b[1;33m,\u001b[0m \u001b[0mstacktrace\u001b[0m\u001b[1;33m)\u001b[0m\u001b[1;33m\u001b[0m\u001b[1;33m\u001b[0m\u001b[0m\n\u001b[0m\u001b[0;32m    243\u001b[0m \u001b[1;33m\u001b[0m\u001b[0m\n\u001b[0;32m    244\u001b[0m     \u001b[1;32mdef\u001b[0m \u001b[0m_value_or_default\u001b[0m\u001b[1;33m(\u001b[0m\u001b[0mself\u001b[0m\u001b[1;33m,\u001b[0m \u001b[0mobj\u001b[0m\u001b[1;33m,\u001b[0m \u001b[0mkey\u001b[0m\u001b[1;33m,\u001b[0m \u001b[0mdefault\u001b[0m\u001b[1;33m)\u001b[0m\u001b[1;33m:\u001b[0m\u001b[1;33m\u001b[0m\u001b[1;33m\u001b[0m\u001b[0m\n",
      "\u001b[1;31mWebDriverException\u001b[0m: Message: Reached error page: about:neterror?e=dnsNotFound&u=https%3A//finishline.ugc.bazaarvoice.com/9345/Men_char39_s_Brooks_Revel_4_Running_Shoes/reviews.djs%3Fformat%3Dembeddedhtml%26page%3D1%26scrollToTop%3Dtrue&c=UTF-8&d=%E6%88%91%E4%BB%AC%E6%97%A0%E6%B3%95%E8%BF%9E%E6%8E%A5%E8%87%B3%20finishline.ugc.bazaarvoice.com%20%E7%9A%84%E6%9C%8D%E5%8A%A1%E5%99%A8%E3%80%82\n"
     ]
    }
   ],
   "source": [
    "get_all_reviews(\"H:/Data/2021_Raw_review.txt\")"
   ]
  },
  {
   "cell_type": "code",
   "execution_count": null,
   "metadata": {},
   "outputs": [],
   "source": []
  }
 ],
 "metadata": {
  "kernelspec": {
   "display_name": "Python 3",
   "language": "python",
   "name": "python3"
  },
  "language_info": {
   "codemirror_mode": {
    "name": "ipython",
    "version": 3
   },
   "file_extension": ".py",
   "mimetype": "text/x-python",
   "name": "python",
   "nbconvert_exporter": "python",
   "pygments_lexer": "ipython3",
   "version": "3.7.3"
  }
 },
 "nbformat": 4,
 "nbformat_minor": 4
}
