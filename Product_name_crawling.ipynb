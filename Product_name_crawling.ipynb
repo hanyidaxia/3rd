{
 "cells": [
  {
   "cell_type": "code",
   "execution_count": 3,
   "metadata": {},
   "outputs": [],
   "source": [
    "# class find_product_name:\n",
    "import selenium\n",
    "import time\n",
    "from selenium import webdriver\n",
    "from bs4 import BeautifulSoup as BS\n",
    "from selenium.webdriver.chrome.options import Options\n",
    "import sys\n",
    "import pickle\n",
    "import pandas as pd\n",
    "from collections import Counter\n",
    "import numpy as np\n",
    "\n",
    "\n",
    "def find_all_products(file_name):\n",
    "    # this step is get the product links from the previous file  \n",
    "    with open(file_name, \"r\") as x:\n",
    "        all_product = x.read().splitlines()\n",
    "        product_name = []\n",
    "        for i in all_product:\n",
    "            i = i.strip('\\n')\n",
    "            all_set = set(all_product)\n",
    "            all_product = list(all_set)\n",
    "        for j in all_product:\n",
    "            j = j.split('/')[3]\n",
    "            product_name.append(j)\n",
    "        name_all_set = set(product_name)\n",
    "        name_all_product = list(name_all_set)\n",
    "    return name_all_product\n",
    "\n",
    "def got_product_name(file_name):\n",
    "    # this function is looking for the descriptions of each unique product\n",
    "    with open (file_name, 'w', encoding='utf-8') as f:\n",
    "        item = 0\n",
    "        for name in all_product:\n",
    "            browser = webdriver.Firefox()\n",
    "            item += 1\n",
    "            print(name)\n",
    "            print(item)\n",
    "            product_name = name.split('/')[3]\n",
    "            browser_name = \"https://www.finishline.com\" + name\n",
    "            browser.get(browser_name)\n",
    "            time.sleep(30)\n",
    "            bs_obj = BS(browser.page_source.encode('utf-8', 'ignore'), \"html.parser\")\n",
    "            description = bs_obj.findAll(\"div\", {\"class\":\"column small-12\"})  \n",
    "            for i in description:\n",
    "            #       print(i.find_all(\"li\"))\n",
    "    #                 product_name_description[product_name] = [i.find_all(\"li\")]\n",
    "                details = \"\".join(i.stripped_strings)\n",
    "                f.write(product_name + \"===\" + repr(details))\n",
    "                f.write('\\n')\n",
    "                f.write(\"*****************************************************************\")\n",
    "                f.flush()\n",
    "                browser.quit()\n",
    "                \n",
    "                \n",
    "def get_product_description(file_name):\n",
    "    \n",
    "\n",
    "#         return"
   ]
  },
  {
   "cell_type": "code",
   "execution_count": 4,
   "metadata": {},
   "outputs": [],
   "source": [
<<<<<<< HEAD
    "all_name = find_all_products('/media/jade/yi_Data/Data/new_product_names_4.txt')"
=======
    "all_name = find_all_products('H:/Data/2021_product_names.txt')"
>>>>>>> origin/main
   ]
  },
  {
   "cell_type": "code",
   "execution_count": 5,
   "metadata": {},
   "outputs": [
    {
     "name": "stdout",
     "output_type": "stream",
     "text": [
      "['mens-nike-air-zoom-type-se-running-shoes', 'mens-nike-air-max-90-leather-casual-shoes', 'mens-nike-air-max-95-lv8-casual-shoes', 'mens-nike-air-force-1-07-le-casual-shoes', 'mens-nike-drop-type-casual-shoes', 'mens-brooks-glycerin-19-running-shoes', 'mens-nike-sky-force-three-quarter-casual-shoes', 'mens-puma-el-rey-ii-perforated-casual-shoes', 'mens-champion-varsity-reflective-slippers', 'adidas-pro-model-2g-low-basketball-shoes', 'mens-puma-el-rey-ii-slip-on-casual-shoes', 'mens-puma-super-levitate-running-shoes', 'mens-adidas-terrex-swift-r2-gore-tex-hiking-shoes', 'mens-reebok-zig-kinetica-ii-running-shoes', 'mens-nike-air-max-infinity-2-casual-shoes', 'nike-air-penny-5-basketball-shoes', 'mens-nike-air-force-1-07-lv8-recycled-felt-casual-shoes', 'mens-nike-challenger-og-casual-shoes', 'mens-puma-rs-fast-intl-casual-shoes', 'crocs-classic-tie-dye-graphic-lined-clog-shoes', 'mens-adidas-adilette-printed-comfort-slide-sandals', 'mens-nike-court-legacy-leather-casual-shoes', 'nike-lebron-17-low-basketball-shoes-sizes-35---18', 'mens-adidas-originals-adilette-slide-sandals', 'mens-nike-benassi-jdi-slide-sandals', 'mens-adidas-duramo-sl-running-shoes', 'mens-adidas-ultraboost-50-dna-running-shoes', 'mens-nike-air-max-90-casual-shoes', 'mens-jordan-fadeaway-basketball-shoes', 'mens-brooks-revel-4-running-shoes', 'mens-puma-mirage-tech-core-casual-shoes', 'mens-champion-rally-crossover-casual-shoes', 'adidas-d-rose-773-2020-basketball-shoes', 'mens-nike-air-max-exosense-se-worldwide-casual-shoes', 'converse-pro-leather-birth-of-flight-high-top-casual-shoes', 'crocs-classic-clog-shoes', 'mens-nike-air-max-plus-3-casual-shoes', 'mens-puma-roma-basic-gum-casual-shoes', 'mens-puma-super-liga-og-retro-casual-shoes', 'mens-nike-blazer-mid-77-vintage-casual-shoes', 'mens-adidas-runfalcon-20-tr-running-shoes', 'air-jordan-why-not-zer03-basketball-shoes', 'mens-lacoste-hapona-casual-shoes', 'nike-kyrie-7-basketball-shoes', 'mens-nike-dbreak-type-se-casual-shoes', 'mens-nike-air-monarch-iv-training-shoes-wide-width-4e', 'under-armour-curry-8-basketball-shoes', 'mens-timberland-premium-roll-top-boots', 'mens-asics-gel-nandi-360-trail-running-shoes', 'mens-adidas-courtjam-bounce-tennis-shoes', 'mens-adidas-adilette-comfort-slide-sandals', 'mens-asics-gel-lyte-iii-casual-shoes', 'mens-puma-future-rider-core-casual-shoes', 'reebok-club-c-coast-casual-shoes', 'mens-puma-el-rey-ii-casual-shoes', 'mens-adidas-terrex-ax3-gore-tex-hiking-shoes', 'crocs-classic-out-of-this-world-clog-shoes', 'mens-nike-ultra-comfort-3-slide-sandals', 'nike-air-max-iii-casual-shoes', 'mens-adidas-adilette-clog-shoes', 'mens-adidas-nmd-r1-v2-quilted-casual-shoes', 'mens-adidas-adipower-weightlifting-2-training-shoes', 'mens-nike-air-max-1-casual-shoes', 'mens-adidas-ultra-boost-dna-cny-running-shoes', 'nike-pg-4-basketball-shoes', 'mens-puma-future-rider-play-on-fairgrounds-casual-shoes', 'mens-nike-air-max-720-se-running-shoes', 'crocs-classic-animal-print-clog-shoes', 'mens-lacoste-fraisier-slide-sandals', 'mens-adidas-x-nasa-ultraboost-50-dna-running-shoes', 'nike-air-zoom-bb-nxt-basketball-shoes', 'adidas-originals-delpala-casual-shoes', 'nike-pg-4-flip-basketball-shoes', 'mens-converse-pro-leather-high-top-casual-shoes', 'mens-air-max-90-se-worldwide-casual-shoes', 'mens-reebok-classic-leather-gum-casual-shoes', 'mens-adidas-multix-running-shoes', 'mens-oofos-ooahh-slide-sandals', 'mens-adidas-response-sr-running-shoes', 'womens-champion-ipo-tie-dye-slide-sandals', 'adidas-n3xt-l3v3l-2020-basketball-shoes', 'mens-nike-air-max-exosense-casual-shoes', 'mens-jordan-pro-rx-basketball-shoes', 'mens-adidas-originals-stan-smith-with-swarovski-crystals-casual-shoes', 'mens-nike-air-max-95-essential-casual-shoes', 'reebok-lite-plus-2-running-shoes', 'mens-lacoste-storda-casual-shoes', 'mens-nike-react-phantom-run-flyknit-2-running-shoes', 'jordan-westbrook-one-take-basketball-shoes', 'nike-blazer-mid-77-infinite-casual-shoes', 'mens-new-balance-x-jolly-rancher-kawhi-1-basketball-shoes', 'mens-adidas-grand-court-se-casual-shoes', 'mens-adidas-ultraboost-50-uncaged-dna-running-shoes', 'mens-nike-air-vapormax-plus-running-shoes', 'mens-brooks-ricochet-3-running-shoes', 'mens-skechers-delson---camben-casual-walking-shoes', 'mens-asics-gel-lyte-iii-og-casual-shoes', 'mens-adidas-originals-seeley-casual-shoes', 'mens-reebok-club-c-85-vintage-casual-shoes', 'mens-new-balance-501-outdoor-ripple-casual-shoes', 'mens-adidas-box-hog-3-boxing-shoes', 'mens-nike-air-max-270-react-casual-shoes', 'reebok-zig-elusion-energy-running-shoes', 'mens-under-armour-project-rock-bsr-training-shoes', 'mens-adidas-originals-nmd-r1-v2-casual-shoes', 'mens-fila-mb-basketball-shoes', 'mens-lacoste-match-break-casual-shoes', 'mens-reebok-classic-nylon-casual-shoes', 'mens-nike-air-max-vg-r-casual-shoes', 'mens-adidas-originals-swift-run-x-casual-shoes', 'mens-reebok-club-c-85-casual-shoes', 'mens-nike-air-vapormax-2020-flyknit-running-shoes', 'crocs-tie-dye-graphic-classic-slide-sandals', 'mens-new-balance-fresh-foam-1080v11-running-shoes', 'mens-nike-air-max-axis-casual-shoes', 'mens-adidas-stycon-laceless-hardcourt-tennis-shoes', 'nike-free-metcon-3-training-shoes', 'nike-kyrie-6-team-basketball-shoes', 'mens-asics-gel-lyte-xxx-running-shoes', 'mens-adidas-baseball-adizero-afterburner-turf-shoes', 'mens-puma-softride-rift-training-shoes', 'mens-adidas-terrex-agravic-tr-trail-running-shoes', 'mens-nike-mx-720-818-running-shoes', 'crocs-classic-lined-clog-shoes', 'mens-champion-university-script-slippers', 'nike-blazer-mid-77-patch-casual-shoes', 'adidas-harden-stepback-2-basketball-shoes', 'mens-nike-cortez-basic-leather-casual-shoes', 'adidas-d-rose-11-basketball-shoes', 'nike-adapt-auto-max-running-shoes', 'unisex-asics-gel-bondal-athletic-sandals', 'mens-jordan-zoom-92-basketball-shoes', 'mens-timberland-mt-maddsen-mid-waterproof-hiking-boots', 'mens-nike-superrep-go-training-shoes', 'mens-new-balance-x-jolly-rancher-slide-sandals', 'reebok-classic-leather-wonder-woman-casual-shoes', 'crocs-classic-tie-dye-graphic-clog-shoes', 'mens-nike-air-vapormax-flyknit-3-running-shoes', 'mens-nike-air-max-2090-casual-shoes', 'mens-puma-future-rider-dystopia-casual-shoes', 'adidas-dame-7-i-am-my-own-fan-basketball-shoes', 'adidas-originals-nizza-rf-casual-shoes', 'mens-champion-ipo-warped-slide-sandals', 'mens-adidas-alphabounce-running-shoes', 'mens-puma-future-rider-play-on-casual-shoes', 'air-jordan-retro-1-low-casual-shoes', 'mens-nike-pegasus-trail-2-gore-tex-running-shoes', 'mens-nike-excee-casual-shoes', 'mens-reebok-classic-leather-glow-casual-shoes', 'nike-hoodland-boots', 'mens-adidas-essentials-adilette-comfort-adjustable-slide-sandals', 'mens-adidas-terrex-trailmaker-hiking-shoes', 'nike-kyrie-flytrap-4-basketball-shoes', 'adidas-harden-vol-5-basketball-shoes', 'jordan-max-aura-2-basketball-shoes', 'mens-adidas-ownthegame-basketball-shoes', 'mens-adidas-solecourt-boost-x-parley-tennis-shoes', 'nike-pg-4-team-basketball-shoes', 'mens-brooks-adrenaline-gts-21-running-shoes', 'mens-adidas-essentials-adilette-boost-slide-sandals', 'converse-x-roswell-rayguns-chuck-70-high-top-casual-shoes', 'mens-lacoste-croco-tri3-slide-sandals', 'crocs-classic-slide-sandals', 'mens-asics-gel-lyte-classic-casual-shoes', 'nike-react-presto-flyknit-running-shoes', 'mens-reebok-question-mid-boktober-basketball-shoes', 'mens-adidas-stabil-next-gen-training-shoes', 'nike-air-max-97-gold-medal-casual-shoes', 'mens-puma-future-rider-nes-casual-shoes', 'under-armour-project-rock-3-training-shoes', 'mens-oofos-ooriginal-thong-sandals', 'mens-the-north-face-back-to-berkeley-mid-waterproof-boots', 'mens-puma-rs-20-core-casual-shoes', 'nike-air-max-iii-casual-shoes-sizes-6---155', 'mens-champion-ipo-doodle-slide-sandals', 'mens-nike-roshe-one-casual-shoes', 'mens-adidas-solematch-bounce-tokyo-tennis-shoes', 'mens-timberland-warm-collar-6-inch-premium-waterproof-boots', 'mens-nike-air-monarch-iv-training-shoes', 'mens-nike-air-max-95-qs-casual-shoes', 'mens-nike-air-metal-max-casual-shoes', 'mens-adidas-ultraboost-20-running-shoes', 'mens-puma-rs-20-future-casual-shoes', 'mens-adidas-terrex-free-hiker-gore-tex-hiking-shoes', 'mens-adidas-court-team-bounce-indoor-tennis-shoes', 'mens-nike-air-max-270-react-eng-casual-shoes', 'mens-adidas-afterburner-7-molded-baseball-cleats', 'mens-adidas-adizero-ubersonic-4-tokyo-tennis-shoes', 'adidas-pro-boost-low-basketball-shoes', 'mens-timberland-6-inch-premium-waterproof-boots', 'nike-kyrie-6-basketball-shoes', 'mens-nike-air-zoom-tempo-next-running-shoes', 'mens-puma-future-rider-interstellar-casual-shoes', 'mens-puma-future-rider-eat-ur-veggies-casual-shoes', 'mens-adidas-lite-racer-adapt-3-running-shoes', 'mens-adidas-originals-x-nasa-nmd-r1-spectoo-casual-shoes', 'mens-fila-massaggio-slide-sandals', 'mens-puma-axelion-perf-training-shoes', 'mens-adidas-originals-superstar-casual-shoes', 'mens-adidas-adilette-cloudfoam-plus-slide-sandals', 'mens-adidas-climacool-vento-running-shoes', 'mens-nike-air-zoom-pegasus-37-running-shoes', 'adidas-originals-nizza-casual-shoes', 'mens-asics-gel-cumulus-22-running-shoes', 'reebok-x-kung-fu-panda-instapump-fury-casual-shoes', 'mens-nike-renew-run-running-shoes', 'mens-adidas-x90004d-running-shoes', 'mens-adidas-originals-superstar-canvas-casual-shoes', 'mens-adidas-originals-samba-leather-casual-shoes', 'mens-adidas-duramo-sl-sport-sandals', 'nike-shox-r4-casual-shoes', 'mens-adidas-ultraboost-winterrdy-dna-running-shoes', 'mens-adidas-originals-adilette-lite-slide-sandals', 'mens-champion-ipo-camo-slide-sandals', 'mens-puma-ralph-sampson-vulc-casual-shoes', 'nike-lebron-18-low-basketball-shoes', 'puma-clyde-all-pro-basketball-shoes', 'mens-puma-future-rider-am-casual-shoes', 'mens-nike-react-sertu-running-shoes', 'mens-puma-x-emoji-rs-fast-casual-shoes', 'mens-asics-novablast-running-shoes', 'mens-reebok-x-minions-club-c-casual-shoes', 'mens-adidas-ultraboost-dna-x-disney-running-shoes', 'mens-puma-style-rider-casual-shoes', 'mens-puma-ralph-sampson-lo-casual-shoes', 'mens-reebok-classic-leather-casual-shoes', 'mens-asics-gt-2000-9-running-shoes', 'new-balance-x-jaden-smith-vision-racer-casual-shoes', 'mens-adidas-adilette-slide-sandals', 'mens-reebok-x-minions-question-mid-basketball-shoes', 'mens-adidas-originals-court-rallye-slip-on-casual-shoes', 'mens-nike-air-zoom-type-running-shoes', 'mens-reebok-kamikaze-ii-basketball-shoes', 'mens-adidas-ultraboost-21-running-shoes', 'mens-adidas-novaflight-volleyball-shoes', 'mens-puma-suede-classic-21-casual-shoes', 'mens-reebok-workout-plus-casual-shoes', 'mens-skechers-elite-flex---wasick-slip-on-walking-shoes-wide-width', 'mens-timberland-retro-6-inch-premium-waterproof-boots', 'mens-adidas-adilette-comfort-adjustable-slide-sandals', 'mens-nike-victori-one-slide-sandals', 'mens-timberland-field-mid-waterproof-boots', 'crocs-classic-fuzz-mania-clog-shoes', 'nike-lebron-soldier-14-basketball-shoes-sizes-35---18', 'mens-nike-air-max-2x-running-shoes', 'mens-asics-kickslab-x-gel-lyte-v-klshogun-casual-shoes', 'mens-puma-axelion-training-shoes', 'nike-lebron-18-basketball-shoes', 'mens-nike-blazer-mid-77-vintage-recycled-felt-casual-shoes', 'mens-nike-air-max-2015-running-shoes', 'champion-ipo-mega-script-slide-sandals', 'mens-new-balance-515-casual-shoes', 'mens-fila-memory-sportland-casual-shoes', 'mens-puma-roma-international-games-casual-shoes', 'champion-ipo-slide-sandals', 'reebok-nano-x-pride-running-shoes', 'mens-nike-air-cross-trainer-3-training-shoes', 'mens-palladium-pampa-hi-sneaker-boots', 'mens-nike-zoom-fly-3-running-shoes', 'mens-adidas-adilette-shower-slide-sandals', 'mens-adidas-ultraboost-40-dna-running-shoes', 'mens-adidas-4d-fusio-running-shoes', 'mens-champion-rally-future-mid-casual-shoes', 'mens-under-armour-project-rock-slide-sandals', 'mens-nike-react-miler-running-shoes', 'nike-lebron-17-basketball-shoes-sizes-35---18', 'mens-nike-blazer-mid-77-suede-casual-shoes', 'mens-adidas-terrex-free-hiker-primeblue-hiking-shoes', 'nike-zoom-freak-2-pe-basketball-shoes', 'mens-champion-sleepover-slippers', 'nike-mamba-fury-basketball-shoes', 'mens-nike-air-max-97-casual-shoes', 'mens-lacoste-croco-119-slide-sandals', 'converse-chuck-taylor-all-star-digital-terrain-ripstop-high-top-casual-shoes', 'mens-nike-cortez-basic-premium-recycled-canvas-casual-shoes', 'mens-converse-pro-leather-peace-love-and-basketball-high-top-casual-shoes', 'mens-k-swiss-court-casper-casual-shoes', 'nike-lebron-witness-4basketball-shoes', 'mens-skechers-relaxed-fit-equalizer-40---persisting-slip-on-walking-shoes-wide-width', 'mens-nike-owaysis-sport-sandal', 'mens-under-armour-vantage-knit-running-shoes', 'mens-nike-court-legacy-canvas-casual-shoes', 'mens-nike-renew-run-2-running-shoes', 'converse-chuck-taylor-all-star-low-top-casual-shoes', 'mens-adidas-stabil-next-gen-primeknit-handball-shoes', 'mens-nike-air-max-1-recycled-casual-shoes', 'nike-x-roswell-rayguns-air-force-1-lv8-1-casual-shoes', 'mens-nike-metcon-sport-training-shoes', 'mens-reebok-classic-leather-collegiate-casual-shoes', 'nike-blazer-mid-77-vintage-christmas-sweater-casual-shoes', 'mens-nike-air-force-1-high-07-casual-shoes', 'mens-puma-future-rider-double-byzantium-casual-shoes', 'mens-nike-space-hippie-04-casual-shoes', 'mens-jordan-zoom-trunner-ultimate-running-shoes', 'mens-nike-air-force-1-07-lv8-shooting-stars-casual-shoes', 'reebok-club-c-wool--corn-casual-shoes', 'mens-adidas-runfalcon-20-running-shoes', 'mens-nike-react-infinity-run-flyknit-2-running-shoes', 'mens-lacoste-misano-strap-casual-shoes', 'mens-puma-future-rider-neon-play-casual-shoes', 'mens-adidas-powerlift-4-training-shoes', 'reebok-x-kung-fu-panda-club-c-85-casual-shoes', 'mens-nike-air-max-excee-casual-shoes', 'nike-air-max-2090-eoi-casual-shoes', 'mens-nike-victori-one-print-slide-sandals', 'mens-adidas-originals-swift-run-running-shoes', 'mens-new-balance-990v5-casual-shoes', 'mens-nike-air-barrage-low-training-shoes', 'mens-puma-rs-fast-am-casual-shoes', 'mens-adidas-originals-xplr-casual-shoes', 'mens-timberland-white-ledge-mid-waterproof-hiking-boots', 'mens-adidas-fluidflow-20-running-shoes', 'reebok-x-hot-ones-classic-leather-legacy-casual-shoes', 'mens-reebok-classic-leather-legacy-street-sleigh-casual-shoes', 'mens-reebok-instapump-fury-og-casual-shoes', 'mens-converse-chuck-taylor-all-star-neon-jelly-buckle-up-high-top-casual-shoes', 'mens-nike-air-vapormax-360-running-shoes', 'mens-nike-air-force-1-07-lv8-iridescent-pixel-casual-shoes', 'mens-adidas-supernova-winterrdy-running-shoes', 'mens-adidas-originals-stan-smith-casual-shoes', 'mens-the-north-face-base-camp-iii-slide-sandals', 'mens-converse-chuck-taylor-all-star-street-mid-casual-shoes', 'mens-nike-air-max-95-recycled-felt-casual-shoes', 'nike-lebron-17-low-basketball-shoes', 'mens-adidas-apac-halo-multicourt-tennis-shoes', 'mens-adidas-essentials-adilette-cloudfoam-slide-sandals', 'mens-nike-court-royale-2-mid-casual-shoes', 'mens-nike-air-max-zm950-casual-shoes', 'mens-puma-rs-x-move-casual-shoes', 'nike-manoa-leather-boots', 'mens-asics-dynablast-running-shoes', 'mens-puma-style-rider-warm-texture-casual-shoes', 'mens-adidas-alphatorsion-running-shoes', 'mens-adidas-x9000l4-running-shoes', 'mens-nike-air-zoom-type-recycled-felt-running-shoes', 'mens-reebok-zig-kinetica-edge-running-shoes', 'mens-asics-tiger-runner-casual-shoes', 'mens-adidas-ultra-4d-50-running-shoes', 'mens-adidas-originals-nmd-r1-casual-shoes', 'mens-nike-kd13-team-basketball-shoes', 'mens-nike-air-vapormax-plus-shooting-stars-running-shoes', 'mens-nike-challenger-og-peace-love-and-basketball-casual-shoes', 'danner-mountain-600-hiking-boots', 'mens-new-balance-574-casual-shoes', 'mens-nike-revolution-5-running-shoes', 'mens-adidas-originals-nmd-r1-trail-running-shoes', 'champion-ipo-repeat-slide-sandals', 'mens-reebok-liquifect-180-running-shoes', 'mens-fila-disruptor-2-nyc-casual-shoes', 'mens-adidas-originals-zx-750-casual-shoes', 'mens-converse-chuck-70-peace-love-and-basketball-high-top-casual-shoes', 'mens-nike-air-max-1-live-together-play-together-casual-shoes', 'mens-reebok-ex-o-fit-hi-casual-shoes', 'mens-adidas-terrex-trailmaker-mid-gore-tex-hiking-shoes', 'mens-nike-air-tailwind-79-casual-shoes', 'mens-puma-future-rider-intl-game-casual-shoes', 'mens-nike-air-force-1-mid-casual-shoes', 'jordan-jumpman-2021-basketball-shoes', 'mens-asics-gel-nimbus-23-running-shoes', 'mens-reebok-zig-kinetica-running-shoes', 'mens-nike-react-vision-running-shoes', 'mens-adidas-originals-top-ten-hi-casual-shoes', 'adidas-dame-7-basketball-shoes', 'mens-adidas-originals-zx-2k-4d-running-shoes', 'nike-zoom-freak-2-basketball-shoes', 'mens-puma-roma-basic-casual-shoes', 'adidas-pro-model-2g-basketball-shoes', 'nike-kyrie-low-3-moon-basketball-shoes', 'mens-adidas-supernova-running-shoes', 'adidas-don-issue-2-basketball-shoes', 'mens-asics-gel-kayano-27-running-shoes', 'mens-nike-pegasus-trail-2-trail-running-shoes', 'mens-nike-air-force-1-low-casual-shoes', 'mens-nike-tanjun-casual-shoes', 'mens-reebok-classic-leather-vintage-casual-shoes', 'mens-nike-nikecourt-vision-low-casual-shoes', 'mens-adidas-gamecourt-tennis-shoes', 'mens-nike-react-infinity-run-flyknit-running-shoes', 'mens-fila-fulcrum-3-casual-shoes', 'under-armour-embiid-one-basketball-shoes', 'mens-puma-style-rider-neo-archive-casual-shoes', 'mens-lacoste-bayliss-casual-shoes', 'mens-puma-rs-fast-super-mario-galaxy-casual-shoes', 'mens-puma-style-rider-skies-casual-shoes', 'nike-air-presto-casual-shoes', 'mens-puma-rs-fast-casual-shoes', 'converse-chuck-taylor-all-star-digital-terrain-cx-high-top-casual-shoes', 'mens-nike-air-max-97-kaomoji-casual-shoes', 'mens-nike-court-vintage-premium-casual-shoes', 'mens-adidas-comfort-flip-flop-thong-sandals', 'mens-nike-revolution-5-running-shoes-wide-width', 'mens-nike-air-force-1-07-lv8-casual-shoes', 'mens-puma-future-rider-rip-casual-shoes', 'mens-nike-dbreak-sp-casual-shoes', 'reebok-classics-slide-sandals', 'mens-nike-flex-experience-run-10-running-shoes', 'mens-adidas-originals-x-ninja-zx-2k-boost-running-shoes', 'mens-puma-future-rider-union-casual-shoes', 'mens-nike-air-vapormax-flyknit-3-usa-running-shoes', 'mens-adidas-essentials-adilette-comfort-slide-sandals', 'mens-adidas-originals-superstar-pure-casual-shoes', 'mens-nike-victori-one-shower-slide-sandals', 'mens-puma-future-rider-galaxy-casual-shoes', 'mens-brooks-ghost-13-running-shoes', 'nike-react-presto-running-shoes', 'mens-reebok-zig-dynamica-running-shoes', 'mens-timberland-earthkeepers-original-leather-6-inch-boots', 'mens-nike-air-huarache-run-casual-shoes', 'mens-air-jordan-1-zoom-air-comfort-casual-shoes', 'mens-adidas-originals-zx-2k-flux-running-shoes', 'mens-adidas-duramo-sl-slide-sandals', 'mens-nike-dbreak-type-recycled-canvas-casual-shoes', 'womens-nike-daybreak-casual-shoes', 'mens-adidas-terrex-ax3-hiking-shoes', 'mens-adidas-defiant-generation-multicourt-tennis-shoes', 'nike-dbreak-type-second-season-casual-shoes', 'nike-air-max-90-second-season-casual-shoes', 'mens-adidas-originals-nmd-r1-stlt-primeknit-casual-shoes', 'mens-brooks-adrenaline-gts-21-running-shoes-wide-width', 'adidas-ultraboost-dna-zebra-running-shoes', 'mens-nike-drop-type-premium-casual-shoes', 'mens-superdry-classic-pool-slide-sandals', 'mens-fila-expeditioner-glow-in-the-dark-casual-shoes', 'mens-champion-future-flex-slip-on-casual-shoes', 'mens-champion-rally-pro-casual-shoes', 'mens-adidas-terrex-agravic-tr-gore-tex-trail-running-shoes', 'nike-blazer-mid-77-vintage-world-tour-casual-shoes', 'mens-nike-air-max-270-casual-shoes', 'nike-kd13-basketball-shoes', 'mens-reebok-classics-club-c-revenge-casual-shoes', 'mens-nike-air-max-90-gum-casual-shoes', 'converse-chuck-taylor-all-star-high-top-casual-shoes', 'mens-nike-flex-experience-rn-9-running-shoes', 'mens-adidas-originals-zx-2k-boost-running-shoes', 'mens-under-armour-ignite-vi-slide-sandals', 'mens-adidas-ultraboost-20-dna-running-shoes', 'mens-adidas-originals-rivalry-low-casual-shoes', 'mens-adidas-ultraboost-20-dna-x-pe-running-shoes', 'mens-puma-cool-cat-slide-sandals', 'mens-nike-air-max-ltd-3-casual-shoes', 'mens-nike-dbreak-type-casual-shoes', 'new-balance-574-black-history-month-casual-shoes', 'nike-kyrie-low-3-eclipse-basketball-shoes', 'mens-nike-cortez-basic-leather-se-casual-shoes', 'new-balance-990v5-black-history-month-casual-shoes', 'mens-reebok-classic-leather-legacy-casual-shoes', 'mens-puma-thunder-holiday-casual-shoes', 'new-balance-kawhi-1-basketball-shoes', 'mens-champion-rally-pro-xg-casual-shoes', 'mens-lacoste-chaymon-120-casual-shoes', 'mens-nike-air-tailwind-79-worldwide-casual-shoes', 'mens-puma-rs-20-intl-casual-shoes', 'mens-champion-hyper-cx-casual-shoes', 'mens-nike-air-max-90-recycled-felt-casual-shoes', 'mens-timberland-bradstreet-ultra-chukka-sneaker-boots', 'mens-nike-squash-type-casual-shoes', 'mens-adidas-originals-zx-1k-boost-casual-shoes']\n"
     ]
    }
   ],
   "source": []
  },
  {
   "cell_type": "code",
   "execution_count": null,
   "metadata": {},
   "outputs": [],
   "source": []
  }
 ],
 "metadata": {
  "kernelspec": {
   "display_name": "Python 3",
   "language": "python",
   "name": "python3"
  },
  "language_info": {
   "codemirror_mode": {
    "name": "ipython",
    "version": 3
   },
   "file_extension": ".py",
   "mimetype": "text/x-python",
   "name": "python",
   "nbconvert_exporter": "python",
   "pygments_lexer": "ipython3",
<<<<<<< HEAD
   "version": "3.8.8"
=======
   "version": "3.7.3"
>>>>>>> origin/main
  }
 },
 "nbformat": 4,
 "nbformat_minor": 4
}
