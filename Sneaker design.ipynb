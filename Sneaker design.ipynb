{
 "cells": [
  {
   "cell_type": "markdown",
   "metadata": {},
   "source": [
    "Deep cleaning for the reviews, eliminate all the duplicated review"
   ]
  },
  {
   "cell_type": "code",
   "execution_count": 1,
   "metadata": {},
   "outputs": [],
   "source": [
    "import json\n",
    "import Ipy_importer\n",
    "import re\n",
    "import numpy as np\n",
    "from itertools import chain\n",
    "from customer_clustering import all_def\n",
    "'''\n",
    "This is load the module from the 3rd paper codes\n",
    "'''"
   ]
  },
  {
   "cell_type": "code",
   "execution_count": 2,
   "metadata": {},
   "outputs": [
    {
     "name": "stdout",
     "output_type": "stream",
     "text": [
      "<class 'dict'>\n"
     ]
    }
   ],
   "source": [
    "'''\n",
    "This section got the new attribute lexcicon\n",
    "'''\n",
    "with open(\"/media/jade/yi_Data/Data/Algorithm_1/new_new_attribute_lexicon.json\", \"r\") as f:\n",
    "    attribute_lexicon = json.load(f)\n",
    "    print(type(attribute_lexicon))\n",
    "    attribute_lexicon['Permeability']\n",
    "\n",
    "    \n",
    "temp1 = []\n",
    "for k, v in attribute_lexicon.items():\n",
    "    v = sorted(set(v),key=v.index)\n",
    "    temp2 = []\n",
    "    for j in v:\n",
    "        if j not in temp1: \n",
    "            temp2.append(j)\n",
    "#     print(temp2)\n",
    "        temp1.append(j)\n",
    "    attribute_lexicon[k] = temp2\n",
    "# temp = []\n",
    "# for v in attribute_lexicon.values():\n",
    "#     for i  in v:\n",
    "#         temp.append(i)\n",
    "# attribute_lexicon = temp\n",
    "# this is the new attribute lexicon got from ramin"
   ]
  },
  {
   "cell_type": "code",
   "execution_count": 3,
   "metadata": {},
   "outputs": [
    {
     "name": "stdout",
     "output_type": "stream",
     "text": [
      "49\n"
     ]
    }
   ],
   "source": [
    "'''\n",
    "This is a test for the cleaning of attribute lexicon, IMPORTANT: This section goes wrong then the function is right, if it goes well then you need test the previous function\n",
    "\n",
    "'''\n",
    "print(attribute_lexicon['Shape'].index('style'))\n",
    "# print(attribute_lexicon['Fit'].index('style'))\n",
    "# print(attribute_lexicon['Fit'])"
   ]
  },
  {
   "cell_type": "code",
   "execution_count": 4,
   "metadata": {},
   "outputs": [
    {
     "name": "stdout",
     "output_type": "stream",
     "text": [
      "dict_keys(['Permeability', 'Impact_absorption', 'Energy_Return', 'Stability', 'Flexibility', 'Traction', 'Durability', 'Cushion', 'Outsole', 'Midsole', 'Insole', 'Heel', 'Color', 'Shape', 'Upper', 'Fit', 'Weight', 'Fixation', 'Toe_Box', 'Collar', 'Fasteners', 'Achile_notch', 'Tongue'])\n"
     ]
    }
   ],
   "source": [
    "print(attribute_lexicon.keys())\n",
    "# print(list(chain(*list(attribute_lexicon.values()))))"
   ]
  },
  {
   "cell_type": "markdown",
   "metadata": {},
   "source": [
    "workflow:\n",
    "1. pick the windows and save it in a split file\n",
    "2. identify the sentiment word in each window"
   ]
  },
  {
   "cell_type": "code",
   "execution_count": 16,
   "metadata": {},
   "outputs": [
    {
     "data": {
      "text/plain": [
       "'\\nthis section change the review dictionary to the POS file\\n'"
      ]
     },
     "execution_count": 16,
     "metadata": {},
     "output_type": "execute_result"
    }
   ],
   "source": [
    "'''This setion is testing id the creating POS code works'''\n",
    "from Create_POS import create_POS_file\n",
    "review_dic = create_POS_file.create_chenxi_POS(\"/media/jade/yi_Data/Data/chenxi/results_review_new.txt\")\n",
    "\n",
    "# temp_tag = []\n",
    "# with open(\"H:/Data/review_POS.txt\",\"r\", encoding = \"UTF-8-sig\") as f:\n",
    "#     file = f.readlines()\n",
    "#     for i in file:\n",
    "#         i = i.strip(\"][\\n\").split(\" \")\n",
    "#         temp_tag.append(i)\n",
    "'''\n",
    "this section change the review dictionary to the POS file\n",
    "'''\n",
    "# i = 0\n",
    "# for k,v in review_dic.items():\n",
    "#     i += 1\n",
    "#     if i == 3:\n",
    "# #         print(k, v)\n",
    "#         pass\n"
   ]
  },
  {
   "cell_type": "code",
   "execution_count": 17,
   "metadata": {
    "collapsed": true,
    "jupyter": {
     "outputs_hidden": true
    }
   },
   "outputs": [
    {
     "name": "stdout",
     "output_type": "stream",
     "text": [
      "adidas-d-rose-11-basketball-shoes [\"adidas-d-rose-11-basketball-shoes0:['I+PRP', 'love+VBP', 'the+DT', 'feel+NN', 'very+RB', 'comfortable+JJ', 'and+CC', 'the+DT', 'style+NN', 'is+VBZ', 'pretty+RB', 'slick+JJ']\", \"adidas-d-rose-11-basketball-shoes1:['Super+NNP', 'comfortable+JJ', 'with+IN', 'standout+NN', 'colors+NNS', 'and+CC', 'design+NN']\", \"adidas-d-rose-11-basketball-shoes2:['A+DT', 'Great+JJ', 'Looking+NNP', 'and+CC', 'Very+NNP', 'Comfortable+NNP', 'shoe+NN', 'I+PRP', 'got+VBD', 'several+JJ', 'compliments+NNS', 'on+IN', 'them+PRP', 'and+CC', 'my+PRP$', 'teenager+NN', 'now+RB', 'wants+VBZ', 'a+DT', 'pair+NN']\", \"adidas-d-rose-11-basketball-shoes3:['The+DT', 'shoes+NNS', 'are+VBP', 'very+RB', 'comfortable+JJ', 'and+CC', 'look+VB', 'great+JJ', 'on+IN', 'and+CC', 'off+IN', 'the+DT', 'court+NN', 'There+EX', 's+VBZ', 'great+JJ', 'support+NN', 'on+IN', 'the+DT', 'ankles+NNS', 'and+CC', 'broke+VBD', 'in+IN', 'after+IN', 'a+DT', 'couple+NN', 'of+IN', 'uses+NNS']\", \"adidas-d-rose-11-basketball-shoes4:['Great+JJ', 'look+NN', 'But+CC', 'you+PRP', 'want+VBP', 'me+PRP', 'to+TO', 'write+VB', 'too+RB', 'Much+RB', 'so+IN', 'it+PRP', 'ruins+VBZ', 'the+DT', 'Post+NN']\", \"adidas-d-rose-11-basketball-shoes5:['Love+VB', 'the+DT', 'shoes+NNS', 'They+PRP', 'are+VBP', 'slightly+RB', 'on+IN', 'the+DT', 'wider+NN', 'side+NN', 'which+WDT', 'I+PRP', 'happen+VBP', 'to+TO', 'like+VB', 'The+DT', 'sole+JJ', 'really+RB', 'grips+NNS', 'well+RB', 'and+CC', 'I+PRP', 'love+VBP', 'how+WRB', 'the+DT', 'lime+NN', 'green+JJ', 'really+RB', 'pops+VBZ', 'when+WRB', 'you+PRP', 'wear+VBP', 'them+PRP', 'Very+NNP', 'comfortable+JJ', 'shoe+NN', 'with+IN', 'great+JJ', 'support+NN', '5+CD', 'stars+NNS']\", \"adidas-d-rose-11-basketball-shoes6:['These+DT', 'are+VBP', 'absolutely+RB', 'incredible+JJ', 'shoes+NNS', 'I+PRP', 'have+VBP', 'owned+VBN', 'many+JJ', 'different+JJ', 'basketball+NN', 'shoes+NNS', 'and+CC', 'these+DT', 'are+VBP', 'definitely+RB', 'my+PRP$', 'favorite+JJ', 'I+PRP', 'do+VBP', 'wish+JJ', 'they+PRP', 'would+MD', 'have+VB', 'kept+VBN', 'the+DT', 'piece+NN', 'on+IN', 'the+DT', 'side+NN', 'of+IN', 'the+DT', 'shoe+NN', 'as+IN', 'gold+JJ', 'instead+RB', 'of+IN', 'black+JJ']\", \"adidas-d-rose-11-basketball-shoes7:['The+DT', 'shoe+NN', 'is+VBZ', 'a+DT', 'perfect+JJ', 'mix+NN', 'of+IN', 'comfort+NN', 'and+CC', 'style+NN', 'My+NNP', 'son+NN', 'absolutely+RB', 'enjoys+VBZ', 'playing+VBG', 'ball+NN', 'in+IN', 'these+DT', 'shoes+NNS', 'and+CC', 'the+DT', 'color+NN', 'coordinates+VBZ', 'with+IN', 'his+PRP$', 'uniform+NN', 'perfectly+RB', 'He+PRP', 'started+VBD', 'out+RP', 'in+IN', 'DRose+NNP', 'shoes+NNS', 'and+CC', 'he+PRP', 's+VBD', 'happy+JJ', 'he+PRP', 'found+VBD', 'his+PRP$', 'way+NN', 'back+RB', 'to+TO', 'them+PRP', 'I+PRP', 'would+MD', 'definitely+RB', 'recommend+VB']\", \"adidas-d-rose-11-basketball-shoes8:['I+PRP', 'm+VBP', 'a+DT', 'huge+JJ', 'DRose+NNP', 'fan+NN', 'these+DT', 'shoes+NNS', 'are+VBP', 'great+JJ', 'to+TO', 'hoop+VB', 'in+IN']\", \"adidas-d-rose-11-basketball-shoes9:['Nice+NNP', 'better+JJR', 'than+IN', 'most+JJS', 'd+JJ', 'roses+VBZ', 'out+RP', 'i+NNS', 'have+VBP', '5+CD', 'different+JJ', 'pair+NN']\", \"adidas-d-rose-11-basketball-shoes10:['They+PRP', 'look+VBP', 'even+RB', 'better+RBR', 'in+IN', 'person+NN', 'I+PRP', 'was+VBD', 'so+RB', 'glad+JJ', 'my+PRP$', 'size+NN', 'poped+VBD', 'back+RB', 'in+IN', 'to+TO', 'stock+NN']\", \"adidas-d-rose-11-basketball-shoes11:['Looks+NNP', 'better+RBR', 'in+IN', 'person+NN', 'good+JJ', 'quality+NN', 'great+JJ', 'fit+NN', 'I+PRP', 'love+VBP', 'the+DT', 'design+NN']\", \"adidas-d-rose-11-basketball-shoes12:['my+PRP$', 'friend+NN', 'love+VB', 'it+PRP', 'definitly+RB', 'will+MD', 'order+NN', 'more+RBR', 'its+PRP$', 'nice+JJ', 'and+CC', 'comfortable+JJ']\", \"adidas-d-rose-11-basketball-shoes13:['The+DT', 'quality+NN', 'is+VBZ', 'very+RB', 'good+JJ', 'and+CC', 'my+PRP$', 'shoe+NN', 'fits+VBZ', 'perfectly+RB']\", \"adidas-d-rose-11-basketball-shoes14:['These+DT', 'are+VBP', 'good+JJ', 'quality+NN', 'shoes+NNS', 'and+CC', 'well+RB', 'worth+IN', 'the+DT', 'investment+NN']\", \"adidas-d-rose-11-basketball-shoes15:['Nice+NNP', 'looking+VBG', 'shoe+NN', 'I+PRP', 'got+VBD', 'compliments+NNS', 'I+PRP', 'purchased+VBD', 'the+DT', 'complete+JJ', 'look+NN']\", \"adidas-d-rose-11-basketball-shoes16:['I+PRP', 'love+VBP', 'D+NNP', 'Ross11+NNP', 'because+IN', 'they+PRP', 'are+VBP', 'beautiful+JJ', 'and+CC', 'very+RB', 'comfortable+JJ', 'and+CC', 'I+PRP', 'love+VBP', 'the+DT', 'color+NN']\", \"adidas-d-rose-11-basketball-shoes17:['Overall+JJ', 'great+JJ', 'shoes+NNS', 'Is+VBZ', 'a+DT', 'tiny+JJ', 'bit+NN', 'on+IN', 'the+DT', 'small+JJ', 'side+NN', 'for+IN', 'length+NN', 'but+CC', 'to+TO', 'the+DT', 'point+NN', 'of+IN', 'being+VBG', 'uncomfortable+JJ', 'Great+NNP', 'colors+NNS', 'and+CC', 'well+RB', 'made+VBN', 'with+IN', 'quality+NN', 'materials+NNS']\", \"adidas-d-rose-11-basketball-shoes18:['The+DT', 'quality+NN', 'of+IN', 'this+DT', 'shoe+NN', 'is+VBZ', 'great+JJ', 'The+DT', 'comfort+NN', 'is+VBZ', 'good+JJ', 'as+IN', 'well+RB', 'I+PRP', 'would+MD', 'definitely+RB', 'recommend+VB', 'this+DT', 'shoe+NN', 'to+TO', 'friends+NNS']\", \"adidas-d-rose-11-basketball-shoes19:['Love+VB', 'these+DT', 'shoes+NNS', 'The+DT', 'style+NN', 'and+CC', 'the+DT', 'comfort+NN', 'level+NN', 'They+PRP', 'run+VBP', 'a+DT', 'little+JJ', 'big+JJ', 'but+CC', 'it+PRP', 's+VBZ', 'manageable+JJ']\", \"adidas-d-rose-11-basketball-shoes20:['Love+VB', 'this+DT', 'colorways+NNS', 'and+CC', 'cushioning+VBG', 'She+PRP', 'is+VBZ', 'very+RB', 'comfortable+JJ']\", \"adidas-d-rose-11-basketball-shoes21:['I+PRP', 'loved+VBD', 'the+DT', 'design+NN', 'but+CC', 'I+PRP', 'never+RB', 'saw+VBD', 'that+IN', 'it+PRP', 'was+VBD', 'for+IN', 'men+NNS', 'and+CC', 'women+NNS', 'I+PRP', 'am+VBP', 'size+NN', '9+CD', 'and+CC', 'it+PRP', 'is+VBZ', 'too+RB', 'big+JJ', 'I+PRP', 'had+VBD', 'to+TO', 'change+VB', 'it+PRP', 'in+IN', 'the+DT', 'store+NN']\", \"adidas-d-rose-11-basketball-shoes22:['Love+VB', 'these+DT', 'shoes+NNS', 'perfect+VBP', 'fit+JJ', 'and+CC', 'great+JJ', 'quality+NN', 'I+PRP', 'll+VBP', 'more+JJR', 'than+IN', 'likely+RB', 'be+VB', 'purchasing+VBG', 'other+JJ', 'colors+NNS']\", \"adidas-d-rose-11-basketball-shoes23:['Fix+IN', 'the+DT', 'ad+NN', 'picture+NN', 'that+WDT', 'shows+VBZ', 'gold+NN', 'on+IN', 'them+PRP', 'There+EX', 'isn+JJ', 't+NN', 'any+DT', 'gold+NN', 'plating+NN', 'on+IN', 'it+PRP', 'Other+JJ', 'than+IN', 'that+IN', 'they+PRP', 'are+VBP', 'perfect+JJ']\", \"adidas-d-rose-11-basketball-shoes24:['Fits+NNS', 'nicely+RB', 'and+CC', 'can+MD', 'go+VB', 'with+IN', 'a+DT', 'lot+NN', 'of+IN', 'my+PRP$', 'gear+NN', 'Can+NNP', 't+NN', 'wait+NN', 'for+IN', 'the+DT', 'next+JJ', 'limited+JJ', 'edition+NN']\", \"adidas-d-rose-11-basketball-shoes25:['My+PRP$', 'daughter+NN', 'loves+VBZ', 'her+PRP$', 'shoes+NNS', 'Great+NNP', 'comfort+NN', 'I+PRP', 'would+MD', 'buy+VB', 'them+PRP', 'again+RB']\", \"adidas-d-rose-11-basketball-shoes26:['The+DT', 'Rose+NNP', '11+CD', 'is+VBZ', 'by+IN', 'far+RB', 'the+DT', 'BEST+NNP', 'and+CC', 'my+PRP$', 'favorite+JJ', 'shoe+NN', 'from+IN', 'the+DT', 'D+NNP', 'Rose+NNP', 'collection+NN', 'fit+NN', 'comfort+NN', 'and+CC', 'quality+NN', 'and+CC', 'perfect+JJ', 'Instant+NNP', 'comfort+NN']\", \"adidas-d-rose-11-basketball-shoes27:['I+PRP', 'was+VBD', 'so+RB', 'excited+JJ', 'for+IN', 'the+DT', 'release+NN', 'of+IN', 'the+DT', 'Chinese+NNP', 'New+NNP', 'Year+NNP', 'inspiration+NN', 'sneakers+NNS', 'but+CC', 'it+PRP', 'was+VBD', 'nothing+NN', 'like+IN', 'the+DT', 'pictures+NNS', 'on+IN', 'the+DT', 'website+NN', 'The+DT', 'metallics+NNS', 'gold+JJ', 'midsole+NN', 'lightstrike+NN', 'bar+NN', 'which+WDT', 'was+VBD', 'the+DT', 'highlight+NN', 'of+IN', 'the+DT', 'shoes+NNS', 'is+VBZ', 'all+DT', 'black+JJ', 'instead+RB', 'It+PRP', 's+VBD', 'such+PDT', 'a+DT', 'disappointment+NN']\", \"adidas-d-rose-11-basketball-shoes28:['Been+NNP', 'wearing+VBG', 'D+NNP', 'Rose+NNP', 's+NN', 'since+IN', 'they+PRP', 'came+VBD', 'out+RP', 'Comfortable+JJ', 'lightweight+JJ', 'great+JJ', 'quality+NN', 'basketball+NN', 'shoe+NN']\", \"adidas-d-rose-11-basketball-shoes29:['Will+MD', 'buy+VB', 'again+RB', 'ASAP+NNP', 'Great+NNP', 'color+NN', 'way+NN', 'Awesome+NNP', 'shoe+NN', 'in+IN', '2021+CD']\", \"adidas-d-rose-11-basketball-shoes30:['Nice+NNP', 'shoes+NNS', 'could+MD', 'use+VB', 'a+DT', 'little+RB', 'more+RBR', 'arch+JJ', 'support+NN', 'other+JJ', 'than+IN', 'that+IN', 'they+PRP', 'are+VBP', 'comfortable+JJ']\", \"adidas-d-rose-11-basketball-shoes31:['I+PRP', 'never+RB', 'know+VBP', 'which+WDT', 'adidas+VBP', 'shoe+NN', 'is+VBZ', 'based+VBN', 'on+IN', 'a+DT', 'man+NN', 's+JJ', 'foot+NN', 'so+RB', 'sizing+JJ', 'has+VBZ', 'become+VBN', 'a+DT', 'big+JJ', 'issue+NN', 'I+PRP', 'had+VBD', 'to+TO', 'get+VB', 'a+DT', '7+CD', 'in+IN', 'a+DT', 'running+NN', 'shoe+NN', 'when+WRB', 'I+PRP', 'bought+VBD', 'my+PRP$', 'first+JJ', 'boost+NN', 'shoe+NN', 'Loved+VBD', 'it+PRP', 'except+IN', 'for+IN', 'the+DT', 'slippery+NN', 'sole+NN', 'But+CC', 'over+IN', 'the+DT', 'years+NNS', 'I+PRP', 'have+VBP', 'had+VBN', 'issues+NNS', 'finding+VBG', 'the+DT', 'right+JJ', 'size+NN', 'and+CC', 'can+MD', 'never+RB', 'tell+VB', 'if+IN', 'the+DT', 'shoe+NN', 'was+VBD', 'created+VBN', 'with+IN', 'a+DT', 'woman+NN', 's+JJ', 'foot+NN', 'profile+NN', 'or+CC', 'a+DT', 'man+NN', 's+NN', 'until+IN', 'it+PRP', 'arrives+VBZ', 'When+WRB', 'based+VBN', 'on+IN', 'a+DT', 'man+NN', 's+NN', 'it+PRP', 'is+VBZ', 'too+RB', 'long+JJ', 'and+CC', 'narrow+JJ', 'at+IN', 'the+DT', 'fore+JJ', 'foot+NN', 'area+NN', 'for+IN', 'my+PRP$', 'foot+NN', 'And+CC', 'too+RB', 'many+JJ', 'shoes+NNS', 'are+VBP', 'being+VBG', 'made+VBN', 'sock+NN', 'style+NN', 'with+IN', 'an+DT', 'attached+JJ', 'tongue+NN', 'I+PRP', 'have+VBP', 'high+JJ', 'arches+NNS', 'and+CC', 'this+DT', 'causes+VBZ', 'issues+NNS', 'Please+NNP', 'note+NN', 'that+IN', 'this+DT', 'shoe+NN', 'has+VBZ', 'a+DT', 'detached+VBN', 'tongue+NN', 'and+CC', 'that+DT', 'was+VBD', 'why+WRB', 'I+PRP', 'gave+VBD', 'it+PRP', 'a+DT', 'try+NN', 'It+PRP', 'would+MD', 'have+VB', 'been+VBN', 'a+DT', 'good+JJ', 'shoe+NN', 'if+IN', 'it+PRP', 'had+VBD', 'not+RB', 'been+VBN', 'made+VBN', 'in+IN', 'a+DT', 'generic+JJ', 'footbed+NN', 'and+CC', 'was+VBD', 'based+VBN', 'on+IN', 'a+DT', 'women+NNS', 's+JJ', 'foot+NN']\", \"adidas-d-rose-11-basketball-shoes32:['The+DT', 'grip+NN', 'is+VBZ', 'good+JJ', 'I+PRP', 'started+VBD', 'play+NN', 'with+IN', 'the+DT', 'shoe+NN', 'and+CC', 'satisfied+VBD']\", \"adidas-d-rose-11-basketball-shoes33:['I+PRP', 'would+MD', 'recommend+VB', 'going+VBG', 'down+RP', 'a+DT', 'size+NN', 'the+DT', 'run+NN', 'big+JJ', 'but+CC', 'very+RB', 'colorful+JJ', 'and+CC', 'nice+JJ', 'shoes+NNS', 'very+RB', 'comfortable+JJ']\", \"adidas-d-rose-11-basketball-shoes34:['I+PRP', 've+VBP', 'seen+VBN', 'a+DT', 'few+JJ', 'model+NN', 'of+IN', 'the+DT', 'D+NNP', 'Rose+NNP', 'line+NN', 'that+IN', 'I+PRP', 've+VBP', 'liked+VBN', 'over+IN', 'the+DT', 'years+NNS', 'but+CC', 'the+DT', '11+CD', 'is+VBZ', 'by+IN', 'far+RB', 'my+PRP$', 'favorite+JJ', 'I+PRP', 'really+RB', 'like+IN', 'the+DT', 'lightstrike+NN', 'foam+NN', 'although+IN', 'not+RB', 'as+RB', 'comfortable+JJ', 'as+IN', 'the+DT', 'boost+NN', 'but+CC', 'still+RB', 'feels+NNS', 'pretty+RB', 'good+JJ', 'under+IN', 'foot+NN', 'The+DT', 'length+NN', 'fits+VBZ', 'great+JJ', 'even+RB', 'though+IN', 'the+DT', 'width+NN', 'has+VBZ', 'a+DT', 'bit+NN', 'of+IN', 'space+NN', 'Overall+NNP', 'I+PRP', 'm+VBP', 'very+RB', 'pleased+JJ', 'with+IN', 'this+DT', 'shoes+NNS', 'so+RB', 'much+JJ', 'that+IN', 'so+RB', 'far+RB', 'I+PRP', 'have+VBP', 'two+CD', 'pairs+NNS', 'and+CC', 'will+MD', 'definitely+RB', 'buy+VB', 'more+JJR', 'colorways+NNS']\", \"adidas-d-rose-11-basketball-shoes35:['Great+NNP', 'fit+NN', 'and+CC', 'comfortable+JJ', 'Looking+VBG', 'forward+RB', 'to+TO', 'playing+VBG', 'in+IN', 'them+PRP', 'this+DT', 'season+NN']\", \"adidas-d-rose-11-basketball-shoes36:['Never+RB', 'order+NN', 'shoes+NNS', 'online+VBP', 'but+CC', 'I+PRP', 'tried+VBD', 'and+CC', 'they+PRP', 'fit+VBP', 'perfectly+RB', 'and+CC', 'we+PRP', 're+VBP', 'what+WP', 'I+PRP', 'wanted+VBD']\", \"adidas-d-rose-11-basketball-shoes37:['Great+NNP', 'shoes+NNS', 'but+CC', 'hey+JJ', 'dont+NNS', 'have+VBP', 'gold+VBN', 'plastic+JJ', 'heel+NN', 'side+JJ', 'foot+NN', 'piece+NN', 'its+PRP$', 'in+IN', 'black+JJ']\", \"adidas-d-rose-11-basketball-shoes38:['Amazing+JJ', 'product+NN', 'best+JJS', 'shoes+NNS', 'ever+RB', 'confortable+JJ', 'and+CC', 'great+JJ', 'desing+NN']\", \"adidas-d-rose-11-basketball-shoes39:['Where+WRB', 'the+DT', 'gold+NN', 'metallic+NN', 'is+VBZ', 'in+IN', 'the+DT', 'picture+NN', 'I+PRP', 'did+VBD', 'not+RB', 'receive+VB', 'on+IN', 'my+PRP$', 'pair+NN', 'of+IN', 'd+NN', 'rose+VBD', '11s+CD', 'Won+NNP', 't+JJ', 'recommend+VBP', 'basketball+NN', 'shoes+NNS', 'from+IN', 'adidas+NN']\", \"adidas-d-rose-11-basketball-shoes40:['The+DT', 'Gold+NNP', 'Lightstrike+NNP', 'mid-sole+JJ', 'Bar+NNP', 'ended+VBD', 'up+RP', 'being+VBG', 'ALL+NNP', 'Black+NNP', 'on+IN', 'the+DT', 'shoe+NN', 'and+CC', 'took+VBD', 'away+RB', 'much+JJ', 'of+IN', 'the+DT', 'appeal+NN', 'the+DT', 'Chinese+NNPS', 'New+NNP', 'Year+NNP', 'version+NN', 'seemed+VBD', 'to+TO', 'have+VB', 'Once+RB', 'again+RB', 'Perfect+JJ', 'fit+JJ', 'very+RB', 'comfortable+JJ', 'shoe+NN', 'but+CC', 'it+PRP', 'is+VBZ', 'not+RB', 'the+DT', 'shoe+NN', 'pictured+VBD', 'and+CC', 'advertised+VBD', 'above+IN', 'I+PRP', 'received+VBD', 'a+DT', 'Red+NNP', 'Black+NNP', 'Shoe+NNP', 'w+VBZ', 'minimal+JJ', 'gold+NN', 'accents+NNS', 'only+RB', 'on+IN', 'the+DT', 'Tongue+NN']\", \"adidas-d-rose-11-basketball-shoes41:['I+PRP', 'm+VBP', 'originally+RB', 'a+DT', 'wearer+NN', 'of+IN', 'another+DT', 'popular+JJ', 'brand+NN', 'but+CC', 'since+IN', 'I+PRP', 've+VBP', 'experienced+JJ', 'Adidas+NNP', 'I+PRP', 'have+VBP', 'found+VBN', 'a+DT', 'new+JJ', 'sneaker+NN']\", \"adidas-d-rose-11-basketball-shoes42:['Wrong+JJ', 'description+NN', 'I+PRP', 'guess+VBP', 'gold+JJ', 'doesn+NN', 't+NNS', 'exist+VBP', 'But+CC', 'same+JJ', 'art+NN', 'no+DT']\", \"adidas-d-rose-11-basketball-shoes43:['Nice+JJ', 'Very+NNP', 'comfortable+JJ', 'and+CC', 'stylish+JJ', 'Was+NNP', 'hard+JJ', 'to+TO', 'find+VB', 'the+DT', 'red+JJ', 'but+CC', 'once+IN', 'it+PRP', 'was+VBD', 'in-stock+JJ', 'it+PRP', 'arrived+VBD', 'in+IN', 'no+DT', 'time+NN']\", \"adidas-d-rose-11-basketball-shoes44:['I+PRP', 'bought+VBD', 'these+DT', 'for+IN', 'basketball+NN', 'use+NN', 'I+PRP', 'love+VBP', 'the+DT', 'design+NN', 'and+CC', 'the+DT', 'way+NN', 'they+PRP', 'look+VBP', '-+:', 'so+RB', 'much+RB', 'so+IN', 'that+IN', 'I+PRP', 'didn+VBP', 't+JJ', 'wear+VBP', 'them+PRP', 'for+IN', 'a+DT', 'while+NN', 'to+TO', 'protect+VB', 'the+DT', 'brand+NN', 'new+JJ', 'look+NN', 'They+PRP', 'fit+VBP', 'perfectly+RB', 'My+NNP', 'feet+NNS', 'feel+VBP', 'secure+NN', 'and+CC', 'supported+VBD', 'during+IN', 'intense+JJ', 'playing+VBG', 'Reviews+NNP', 'also+RB', 'said+VBD', 'to+TO', 'go+VB', 'a+DT', 'half+NN', 'size+NN', 'down+RB', 'and+CC', 'that+DT', 'was+VBD', 'the+DT', 'right+JJ', 'choice+NN', 'for+IN', 'sure+JJ']\", \"adidas-d-rose-11-basketball-shoes45:['Amazing+VBG', 'amazing+VBG', 'amazing+VBG', 'amazing+VBG', 'amazing+VBG', 'amazing+VBG', 'amazing+NN']\", \"adidas-d-rose-11-basketball-shoes46:['You+PRP', 'can+MD', 'definitely+VB', 'see+VB', 'some+DT', 'of+IN', 'the+DT', 'adhesive+NN', 'in+IN', 'some+DT', 'places+NNS', 'They+PRP', 're+VBP', 'slightly+RB', 'too+RB', 'big+JJ', 'on+IN', 'me+PRP', 'but+CC', 'still+RB', 'look+VBP', 'great+JJ']\", \"adidas-d-rose-11-basketball-shoes47:['Right+RB', 'out+IN', 'of+IN', 'the+DT', 'box+NN', 'I+PRP', 'fell+VBD', 'in+IN', 'love+NN', 'with+IN', 'the+DT', 'shoes+NNS', 'They+PRP', 'look+VBP', 'and+CC', 'feel+VBP', 'great+JJ']\", \"adidas-d-rose-11-basketball-shoes48:['These+DT', 'shoes+NNS', 'are+VBP', 'so+RB', 'comfortable+JJ', 'and+CC', 'stylish+JJ', 'and+CC', 'has+VBZ', 'the+DT', 'perfect+JJ', 'ankle+NN', 'support+NN']\", \"adidas-d-rose-11-basketball-shoes49:['I+PRP', 'got+VBD', 'problems+NNS', 'with+IN', 'my+PRP$', 'Achilles+NNS', 'and+CC', 'these+DT', 'are+VBP', 'great+JJ']\", \"adidas-d-rose-11-basketball-shoes50:['This+DT', 'shoe+NN', 'looks+VBZ', 'great+JJ', 'and+CC', 'feels+NNS', 'amazing+VBG', 'on+IN', 'foot+NN', 'I+PRP', 'have+VBP', 'a+DT', 'wide+JJ', 'foot+NN', 'but+CC', 'this+DT', 'maybe+RB', 'the+DT', 'best+JJS', 'basketball+NN', 'shoe+NN', 'I+PRP', 've+VBP', 'EVER+RB', 'purchased+VBN', 'for+IN', 'myself+PRP']\", \"adidas-d-rose-11-basketball-shoes51:['Love+VB', 'the+DT', 'fit+NN', 'I+PRP', 'am+VBP', 'ordering+VBG', 'another+DT', 'pair+NN', 'comfortable+JJ', 'to+TO', 'wear+VB', 'as+IN', 'a+DT', 'daily+JJ', 'shoe+NN', 'awesome+NN', 'for+IN', 'a+DT', 'workout+NN', 'shoe+NN', 'I+PRP', 'believe+VBP', 'the+DT', 'quality+NN', 'will+MD', 'make+VB', 'this+DT', 'a+DT', 'long+JJ', 'last+JJ', 'shoe+NN']\", \"adidas-d-rose-11-basketball-shoes52:['Perfect+JJ', 'fit+NN', 'I+PRP', 've+VBP', 'been+VBN', 'battling+VBG', 'with+IN', 'some+DT', 'sneakers+NNS', 'about+IN', 'the+DT', 'sizes+NNS', 'I+PRP', 'm+VBP', 'an+DT', '11+CD', 'and+CC', 'ultimately+RB', 'I+PRP', 've+VBP', 'been+VBN', 'buying+VBG', 'shoe+NN', '½+NN', 'to+TO', '1+CD', 'size+NN', 'bigger+JJR', 'cause+NN', 'it+PRP', 'doesn+VBZ', 't+JJ', 'fit+NN', 'But+CC', 'this+DT', 'one+CD', 's+NN', 'are+VBP', 'just+RB', 'perfect+JJ', 'fit+NN', 'at+IN', '11+CD', 'Love+NNP', 'them+PRP']\", \"adidas-d-rose-11-basketball-shoes53:['Beautiful+JJ', 'shoe+NN', 'waiting+VBG', 'for+IN', 'my+PRP$', 'size+NN', 'to+TO', 'come+VB', 'in+IN', 'to+TO', 'purchase+VB', 'in+IN', 'the+DT', 'other+JJ', 'colors+NNS']\", \"adidas-d-rose-11-basketball-shoes54:['Super+NNP', 'light+NN', 'and+CC', 'fit+JJ', 'perfectly+RB', 'around+IN', 'my+PRP$', 'whole+JJ', 'foot+NN', 'I+PRP', 'm+VBP', 'thinking+VBG', 'of+IN', 'what+WP', 'other+JJ', 'color+NN', 'way+NN', 'to+TO', 'get+VB', 'next+JJ']\", \"adidas-d-rose-11-basketball-shoes55:['It+PRP', 'is+VBZ', 'a+DT', 'really+RB', 'good+JJ', 'shoe+NN', 'I+PRP', 'like+VBP', 'what+WP', 'it+PRP', 'looks+VBZ', 'like+IN']\", \"adidas-d-rose-11-basketball-shoes56:['Comfort+NN', 'and+CC', 'light+NN', 'Good+JJ', 'support+NN', 'The+DT', 'heel+NN', 'is+VBZ', 'a+DT', 'little+JJ', 'lose+NN']\", \"adidas-d-rose-11-basketball-shoes57:['Just+RB', 'so+RB', 'amazing+JJ', 'I+PRP', 'own+VBP', 'a+DT', 'lot+NN', 'of+IN', 'shoes+NNS', 'I+PRP', 've+VBP', 'had+VBD', 'these+DT', 'for+IN', 'a+DT', 'short+JJ', 'time+NN', 'but+CC', 'by+IN', 'far+RB', 'my+PRP$', 'favorite+JJ', 'shoes+NNS', 'I+PRP', 'own+VBP', 'now+RB', 'Just+NNP', 'fantastic+JJ', 'I+PRP', 'can+MD', 't+VB', 'tell+VB', 'you+PRP', 'how+WRB', 'great+JJ', 'these+DT', 'are+VBP']\", \"adidas-d-rose-11-basketball-shoes58:['Superior+JJ', 'quality+NN', 'in+IN', 'every+DT', 'way+NN', 'Down+IN', 'to+TO', 'every+DT', 'detail+NN', 'The+DT', 'most+RBS', 'comfortable+JJ', 'D+NNP', 'Rose+NNP', 'I+PRP', 'have+VBP', 'experienced+VBN', 'Pictures+NNS', 'do+VBP', 'not+RB', 'do+VB', 'this+DT', 'shoe+NN', 'justice+NN', 'Vibrant+NNP', 'colors+NNS', 'and+CC', 'defining+VBG', 'lines+NNS', 'My+NNP', 'current+JJ', 'favorite+NN', 'in+IN', 'my+PRP$', 'rotation+NN']\", \"adidas-d-rose-11-basketball-shoes59:['If+IN', 'your+PRP$', 'looking+VBG', 'for+IN', 'a+DT', 'true+JJ', 'fit+NN', 'to+TO', 'size+NN', 'it+PRP', 's+VBZ', 'here+RB', 'When+WRB', 'I+PRP', 'seen+VBN', 'them+PRP', 'on+IN', 'the+DT', 'website+NN', 'they+PRP', 'looked+VBD', 'good+JJ', 'but+CC', 'let+VB', 'me+PRP', 'tell+VB', 'you+PRP', 'in+IN', 'person+NN', 'they+PRP', 'look+VBP', 'even+RB', 'better+RBR', 'The+DT', 'quality+NN', 'is+VBZ', 'great+JJ', 'and+CC', 'the+DT', 'comfort+NN', 'is+VBZ', 'a+DT', 'plus+JJ']\", \"adidas-d-rose-11-basketball-shoes60:['For+IN', 'd+NN', 'rose+VBD', 'fans+NNS', 'it+PRP', 's+VBD', 'a+DT', 'great+JJ', 'show+NN', 'Will+NNP', 'get+VB', 'this+DT', 'show+NN', 'again+RB', 'in+IN', 'different+JJ', 'color+NN']\", \"adidas-d-rose-11-basketball-shoes61:['Great+NNP', 'shoes+NNS', 'and+CC', 'super+NN', 'comfortable+JJ', 'The+DT', 'fit+NN', 'is+VBZ', 'about+IN', 'half+PDT', 'a+DT', 'size+NN', 'to+TO', 'big+JJ', 'but+CC', 'other+JJ', 'than+IN', 'that+IN', 'they+PRP', 'are+VBP', 'perfect+JJ']\", \"adidas-d-rose-11-basketball-shoes62:['Worth+JJ', 'buying+NN', 'this+DT', 'very+RB', 'comfortable+JJ', 'shoes+NNS', 'and+CC', 'also+RB', 'have+VBP', 'a+DT', 'good+JJ', 'grip+NN']\", \"adidas-d-rose-11-basketball-shoes63:['Love+VB', 'these+DT', 'shoes+NNS', 'Fits+NNP', 'great+JJ', 'great+JJ', 'support+NN', 'Would+NNP', 'recommend+VB', 'to+TO', 'anyone+NN', 'Doesn+NNP', 't+NN', 'hurt+VBD', 'that+IN', 'they+PRP', 'look+VBP', 'fresh+JJ', 'too+RB']\", \"adidas-d-rose-11-basketball-shoes64:['Overall+JJ', 'great+JJ', 'shoe+NN', 'Perfect+NNP', 'shoe+NN', 'to+TO', 'play+VB', 'basketball+NN']\", \"adidas-d-rose-11-basketball-shoes65:['Seems+NNS', 'like+IN', 'this+DT', 'years+NNS', 'adidas+VBP', 'basketball+NN', 'models+NNS', 'except+IN', 'the+DT', 'DON+NNP', 'issue+NN', '2+CD', 'run+VBP', '1+CD', '2+CD', 'size+NN', 'too+RB', 'long+RB', 'Once+RB', 'I+PRP', 'went+VBD', 'down+RB', '5+CD', 'it+PRP', 'fit+JJ', 'perfect+JJ']\", \"adidas-d-rose-11-basketball-shoes66:['One+CD', 'of+IN', 'my+PRP$', 'favorites+NNS', 'shoes+NNS', 'so+RB', 'far+RB', 'I+PRP', 'would+MD', 'recommend+VB', 'this+DT', 'shoe+NN', 'to+TO', 'anyone+NN', 'look+NN', 'for+IN', 'style+NN', 'and+CC', 'comfort+NN']\", \"adidas-d-rose-11-basketball-shoes67:['The+DT', 'shoe+NN', 'It+PRP', 's+VBD', 'self+NN', 'was+VBD', 'ok+JJ', 'But+CC', 'the+DT', 'look+NN', 'was+VBD', 'not+RB', 'good+JJ', 'Ended+VBD', 'up+RP', 'returning+VBG', 'it+PRP', 'for+IN', 'being+VBG', 'so+RB', 'bulky+JJ', 'looking+VBG', 'and+CC', 'not+RB', 'comfortable+JJ']\", \"adidas-d-rose-11-basketball-shoes68:['Good+JJ', 'but+CC', 'a+DT', 'little+JJ', 'to+TO', 'big+JJ', 'I+PRP', 'say+VBP', 'get+VB', 'a+DT', 'size+NN', 'smaller+JJR', 'than+IN', 'what+WP', 'you+PRP', 'usually+RB', 'get+VB']\", \"adidas-d-rose-11-basketball-shoes69:['Comfort+NNP', 'level+NN', 'is+VBZ', 'great+JJ', 'but+CC', 'just+RB', 'a+DT', 'little+JJ', 'to+TO', 'wide+JJ', 'Quality+NNP', 'is+VBZ', 'good+JJ', 'and+CC', 'the+DT', 'shoe+NN', 'looks+VBZ', 'great+JJ']\", \"adidas-d-rose-11-basketball-shoes70:['Bought+NNP', 'for+IN', 'Christmas+NNP', 'and+CC', 'my+PRP$', 'son+NN', 'loves+VBZ', 'them+PRP', 'They+PRP', 'are+VBP', 'nice+JJ']\", \"adidas-d-rose-11-basketball-shoes71:['Great+NNP', 'shoe+NN', 'I+PRP', 'do+VBP', 'recommend+VB', 'this+DT', 'product+NN', 'for+IN', 'others+NNS']\", \"adidas-d-rose-11-basketball-shoes72:['They+PRP', 'fit+VBP', 'great+JJ', 'for+IN', 'me+PRP', 'but+CC', 'I+PRP', 'have+VBP', 'wide+JJ', 'feet+NNS', 'they+PRP', 'are+VBP', 'very+RB', 'comfortable+JJ', 'but+CC', 'DROP+NNP', 'DROSE+NNP', 'CLOTHES+NNP']\", \"adidas-d-rose-11-basketball-shoes73:['Adidas+NNP', 'finally+RB', 'decided+VBD', 'to+TO', 'put+VB', 'some+DT', 'effort+NN', 'into+IN', 'the+DT', 'D+NNP', 'Rose+NNP', 'line+NN', 'and+CC', 'it+PRP', 'shows+VBZ', 'This+DT', 'is+VBZ', 'by+IN', 'far+RB', 'the+DT', 'best+JJS', 'Rose+JJ', 'shoe+NN', 'in+IN', 'terms+NNS', 'of+IN', 'aesthetic+JJ', 'and+CC', 'performance+NN', 'that+IN', 'we+PRP', 've+VBP', 'seen+VBN', 'in+IN', 'the+DT', 'past+JJ', 'years+NNS', 'Very+RB', 'happy+JJ', 'with+IN', 'my+PRP$', 'purchase+NN']\", \"adidas-d-rose-11-basketball-shoes74:['My+PRP$', 'son+NN', 'loves+VBZ', 'them+PRP', 'but+CC', 'I+PRP', 'have+VBP', 'to+TO', 'send+VB', 'them+PRP', 'back+RP', 'the+DT', 'fit+NN', 'is+VBZ', 'too+RB', 'big+JJ']\", \"adidas-d-rose-11-basketball-shoes75:['Said+NNP', 'enough+VBZ', 'The+DT', 'shoe+NN', 'is+VBZ', 'great+JJ', 'on+IN', 'all+DT', 'aspects+NNS', 'for+IN', 'a+DT', 'performance+NN', 'basketball+NN', 'shoe+NN']\", \"adidas-d-rose-11-basketball-shoes76:['Great+NNP', 'shoe+NN', 'ordered+VBD', 'half+PDT', 'a+DT', 'size+NN', 'smaller+JJR', 'because+IN', 'they+PRP', 'didn+VBP', 't+NNS', 'have+VBP', 'my+PRP$', 'size+NN', 'but+CC', 'they+PRP', 'seem+VBP', 'to+TO', 'fit+VB', 'fine+JJ', 'and+CC', 'i+NNS', 'have+VBP', 'no+DT', 'issues+NNS']\", \"adidas-d-rose-11-basketball-shoes77:['Comfort+NN', 'is+VBZ', 'spot+VBN', 'on+IN', 'Especially+NNP', 'if+IN', 'your+PRP$', 'ankles+NNS', 'need+VBP', 'more+JJR', 'support+NN']\", \"adidas-d-rose-11-basketball-shoes78:['I+PRP', 'm+VBP', 'a+DT', 'huge+JJ', 'fan+NN', 'of+IN', 'Rose+NNP', 's+FW', 'shoe+JJ', 'line+NN', 'because+IN', 'of+IN', 'how+WRB', 'comfortable+JJ', 'all+DT', 'his+PRP$', 'shoes+NNS', 'are+VBP']\", \"adidas-d-rose-11-basketball-shoes79:['Great+NNP', 'sneaker+NN', 'and+CC', 'great+JJ', 'colors+NNS', 'I+PRP', 'love+VBP', 'neon+RB', 'green+JJ', 'so+RB', 'I+PRP', 'had+VBD', 'to+TO', 'have+VB', 'these+DT']\", \"adidas-d-rose-11-basketball-shoes80:['The+DT', 'shoe+NN', 'was+VBD', 'clean+JJ', 'and+CC', 'slick+VB', 'It+PRP', 'looks+VBZ', 'exactly+RB', 'like+IN', 'the+DT', 'photos+NNS', 'The+DT', 'shoe+NN', 'is+VBZ', 'comfortable+JJ', 'especially+RB', 'in+IN', 'the+DT', 'arch+NN']\", \"adidas-d-rose-11-basketball-shoes81:['Very+RB', 'happy+JJ', 'with+IN', 'this+DT', 'shoe+NN', 'great+JJ', 'feel+NN', 'had+VBD', 'no+DT', 'problem+NN', 'with+IN', 'comfort+NN', 'immediately+RB']\", \"adidas-d-rose-11-basketball-shoes82:['The+DT', 'color+NN', 'is+VBZ', 'even+RB', 'better+JJR', 'than+IN', 'the+DT', 'pictures+NNS', 'Bought+NNP', 'these+DT', 'as+IN', 'a+DT', 'Christmas+NNP', 'gift+NN', 'definitely+RB', 'worth+IN', 'it+PRP']\", \"adidas-d-rose-11-basketball-shoes83:['My+PRP$', 'first+JJ', 'D+NNP', 'Rose+NNP', 'shoes+NNS', 'and+CC', 'they+PRP', 'are+VBP', 'great+JJ', 'very+RB', 'confortable+JJ', 'and+CC', 'great+JJ', 'support+NN']\", \"adidas-d-rose-11-basketball-shoes84:['They+PRP', 'hug+VBP', 'your+PRP$', 'foot+NN', 'in+IN', 'the+DT', 'right+JJ', 'spot+NN', 'and+CC', 'they+PRP', 'are+VBP', 'very+RB', 'light+JJ', 'weight+NN', 'feels+NNS', 'like+IN', 'walking+VBG', 'on+IN', 'air+NN']\", \"adidas-d-rose-11-basketball-shoes85:['Traction+NN', 'is+VBZ', 'ok+JJ', 'and+CC', 'will+MD', 'have+VB', 'to+TO', 'keep+VB', 'wiping+VBG', 'on+IN', 'dusty+JJ', 'court+NN', 'and+CC', 'recommend+VB', 'half+NN', 'size+NN', 'down+RP']\", \"adidas-d-rose-11-basketball-shoes86:['So+RB', 'much+JJ', 'cushion+NN', 'whenever+WRB', 'i+NN', 'land+VBP', 'from+IN', 'jumping+VBG', 'It+PRP', 'absorbs+IN', 'all+DT', 'of+IN', 'my+PRP$', 'weight+NN']\", \"adidas-d-rose-11-basketball-shoes87:['Fits+NNS', 'good+JJ', 'traction+NN', 'a+DT', 'one+CD', 'fits+VBZ', 'like+IN', 'a+DT', 'glove+NN', 'like+IN', 'you+PRP', 'got+VBP', 'your+PRP$', 'own+JJ', 'skin+NN', 'the+DT', 'best+JJS', 'of+IN', 'getting+VBG', 'basketball+NN', 'shoe+NN', 'of+IN', 'the+DT', 'year+NN', 'of+IN', '2020+CD', 'if+IN', 'you+PRP', 'want+VBP', 'to+TO', 'do+VB', 'the+DT', 'three+CD', 'd+NN', 'rose12+NN', 'like+IN', 'this+DT', 'head+NN', 'will+MD', 'have+VB', 'no+DT', 'problem+NN']\", \"adidas-d-rose-11-basketball-shoes88:['Very+RB', 'satisfied+JJ', 'with+IN', 'the+DT', 'shoe+NN', 'all+DT', 'around+IN', 'The+DT', 'colors+NNS', 'are+VBP', 'great+JJ', 'also+RB', 'when+WRB', 'you+PRP', 'wear+VBP', 'them+PRP', 'its+PRP$', 'very+RB', 'comfortable+JJ']\", \"adidas-d-rose-11-basketball-shoes89:['Ok+JJ', 'fitting+NN', 'shoe+NN', 'Runs+VBZ', 'a+DT', 'bit+NN', 'long+JJ', 'and+CC', 'wide+JJ', 'so+RB', 'I+PRP', 'went+VBD', 'down+RB', 'a+DT', 'half+JJ', 'size+NN', 'Not+RB', 'to+TO', 'snug+VB', 'around+IN', 'the+DT', 'toe+NN', 'box+VBZ', 'A+DT', 'little+JJ', 'loose+JJ', 'and+CC', 'wide+JJ', 'in+IN', 'the+DT', 'toe+NN', 'area+NN']\", \"adidas-d-rose-11-basketball-shoes90:['Love+VB', 'the+DT', 'color+NN', 'trim+NN', 'and+CC', 'design+NN', 'of+IN', 'this+DT', 'shoe+NN', 'Must+NNP', 'remember+VB', 'this+DT', 'is+VBZ', 'a+DT', 'basketball+NN', 'shoe+NN', 'cut+NN', 'and+CC', 'go+VB', 'ability+NN', 'with+IN', 'the+DT', 'base+NN', 'of+IN', 'these+DT']\", \"adidas-d-rose-11-basketball-shoes91:['The+DT', 'shoe+NN', 'looks+VBZ', 'great+JJ', 'However+RB', 'the+DT', 'Shoes+NNS', 'are+VBP', 'missing+VBG', 'the+DT', 'iconic+JJ', 'brenda+NN', 'tattoo+NN', 'on+IN', 'the+DT', 'tongue+NN', 'that+WDT', 'is+VBZ', 'listed+VBN', 'on+IN', 'the+DT', 'description+NN', 'of+IN', 'those+DT', 'On+IN', 'this+DT', 'website+NN']\", \"adidas-d-rose-11-basketball-shoes92:['Great+NNP', 'comfortable+JJ', 'and+CC', 'really+RB', 'cool+JJ', 'look+NN', 'I+PRP', 'would+MD', 'definitely+RB', 'recommend+VB']\", \"adidas-d-rose-11-basketball-shoes93:['Get+VB', 'the+DT', 'D+NNP', 'Rose+NNP', 'shoes+NNS', 'as+RB', 'soon+RB', 'as+IN', 'they+PRP', 'come+VBP', 'out+IN', 'They+PRP', 'are+VBP', 'always+RB', 'sold+VBN', 'out+RP', 'and+CC', 'never+RB', 'get+VB', 'restocked+VBN', 'Still+RB', 'a+DT', 'great+JJ', 'shoe+NN', 'to+TO', 'play+VB', 'in+IN', 'or+CC', 'if+IN', 'you+PRP', 'just+RB', 'out+IN', 'and+CC', 'about+IN', 'Go+NNP', 'a+DT', 'half+NN', 'size+NN', 'down+IN', 'for+IN', 'the+DT', 'best+JJS', 'fit+NN']\", \"adidas-d-rose-11-basketball-shoes94:['D+NNP', 'rose+VBD', 'is+VBZ', 'a+DT', 'bumb+NN', 'but+CC', 'his+PRP$', 'shoes+NNS', 'are+VBP', 'cool+JJ', 'if+IN', 'his+PRP$', 'talent+NN', 'matched+VBD', 'style+NN', 'he+PRP', 'would+MD', 'still+RB', 'be+VB', 'an+DT', 'allstar+NN']\", \"adidas-d-rose-11-basketball-shoes95:['Great+NNP', 'shoe+NN', 'had+VBD', 'to+TO', 'buy+VB', 'another+DT', 'color+NN', '°°°°°°°°°°°°°+NN']\", \"adidas-d-rose-11-basketball-shoes96:['A+DT', 'great+JJ', 'addition+NN', 'to+TO', 'the+DT', 'D+NNP', 'Rose+NNP', 'collection+NN', 'and+CC', 'just+RB', 'an+DT', 'overall+JJ', 'good+JJ', 'looking+VBG', 'and+CC', 'good+JJ', 'fitting+NN', 'shoe+NN']\", \"adidas-d-rose-11-basketball-shoes97:['I+PRP', 'absolutely+RB', 'love+VBP', 'this+DT', 'silhouette+NN', 'This+DT', 'the+DT', 'best+JJS', 'looking+VBG', 'Adidas+NNP', 'basketball+NN', 'sneaker+NN', 'I+PRP', 've+VBP', 'seen+VBN', 'since+IN', 'the+DT', 'Kevin+NNP', 'Garnett+NNP', 's+VBD', 'many+JJ', 'moons+NNS', 'ago+IN', 'The+DT', 'lightstrike+NN', 'is+VBZ', 'pretty+JJ', 'comfortable+JJ', 'and+CC', 'I+PRP', 'm+VBP', 'glad+JJ', 'this+DT', 'was+VBD', 'carried+VBN', 'over+IN', 'from+IN', 'the+DT', 'N3xt+NNP', 'L3v3l+NNP', 'They+PRP', 'fit+VBP', 'true+JJ', 'to+TO', 'size+NN', 'for+IN', 'me+PRP', 'with+IN', 'a+DT', 'bit+NN', 'of+IN', 'toe+NN', 'room+NN', 'for+IN', 'those+DT', 'who+WP', 'need+VBP', 'it+PRP', 'I+PRP', 'wouldn+VBP', 't+JJ', 'recommend+VBP', 'rockin+JJ', 'these+DT', 'loose+JJ', 'b+NN', 'c+NN', 'there+EX', 'is+VBZ', 'quite+RB', 'a+DT', 'bit+NN', 'of+IN', 'dead+JJ', 'space+NN', 'in+IN', 'the+DT', 'upper+JJ', 'Other+JJ', 'than+IN', 'that+IN', 'these+DT', 'are+VBP', 'very+RB', 'dope+RB', 'Especially+RB', 'in+IN', 'the+DT', 'Brenda+NNP', 'colorway+NN']\", \"adidas-d-rose-11-basketball-shoes98:['This+DT', 'is+VBZ', 'just+RB', 'a+DT', 'reminder+NN', 'to+TO', 'go+VB', 'down+RP', 'half+PDT', 'a+DT', 'size+NN', 'I+PRP', 'went+VBD', 'with+IN', 'a+DT', '12+CD', 'because+IN', 'I+PRP', 'wanted+VBD', 'this+DT', 'colorway+NN', 'and+CC', 'it+PRP', 'was+VBD', 'the+DT', 'only+JJ', 'option+NN', 'left+VBD', 'Go+NNP', 'half+NN', 'size+NN', 'down+RP', 'for+IN', 'actual+JJ', 'use+NN']\", \"adidas-d-rose-11-basketball-shoes99:['Love+VB', 'the+DT', 'look+NN', 'and+CC', 'the+DT', 'quality+NN', 'of+IN', 'this+DT', 'shoe+NN', 'Lightweight+NNP', 'and+CC', 'stylish+VB']\", \"adidas-d-rose-11-basketball-shoes100:['This+DT', 'is+VBZ', 'a+DT', 'great+JJ', 'shoe+NN', 'for+IN', 'lounging+VBG', 'and+CC', 'to+TO', 'chill+VB', 'in+IN', 'and+CC', 'not+RB', 'just+RB', 'for+IN', 'the+DT', 'game+NN']\", \"adidas-d-rose-11-basketball-shoes101:['These+DT', 'are+VBP', 'way+NN', 'better+RBR', 'in+IN', 'person+NN', 'very+RB', 'comfortable+JJ', 'on+IN', 'court+NN', 'excellent+JJ', 'traction+NN', 'and+CC', 'much+RB', 'lighter+JJR', 'than+IN', 'expected+VBN']\", \"adidas-d-rose-11-basketball-shoes102:['Love+VB', 'the+DT', 'color+NN', 'way+NN', 'of+IN', 'this+DT', 'shoe+NN', 'A+DT', 'must+MD', 'have+VB', 'sneaker+NN']\", \"adidas-d-rose-11-basketball-shoes103:['Quality+NN', 'is+VBZ', 'perfect+JJ', 'comfortable+JJ', 'and+CC', 'valid+JJ', 'style+NN', 'Everything+NN', 'is+VBZ', 'perfect+JJ']\", \"adidas-d-rose-11-basketball-shoes104:['I+PRP', 'have+VBP', 'wanted+VBN', 'to+TO', 'buy+VB', 'D+NNP', 'Rose+NNP', 'shoes+NNS', 'ever+RB', 'since+IN', 'I+PRP', 'missed+VBD', 'out+RP', 'on+IN', 'the+DT', '7+CD', 's+NN', 'but+CC', 'I+PRP', 'have+VBP', 'not+RB', 'been+VBN', 'a+DT', 'big+JJ', 'enough+JJ', 'fan+NN', 'of+IN', 'any+DT', 'of+IN', 'the+DT', 'subsequent+JJ', 'years+NNS', 'The+DT', '11+CD', 'sweet+JJ', 'home+NN', 'Chicago+NNP', 'is+VBZ', 'visually+RB', 'the+DT', 'best-looking+JJ', 'sneakers+NNS', 'I+PRP', 'have+VBP', 'seen+VBN', 'in+IN', 'a+DT', 'long+JJ', 'time+NN', 'I+PRP', 'ordered+VBD', 'my+PRP$', 'size+NN', 'despite+IN', 'the+DT', 'reviews+NNS', 'and+CC', 'despite+IN', 'the+DT', 'fact+NN', 'that+IN', 'my+PRP$', 'Hardens+NNS', 'were+VBD', 'too+RB', 'big+JJ', 'too+RB', 'And+CC', 'sure+JJ', 'enough+RB', 'they+PRP', 'are+VBP', 'too+RB', 'long+JJ', 'Adidas+NNP', 'measures+NNS', 'in+IN', 'their+PRP$', 'own+JJ', 'way+NN', 'I+PRP', 'suppose+VBP', 'The+DT', 'width+NN', 'was+VBD', 'correct+JJ', 'at+IN', 'least+JJS', 'for+IN', 'me+PRP', 'I+PRP', 'quickly+RB', 'exchanged+VBD', 'via+IN', 'mail+NN', 'my+PRP$', '11+CD', 's+NN', 'for+IN', 'the+DT', '10+CD', 'and+CC', 'a+DT', 'half+NN', 'so+IN', 'that+IN', 'I+PRP', 'could+MD', 'get+VB', 'them+PRP', 'before+IN', 'they+PRP', 'sold+VBD', 'out+RP', 'Adidas+NNP', 'really+RB', 'made+VBD', 'that+IN', 'easy+JJ', 'Obviously+NNP', 'I+PRP', 'can+MD', 't+VB', 'play+VB', 'due+JJ', 'to+TO', 'the+DT', 'circumstances+NNS', 'but+CC', 'I+PRP', 'can+MD', 'not+RB', 'wait+VB', 'to+TO', 'wear+VB', 'these+DT', 'on+IN', 'the+DT', 'court+NN', 'While+IN', 'trying+VBG', 'on+IN', 'the+DT', 'size+NN', '11+CD', 'I+PRP', 'did+VBD', 'notice+RB', 'the+DT', 'material+NN', 'on+IN', 'top+NN', 'of+IN', 'my+PRP$', 'toes+NNS', 'was+VBD', 'pushing+VBG', 'down+RP', 'while+IN', 'I+PRP', 'was+VBD', 'walking+VBG', 'to+TO', 'the+DT', 'point+NN', 'it+PRP', 'was+VBD', 'noticeable+JJ', 'bordering+NN', 'on+IN', 'annoying+VBG', 'I+PRP', 'hope+VBP', 'that+IN', 'it+PRP', 'is+VBZ', 'just+RB', 'part+NN', 'of+IN', 'the+DT', 'break-in+JJ', 'period+NN']\", \"adidas-d-rose-11-basketball-shoes105:['Lucky+JJ', 'I+PRP', 'have+VBP', 'seen+VBN', 'reviews+NNS', 'about+IN', 'this+DT', 'shoe+NN', 'and+CC', 'I+PRP', 'owned+VBD', 'the+DT', 'd+NN', 'rose+VBD', '7+CD', 'so+RB', 'I+PRP', 'know+VBP', 'the+DT', 'traction+NN', 'like+IN', 'the+DT', 'back+NN', 'of+IN', 'my+PRP$', 'hands+NNS', 'Throwback+VBP', 'to+TO', 'when+WRB', 'I+PRP', 'had+VBD', 'your+PRP$', 'd+NN', 'rose+VBD', '3+CD', 'brendas+NNS', ':+:', 'I+PRP', 'm+VBP', 'a+DT', 'size+NN', '9+CD', '5+CD', 'and+CC', 'so+RB', 'I+PRP', 'went+VBD', '9+CD', 'and+CC', 'it+PRP', 'was+VBD', 'a+DT', 'perfect+JJ', 'fit+NN', 'Maybe+NNP', 'an+DT', '8+CD', '5+CD', 'if+IN', 'I+PRP', 'want+VBP', 'the+DT', 'snuggle+NN', 'fit+NN', 'but+CC', 'that+IN', 's+VBZ', 'pushing+VBG', 'it+PRP', 'I+PRP', 'only+RB', 'got+VBD', 'to+TO', 'dress+VB', 'it+PRP', 'up+RP', 'as+IN', 'gyms+NNS', 'are+VBP', 'sadly+RB', 'closed+VBN', 'for+IN', 'the+DT', 'moment+NN', 'but+CC', 'it+PRP', 's+VBZ', 'fireeee+NN', 'It+PRP', 'seems+VBZ', 'the+DT', 'materials+NNS', 'need+VBP', 'to+TO', 'be+VB', 'broken+VBN', 'into+IN', 'as+IN', 'it+PRP', 's+VBZ', 'pretty+RB', 'stiff+JJ', 'outside+IN', 'the+DT', 'box+NN', 'as+IN', 'the+DT', '7s+CD', 'did+VBD', 'I+PRP', 'love+VB', 'you+PRP', 'Derrick+NNP', 'Rose+NNP', 'and+CC', 'hope+VB', 'one+CD', 'day+NN', 'I+PRP', 'can+MD', 'see+VB', 'you+PRP', 'ball+VB', 'on+IN', 'the+DT', 'hardwood+NN', 'God+NNP', 'bless+NN', 'you+PRP', 'and+CC', 'everyone+NN', 'Quick+NNP', 'note+VBP', 'the+DT', 'lightstrike+NN', 'feels+NNS', 'good+JJ', 'walking+NN', 'wise+NN']\", \"adidas-d-rose-11-basketball-shoes106:['These+DT', 'look+VBP', 'great+JJ', 'can+MD', 't+VB', 'wait+NN', 'to+TO', 'hoop+VB', 'in+IN', 'them+PRP']\", \"adidas-d-rose-11-basketball-shoes107:['Went+NNP', 'down+RP', 'a+DT', 'full+JJ', 'size+NN', '10+CD', 'to+TO', 'a+DT', '9+CD', 'and+CC', 'they+PRP', 'fit+VBP', 'perfect+JJ', 'no+DT', 'dead+JJ', 'space+NN', 'in+IN', 'the+DT', 'toe+NN', 'box+NN', 'or+CC', 'heel+NN', 'slippage+NN']\", \"adidas-d-rose-11-basketball-shoes108:['Quality+NN', 'materials+NNS', 'might+MD', 'best+VB', 'Adidas+NNP', 'Hoop+NNP', 'shoe+NN', 'I+PRP', 've+VBP', 'ever+RB', 'bought+VBN', 'Will+MD', 'be+VB', 'copping+VBG', 'a+DT', 'couple+NN', 'more+JJR', 'colorways+NNS']\", \"adidas-d-rose-11-basketball-shoes109:['Good+JJ', 'design+NN', 'I+PRP', 'love+VBP', 'mid+JJ', 'height+NN', 'basketball+NN', 'shoes+NNS', 'Excellent+NNP', 'lightweight+VBD', 'feel+VB']\", \"adidas-d-rose-11-basketball-shoes110:['I+PRP', 've+VBP', 'only+RB', 'worn+VB', 'them+PRP', '2+CD', 'times+NNS', 'since+IN', 'purchase+NN', 'I+PRP', 'haven+VBP', 't+JJ', 'hoop+NN', 'sun+VBD', 'them+PRP', 'The+DT', 'lightstrike+NN', 'foam+NN', 'is+VBZ', 'super+JJ', 'comfy+NN', 'The+DT', 'materials+NNS', 'on+IN', 'the+DT', 'upper+JJ', 'feel+NN', 'pretty+RB', 'good+JJ', 'also+RB', 'I+PRP', 'm+VBP', 'a+DT', 'true+JJ', 'Sz9+NNP', '5+CD', 'but+CC', 'I+PRP', 'usually+RB', 'get+VBP', 'adidas+JJ', 'basketball+NN', 'shoes+NNS', 'in+IN', 'a+DT', 'Sz9+NNP', 'That+WDT', 's+VBD', 'what+WP', 'I+PRP', 'did+VBD', 'with+IN', 'these+DT', 'Went+NNP', 'down+IN', 'a+DT', '1+CD', '2+CD', 'size+NN', 'and+CC', 'they+PRP', 'feel+VBP', 'great+JJ']\", \"adidas-d-rose-11-basketball-shoes111:['Very+RB', 'comfortable+JJ', 'shoe+NN', 'I+PRP', 'always+RB', 'go+VBP', 'down+RP', 'a+DT', 'half+JJ', 'size+NN', 'but+CC', 'I+PRP', 'probably+RB', 'could+MD', 've+VB', 'went+VBD', 'down+IN', 'a+DT', 'full+JJ', 'size+NN', 'The+DT', 'toe+NN', 'box+NN', 'area+NN', 'has+VBZ', 'just+RB', 'a+DT', 'bit+NN', 'to+TO', 'much+JJ', 'space+NN', 'but+CC', 'other+JJ', 'than+IN', 'that+IN', 'it+PRP', 'feels+VBZ', 'great+JJ']\", \"adidas-d-rose-11-basketball-shoes112:['The+DT', 'shoe+NN', 'is+VBZ', 'very+RB', 'comfortable+JJ', 'stylish+NN', 'when+WRB', 'using+VBG', 'It+PRP', 'is+VBZ', 'a+DT', 'bit+NN', 'wider+JJR', 'than+IN', 'I+PRP', 'expected+VBD', 'however+RB', 'I+PRP', 'ordered+VBD', 'online+RP', 'the+DT', 'size+NN', '12+CD', 'I+PRP', 'received+VBD', 'felt+NNS', 'like+IN', 'a+DT', '12+CD', '5+CD', 'the+DT', 'first+JJ', 'time+NN', 'I+PRP', 'wore+VBP', 'the+DT', 'shoe+NN', 'I+PRP', 'tightened+VBD', 'up+RP', 'the+DT', 'laces+NNS', 'as+RB', 'best+RB', 'as+IN', 'I+PRP', 'could+MD', 'was+VBD', 'able+JJ', 'to+TO', 'perform+VB', 'without+IN', 'a+DT', 'hitch+NN']\", \"adidas-d-rose-11-basketball-shoes113:['For+IN', 'basketball+NN', 'I+PRP', 'haven+VBP', 't+RB', 'experienced+VBN', 'a+DT', 'basketball+NN', 'shoe+NN', 'thats+NNS', 'better+RBR', 'to+TO', 'play+VB', 'for+IN', 'hours+NNS', 'in+IN', 'than+IN', 'these+DT', 'Traction+NNP', 'is+VBZ', 'good+JJ', 'and+CC', 'the+DT', 'shoe+NN', 'seems+VBZ', 'durable+JJ', 'just+RB', 'wish+VB', 'there+EX', 'were+VBD', 'more+JJR', 'colors+NNS', 'Lockdown+NNP', 'is+VBZ', 'also+RB', 'a+DT', 'plus+NN', 'in+IN', 'these+DT', 'shoes+NNS', 'Love+NNP', 'D+NNP', 'Rose+NNP']\", 'adidas-d-rose-11-basketball-shoes114:[]', \"adidas-d-rose-11-basketball-shoes115:['overall+JJ', 'score=4+NN', '6+CD']\", \"adidas-d-rose-11-basketball-shoes116:['review+NN', 'count=115+NN', '0+CD']\", \"adidas-d-rose-11-basketball-shoes117:['Sizing+VBG', 'Information+NN']\", \"adidas-d-rose-11-basketball-shoes118:['UNISEX+JJ', 'SIZING+NN', ':+:', 'Unisex+NN', 'shoes+NNS', 'are+VBP', 'equal+JJ', 'to+TO', 'men+NNS', 's+VB', 'shoe+NN', 'sizing+VBG']\", \"adidas-d-rose-11-basketball-shoes119:['Women+NNS', 'select+VBP', '1+CD', '5+CD', 'sizes+NNS', 'smaller+JJR', 'than+IN', 'your+PRP$', 'typical+JJ', 'shoe+NN', 'size+NN']\", \"adidas-d-rose-11-basketball-shoes120:['Ex+NN', 'If+IN', 'you+PRP', 'wear+VBP', 'a+DT', 'women+NNS', 's+VBP', 'size+NN', '10+CD', 'you+PRP', 'would+MD', 'select+VB', 'an+DT', '8+CD', '5+CD', 'in+IN', 'this+DT', 'sneaker+NN']\", \"adidas-d-rose-11-basketball-shoes121:['Men+NNS', 'select+VBP', 'your+PRP$', 'typical+JJ', 'shoe+NN', 'size+NN']\", \"adidas-d-rose-11-basketball-shoes122:['Product+NN', 'Features+NNS']\", \"adidas-d-rose-11-basketball-shoes123:['Mid-cut+NNP', 'silhouette+NN', 'for+IN', 'ankle+NN', 'protection+NN', 'and+CC', 'a+DT', 'classic+JJ', 'look+NN']\", \"adidas-d-rose-11-basketball-shoes124:['Breathable+JJ', 'knit+NN', 'upper+JJ', 'with+IN', 'overlays+NNS', 'for+IN', 'stability+NN']\", \"adidas-d-rose-11-basketball-shoes125:['Lace-up+JJ', 'construction+NN', 'with+IN', 'padded+JJ', 'collar+NN', 'and+CC', 'tongue+NN']\", \"adidas-d-rose-11-basketball-shoes126:['Cushiony+NNP', 'Lightstrike+NNP', 'midsole+NN', 'for+IN', 'comfort+NN']\", \"adidas-d-rose-11-basketball-shoes127:['Durable+JJ', 'rubber+NN', 'traction+NN', 'outsole+NN']\", \"adidas-d-rose-11-basketball-shoes128:['The+DT', 'adidas+JJ', 'D+NNP', 'Rose+NNP', '11+CD', 'is+VBZ', 'imported+VBN']\", \"adidas-d-rose-11-basketball-shoes129:['Step+NN', 'out+RB', 'on+IN', 'the+DT', 'court+NN', 'and+CC', 'get+VB', 'noticed+VBN', 'in+IN', 'the+DT', 'adidas+NN', 'D+NNP', 'Rose+NNP', '11+CD', 'Basketball+NNP', 'Shoes+NNP', 'Lightweight+NNP', 'and+CC', 'offering+VBG', 'plenty+NN', 'of+IN', 'cushy+JJ', 'comfort+NN', 'these+DT', 'sneaks+NNS', 'power+NN', 'through+IN', 'the+DT', 'defense+NN', 'and+CC', 'bring+VB', 'the+DT', 'performance+NN', 'you+PRP', 'need+VBP', 'to+TO', 'get+VB', 'through+IN', 'your+PRP$', 'next+JJ', 'pickup+NN', 'game+NN']\", \"adidas-d-rose-11-basketball-shoes130:['REVIEW+NN']\"]\n"
     ]
    }
   ],
   "source": [
    "all_def.look_n(review_dic, 1)"
   ]
  },
  {
   "cell_type": "code",
   "execution_count": 20,
   "metadata": {
    "collapsed": true,
    "jupyter": {
     "outputs_hidden": true
    }
   },
   "outputs": [
    {
     "name": "stdout",
     "output_type": "stream",
     "text": [
      "<class 'dict'>\n",
      "adidas d rose [\"adidas d rose0:['love+VB', 'the+DT', 'shoes+NNS', 'light+JJ', 'weight+NNP', 'fit+JJ', 'from+IN', 'order+NN', 'to+IN', 'delivery+NN', 'came+VBD', 'in+IN', 'a+DT', 'very+RB', 'timely+JJ', 'manner+NN']\", \"adidas d rose1:['i+PRP', 'recommend+VBP', 'getting+VBG', 'these+DT', 'shoes+NNS', 'comfortable+JJ', 'as+IN', 'they+PRP', 'can+MD', 'get+VB']\", \"adidas d rose2:['women+NNS', 'select+VBP', '2+CD', 'sizes+NNS', 'smaller+JJR', 'than+IN', 'your+PRP$', 'typical+JJ', 'shoe+NN', 'size+NN']\", \"adidas d rose3:['love+VB', 'the+DT', 'shoes+NNS', 'they+PRP', 'are+VBP', 'slightly+RB', 'on+IN', 'the+DT', 'wider+JJR', 'side+NN', 'which+WDT', 'i+PRP', 'happen+VBP', 'to+TO', 'like+UH', 'the+DT', 'sole+NN', 'really+RB', 'grips+VBZ', 'well+RB', 'and+CC', 'i+PRP', 'love+VBP', 'how+WRB', 'the+DT', 'lime+NN', 'green+NN', 'really+RB', 'pops+VBZ', 'when+WRB', 'you+PRP', 'wear+VBP', 'them+PRP', 'very+RB', 'comfortable+JJ', 'shoe+NN', 'with+IN', 'great+JJ', 'support+NN', '5+CD', 'stars+NNS']\", \"adidas d rose4:['i+PRP', 'got+VBD', 'problems+NNS', 'with+IN', 'my+PRP$', 'achilles+NNS', 'and+CC', 'these+DT', 'are+VBP', 'great+JJ']\", \"adidas d rose5:['nice+JJ', 'color+NN', 'combo+NN', 'goes+VBZ', 'well+RB', 'with+IN', 'alot+NN', 'of+IN', 'different+JJ', 'clothing+NN', 'options+NNS']\", \"adidas d rose6:['this+DT', 'shoe+NN', 'is+VBZ', 'a+DT', 'wonderful+JJ', 'shoe+NN', 'for+IN', 'any+DT', 'basketball+NN', 'player+NN', 'it+PRP', 'has+VBZ', 'the+DT', 'comfort+NN', 'and+CC', 'support+VB', 'a+DT', 'player+NN', 'needs+VBZ', 'to+TO', 'make+VB', 'nice+JJ', 'and+CC', 'sharp+JJ', 'cuts+NNS', 'and+CC', 'to+TO', 'be+VB', 'able+JJ', 'to+TO', 'jump+VB', 'and+CC', 'land+VB', 'with+IN', 'comfort+NN']\", \"adidas d rose7:['love+VB', 'these+DT', 'shoes+NNS', 'perfect+VBP', 'fit+JJ', 'and+CC', 'great+JJ', 'quality+NN', 'i+PRP', 'll+VBP', 'more+RBR', 'than+IN', 'likely+RB', 'be+VB', 'purchasing+VBG', 'other+JJ', 'colors+NNS']\", \"adidas d rose8:['review+NNP', 'count=115+CD', '0+CD']\", \"adidas d rose9:['quality+NN', 'materials+NNS', 'might+MD', 'best+RBS', 'adidas+NNP', 'hoop+NNP', 'shoe+NNP', 'i+PRP', 've+VBP', 'ever+RB', 'bought+VBN', 'will+MD', 'be+VB', 'copping+VBG', 'a+DT', 'couple+NN', 'more+JJR', 'colorways+NNS']\", \"adidas d rose10:['this+DT', 'is+VBZ', 'a+DT', 'very+RB', 'nice+JJ', 'pair+NN', 'of+IN', 'shoes+NNS', 'the+DT', 'are+VBP', 'lightweight+JJ', 'and+CC', 'comfortable+JJ', 'i+PRP', 'didn+NNP', 't+NNP', 'buy+VBP', 'them+PRP', 'for+IN', 'the+DT', 'court+NN', 'but+CC', 'they+PRP', 'would+MD', 'be+VB', 'perfect+JJ', 'on+IN', 'the+DT', 'floor+NN', 'now+RB', 'all+DT', 'i+PRP', 'need+VBP', 'is+VBZ', 'some+DT', 'clothing+NN', 'to+TO', 'match+VB']\", \"adidas d rose11:['so+CC', 'i+PRP', 'want+VBP', 'these+DT', 'but+CC', 'my+PRP$', 'mama+NN', 'refuse+VBP', 'to+TO', 'get+VB', 'e+NNP', 'm+NN', 'i+PRP', 'know+VBP', 'their+PRP$', 'reallt+NN', 'good+JJ', 'shoes+NNS', 'i+PRP', 'can+MD', 't+VB', 'wait+VB', 'to+TO', 'get+VB', 'e+NNP', 'm+NN', 'i+PRP', 'love+VBP', 'tacos+NNP']\", \"adidas d rose12:['these+DT', 'are+VBP', 'nice+JJ', 'but+CC', 'please+UH', 'restock+VB', 'the+DT', 'white+NNP', 'black+NNP', 'and+CC', 'red+JJ', 'black+JJ', 'color+NN', '-+HYPH', 'ways+NNS']\", \"adidas d rose13:['just+RB', 'so+RB', 'amazing+JJ', 'i+PRP', 'own+VBP', 'a+DT', 'lot+NN', 'of+IN', 'shoes+NNS', 'i+PRP', 've+JJ', 'had+VBD', 'these+DT', 'for+IN', 'a+DT', 'short+JJ', 'time+NN', 'but+CC', 'by+IN', 'far+RB', 'my+PRP$', 'favorite+JJ', 'shoes+NNS', 'i+PRP', 'own+VBP', 'now+RB', 'just+RB', 'fantastic+JJ', 'i+PRP', 'can+MD', 't+VB', 'tell+VB', 'you+PRP', 'how+WRB', 'great+JJ', 'these+DT', 'are+VBP']\", \"adidas d rose14:['you+PRP', 'can+MD', 'definitely+RB', 'see+VB', 'some+DT', 'of+IN', 'the+DT', 'adhesive+NN', 'in+IN', 'some+DT', 'places+NNS', 'they+PRP', 're+VBP', 'slightly+RB', 'too+RB', 'big+JJ', 'on+IN', 'me+PRP', 'but+CC', 'still+RB', 'look+VBP', 'great+JJ']\", \"adidas d rose15:['great+JJ', 'shoe+NN', 'had+VBD', 'to+TO', 'buy+VB', 'another+DT', 'color+NN']\", \"adidas d rose16:['this+DT', 'is+VBZ', 'a+DT', 'great+JJ', 'shoe+NN', 'for+IN', 'lounging+VBG', 'and+CC', 'to+TO', 'chill+VB', 'in+RB', 'and+CC', 'not+RB', 'just+RB', 'for+IN', 'the+DT', 'game+NN']\", \"adidas d rose17:['just+RB', 'order+VB', 'your+PRP$', 'regular+JJ', 'size+NN', 'in+IN', 'men+NNS', 'and+CC', 'you+PRP', 'should+MD', 'be+VB', 'fine+JJ', 'they+PRP', 'fit+VBP', 'like+IN', 'a+DT', 'glove+NN', 'lol+NN']\", \"adidas d rose18:['cool+JJ', 'style+NN', 'nice+JJ', 'modern+JJ', 'color+NN', 'comfortable+JJ', 'to+TO', 'wear+VB', 'it+PRP', 'all+DT', 'day+NN', 'long+RB']\", \"adidas d rose19:['comfort+NN', 'is+VBZ', 'spot+NN', 'on+RP', 'especially+RB', 'if+IN', 'your+PRP$', 'ankles+NNS', 'need+VBP', 'more+JJR', 'support+NN']\", \"adidas d rose20:['lucky+JJ', 'i+PRP', 'have+VBP', 'seen+VBN', 'reviews+NNS', 'about+IN', 'this+DT', 'shoe+NN', 'and+CC', 'i+PRP', 'owned+VBD', 'the+DT', 'd+NN', 'rose+VBD', '7+CD', 'so+RB', 'i+PRP', 'know+VBP', 'the+DT', 'traction+NN', 'like+IN', 'the+DT', 'back+NN', 'of+IN', 'my+PRP$', 'hands+NNS', 'throwback+RB', 'to+IN', 'when+WRB', 'i+PRP', 'had+VBD', 'your+PRP$', 'd+NN', 'rose+VBD', '3+CD', 'brendas+NN', ':+:', 'i+PRP', 'm+VBD', 'a+DT', 'size+NN', '9+CD', '5+CD', 'and+CC', 'so+RB', 'i+PRP', 'went+VBD', '9+CD', 'and+CC', 'it+PRP', 'was+VBD', 'a+DT', 'perfect+JJ', 'fit+NN', 'maybe+RB', 'an+DT', '8+CD', '5+CD', 'if+IN', 'i+PRP', 'want+VBP', 'the+DT', 'snuggle+NN', 'fit+JJ', 'but+CC', 'that+IN', 's+VBZ', 'pushing+VBG', 'it+PRP', 'i+PRP', 'only+RB', 'got+VBD', 'to+TO', 'dress+VB', 'it+PRP', 'up+RP', 'as+IN', 'gyms+NNS', 'are+VBP', 'sadly+RB', 'closed+JJ', 'for+IN', 'the+DT', 'moment+NN', 'but+CC', 'it+PRP', 's+VBZ', 'fireeee+JJ', 'it+PRP', 'seems+VBZ', 'the+DT', 'materials+NNS', 'need+VBP', 'to+TO', 'be+VB', 'broken+VBN', 'into+IN', 'as+IN', 'it+PRP', 's+VBZ', 'pretty+RB', 'stiff+JJ', 'outside+IN', 'the+DT', 'box+NN', 'as+IN', 'the+DT', '7s+NNP', 'did+VBD', 'i+PRP', 'love+VB', 'you+PRP', 'derrick+NNP', 'rose+VBD', 'and+CC', 'hope+VBP', 'one+CD', 'day+NN', 'i+PRP', 'can+MD', 'see+VB', 'you+PRP', 'ball+NN', 'on+IN', 'the+DT', 'hardwood+NNP', 'god+NNP', 'bless+VBP', 'you+PRP', 'and+CC', 'everyone+NN', 'quick+RB', 'note+VB', 'the+DT', 'lightstrike+NNP', 'feels+VBZ', 'good+JJ', 'walking+VBG', 'wise+JJ']\", \"adidas d rose21:['nice+JJ', 'modern+JJ', 'shoe+NN', 'with+IN', 'a+DT', 'great+JJ', 'color+NN', 'way+NN', 'perfect+JJ', 'to+TO', 'get+VB', 'out+RP', 'on+IN', 'the+DT', 'court+NN', 'with+IN']\", \"adidas d rose22:['need+VBP', 'to+TO', 'order+VB', 'half+NN', 'size+NN', 'to+TO', 'fit+VB', 'and+CC', 'not+RB', 'flip+VB', 'while+IN', 'playing+VBG', 'or+CC', 'running+VBG']\", \"adidas d rose23:['ex+UH', 'if+IN', 'you+PRP', 'wear+VBP', 'a+DT', 'women+NNS', 's+POS', 'size+NN', '10+CD', 'you+PRP', 'would+MD', 'select+VB', 'an+DT', '8+CD', 'in+IN', 'this+DT', 'sneaker+NN']\", \"adidas d rose24:['i+PRP', 'bought+VBD', 'these+DT', 'for+IN', 'basketball+NN', 'use+NN', 'i+PRP', 'love+VBP', 'the+DT', 'design+NN', 'and+CC', 'the+DT', 'way+NN', 'they+PRP', 'look+VBP', '-+:', 'so+RB', 'much+RB', 'so+IN', 'that+IN', 'i+PRP', 'didn+NNP', 't+NNP', 'wear+VBP', 'them+PRP', 'for+IN', 'a+DT', 'while+NN', 'to+TO', 'protect+VB', 'the+DT', 'brand+NN', 'new+JJ', 'look+NN', 'they+PRP', 'fit+VBP', 'perfectly+RB', 'my+PRP$', 'feet+NNS', 'feel+VBP', 'secure+JJ', 'and+CC', 'supported+VBN', 'during+IN', 'intense+JJ', 'playing+NN', 'reviews+NNS', 'also+RB', 'said+VBD', 'to+TO', 'go+VB', 'a+DT', 'half+JJ', 'size+NN', 'down+RP', 'and+CC', 'that+DT', 'was+VBD', 'the+DT', 'right+JJ', 'choice+NN', 'for+IN', 'sure+JJ']\", \"adidas d rose25:['right+RB', 'out+IN', 'of+IN', 'the+DT', 'box+NN', 'i+PRP', 'fell+VBD', 'in+IN', 'love+NN', 'with+IN', 'the+DT', 'shoes+NNS', 'they+PRP', 'look+VBP', 'and+CC', 'feel+VBP', 'great+JJ']\", \"adidas d rose26:['they+PRP', 'fit+VBP', 'great+JJ', 'for+IN', 'me+PRP', 'but+CC', 'i+PRP', 'have+VBP', 'wide+JJ', 'feet+NNS', 'they+PRP', 'are+VBP', 'very+RB', 'comfortable+JJ', 'but+CC', 'drop+VB', 'drose+NN', 'clothes+NNS']\", \"adidas d rose27:['very+RB', 'satisfied+JJ', 'with+IN', 'the+DT', 'shoe+NN', 'all+RB', 'around+IN', 'the+DT', 'colors+NNS', 'are+VBP', 'great+JJ', 'also+RB', 'when+WRB', 'you+PRP', 'wear+VBP', 'them+PRP', 'its+PRP$', 'very+RB', 'comfortable+JJ']\", \"adidas d rose28:['bought+VBN', 'for+IN', 'christmas+NNP', 'and+CC', 'my+PRP$', 'son+NN', 'loves+VBZ', 'them+PRP', 'they+PRP', 'are+VBP', 'nice+JJ']\", \"adidas d rose29:['love+VB', 'the+DT', 'fit+NNP', 'i+PRP', 'am+VBP', 'ordering+VBG', 'another+DT', 'pair+NN', 'comfortable+JJ', 'to+TO', 'wear+VB', 'as+IN', 'a+DT', 'daily+JJ', 'shoe+NN', 'awesome+RB', 'for+IN', 'a+DT', 'workout+NN', 'shoe+NN', 'i+PRP', 'believe+VBP', 'the+DT', 'quality+NN', 'will+MD', 'make+VB', 'this+DT', 'a+DT', 'long+JJ', 'last+JJ', 'shoe+NN']\", \"adidas d rose30:['love+VB', 'this+DT', 'colorways+NNS', 'and+CC', 'cushioning+VBG', 'she+PRP', 'is+VBZ', 'very+RB', 'comfortable+JJ']\", \"adidas d rose31:['the+DT', 'color+NN', 'is+VBZ', 'even+RB', 'better+JJR', 'than+IN', 'the+DT', 'pictures+NNS', 'bought+VBD', 'these+DT', 'as+IN', 'a+DT', 'christmas+NNP', 'gift+NN', 'definitely+RB', 'worth+JJ', 'it+PRP']\", \"adidas d rose32:['i+PRP', 'would+MD', 'recommend+VB', 'going+VBG', 'down+IN', 'a+DT', 'size+NN', 'the+DT', 'run+NN', 'big+JJ', 'but+CC', 'very+RB', 'colorful+JJ', 'and+CC', 'nice+JJ', 'shoes+NNS', 'very+RB', 'comfortable+JJ']\", \"adidas d rose33:['well+UH', 'the+DT', 'shoe+NN', 'itself+PRP', 'is+VBZ', 'beautiful+JJ', 'but+CC', 'the+DT', 'comfort+NN', 'of+IN', 'the+DT', 'sole+JJ', 'feels+VBZ', 'like+IN', 'your+PRP$', 'feet+NNS', 'are+VBP', 'on+IN', 'clouds+NNS']\", \"adidas d rose34:['got+VBD', 'these+DT', 'shoes+NNS', 'for+IN', 'a+DT', 'friend+NN', 'and+CC', 'they+PRP', 'love+VBP', 'them+PRP', 'they+PRP', 'use+VBP', 'it+PRP', 'all+PDT', 'the+DT', 'time+NN', 'and+CC', 'talk+VB', 'about+IN', 'how+WRB', 'comfortable+JJ', 'they+PRP', 'are+VBP']\", \"adidas d rose35:['love+NNP', 'love+NN', 'love+VBP', 'these+DT', 'they+PRP', 'look+VBP', 'comfortable+JJ', 'wish+NN', 'they+PRP', 'had+VBD', 'them+PRP', 'in+IN', 'my+PRP$', 'size+NN']\", \"adidas d rose36:['they+PRP', 'look+VBP', 'even+RB', 'better+RBR', 'in+IN', 'person+NN', 'i+PRP', 'was+VBD', 'so+RB', 'glad+JJ', 'my+PRP$', 'size+NN', 'poped+VBD', 'back+RB', 'in+RB', 'to+IN', 'stock+NN']\", \"adidas d rose37:['i+PRP', 'order+VBP', 'these+DT', 'in+IN', '1997+CD', '2+CD', 'months+NNS', 'ago+RB', 'and+CC', 'they+PRP', 'just+RB', 'arrived+VBD', 'better+RBR', 'late+RB', 'than+IN', 'never+RB', 'fit+VB', 'well+RB', 'basic+JJ', 'shoe+NN', 'for+IN', 'some+DT', 'outdoor+JJ', 'balling+NN']\", \"adidas d rose38:['i+PRP', 'would+MD', 'say+VB', 'that+IN', 'these+DT', 'are+VBP', 'good+JJ', 'shoes+NNS', 'i+PRP', 'just+RB', 'bought+VBD', 'them+PRP', 'because+IN', 'they+PRP', 'looked+VBD', 'good+JJ', 'i+PRP', 'could+MD', 'see+VB', 'them+PRP', 'being+VBG', 'good+JJ', 'for+IN', 'playing+VBG', 'basketball+NN', 'in+IN', 'as+RB', 'well+RB']\", \"adidas d rose39:['got+VBD', 'these+DT', 'shoes+NNS', 'for+IN', 'my+PRP$', 'son+NN', 'for+IN', 'ankle+NN', 'support+NN', 'and+CC', 'he+PRP', 'just+RB', 'brags+VBZ', 'them+PRP', 'up+RP']\", \"adidas d rose40:['sizing+VBG', 'information+NN']\", \"adidas d rose41:['this+DT', 'is+VBZ', 'a+DT', 'one+CD', 'of+IN', 'a+DT', 'kind+JJ', 'amazing+JJ', 'shoe+NN', 'between+IN', 'the+DT', 'color+NN', 'to+IN', 'the+DT', 'design+NN', 'to+IN', 'the+DT', 'comfort+NN', 'it+PRP', 's+VBZ', 'all+RB', 'there+RB', 'in+IN', 'one+CD', 'shoe+NN', 'and+CC', 'i+PRP', 'fell+VBD', 'in+IN', 'the+DT', 'love+NN', 'the+DT', 'minute+NN', 'they+PRP', 'landed+VBD', 'at+IN', 'my+PRP$', 'front+JJ', 'door+NN', 'step+NN']\", \"adidas d rose42:['adidas+NNP', 'made+VBD', 'it+PRP', 'devastating+JJ', 'design+NN', 'incredibly+RB', 'comfortable+JJ', 'shoes+NNS', 'love+VBP', 'it+PRP']\", \"adidas d rose43:['overall+JJ', 'great+JJ', 'shoes+NNS', 'is+VBZ', 'a+DT', 'tiny+JJ', 'bit+NN', 'on+IN', 'the+DT', 'small+JJ', 'side+NN', 'for+IN', 'length+NN', 'but+CC', 'to+IN', 'the+DT', 'point+NN', 'of+IN', 'being+VBG', 'uncomfortable+JJ', 'great+JJ', 'colors+NNS', 'and+CC', 'well+RB', 'made+VBN', 'with+IN', 'quality+NN', 'materials+NNS']\", \"adidas d rose44:['my+PRP$', 'son+NN', 'loved+VBD', 'the+DT', 'sneaker+NN', 'it+PRP', 'was+VBD', 'well+RB', 'made+VBN', 'color+NN', 'was+VBD', 'nice+JJ', 'and+CC', 'overall+JJ', 'cool+JJ', 'sneaker+NN']\", \"adidas d rose45:['my+PRP$', 'absolute+JJ', 'favorite+JJ', 'adidas+NNP', 'is+VBZ', 'the+DT', '773+CD', 'i+PRP', 'love+VBP', 'the+DT', 'comfort+NN', 'and+CC', 'the+DT', 'style+NN']\", \"adidas d rose46:['d+NNP', 'rose+VBD', 'is+VBZ', 'a+DT', 'bumb+NN', 'but+CC', 'his+PRP$', 'shoes+NNS', 'are+VBP', 'cool+JJ', 'if+IN', 'his+PRP$', 'talent+NN', 'matched+VBD', 'style+NN', 'he+PRP', 'would+MD', 'still+RB', 'be+VB', 'an+DT', 'allstar+NN']\", \"adidas d rose47:['they+PRP', 'fit+VBP', 'really+RB', 'great+JJ', 'and+CC', 'are+VBP', 'very+RB', 'comfy+JJ', 'to+IN', 'boot+NN', 'they+PRP', 'have+VBP', 'a+DT', 'nice+JJ', 'bounce+NN', 'to+IN', 'them+PRP', 'derrick+NNP', 'rose+VBD', 's+POS', 'shoes+NNS', 'are+VBP', 'always+RB', 'underrated+JJ', 'so+IN', 'it+PRP', 'shouldn+RB', 't+NNP', 'be+VB', 'a+DT', 'surprise+NN', 'this+DT', 'shoe+NN', 'is+VBZ', 'great+JJ', 'a+DT', 'real+JJ', 'sleeper+NN', 'hit+NN', 'if+IN', 'you+PRP', 'can+MD', 'find+VB', 'a+DT', 'pair+NN', 'in+IN', 'your+PRP$', 'size+NN']\", \"adidas d rose48:['the+DT', 'rose+VBD', '11+CD', 'is+VBZ', 'by+IN', 'far+RB', 'the+DT', 'best+JJS', 'and+CC', 'my+PRP$', 'favorite+JJ', 'shoe+NN', 'from+IN', 'the+DT', 'd+NNP', 'rose+VBD', 'collection+NN', 'fit+NNP', 'comfort+NN', 'and+CC', 'quality+NN', 'and+CC', 'perfect+JJ', 'instant+NN', 'comfort+NN']\", \"adidas d rose49:['quick+JJ', 'aggressive+JJ', 'play+NN', 'deserves+VBZ', 'the+DT', 'utmost+NN', 'in+IN', 'comfort+NN', 'and+CC', 'durable+JJ', 'style+NN', 'cue+VB', 'the+DT', 'adidas+NNP', 'd+NNP', 'rose+VBD', '773+CD', '2020+CD', 'basketball+NN', 'shoes+NNS', ':+:', 'built+VBN', 'to+TO', 'last+VB', 'and+CC', 'provide+VB', 'comfortable+JJ', 'performance+NN', 'specs+NNS', 'these+DT', 'on+IN', '-+HYPH', 'court+NN', 'sneakers+NNS', 'are+VBP', 'your+PRP$', 'new+JJ', 'go+NN', '-+HYPH', 'to+IN', 'when+WRB', 'dynamic+JJ', 'play+NN', 'is+VBZ', 'on+IN', 'the+DT', 'horizon+NN']\", \"adidas d rose50:['been+VBN', 'wearing+VBG', 'd+XX', 'rose+NNP', 's+NN', 'since+IN', 'they+PRP', 'came+VBD', 'out+RP', 'comfortable+JJ', 'lightweight+JJ', 'great+JJ', 'quality+NN', 'basketball+NN', 'shoe+NN']\", \"adidas d rose51:['will+MD', 'buy+VB', 'again+RB', 'asap+.', 'great+JJ', 'color+NN', 'way+NN', 'awesome+JJ', 'shoe+NN', 'in+IN', '2021+CD']\", \"adidas d rose52:['it+PRP', 'is+VBZ', 'a+DT', 'really+RB', 'good+JJ', 'shoe+NN', 'i+PRP', 'like+VBP', 'what+WP', 'it+PRP', 'looks+VBZ', 'like+IN']\", \"adidas d rose53:['great+JJ', 'shoe+NN', 'and+CC', 'great+JJ', 'value+NN', 'for+IN', 'the+DT', 'money+NN', 'definitely+RB', 'recommend+VBP']\", \"adidas d rose54:['the+DT', 'quality+NN', 'is+VBZ', 'very+RB', 'good+JJ', 'and+CC', 'my+PRP$', 'shoe+NN', 'fits+VBZ', 'perfectly+RB']\", \"adidas d rose55:['the+DT', 'gold+NN', 'lightstrike+NNP', 'mid+JJ', '-+JJ', 'sole+JJ', 'bar+NN', 'ended+VBD', 'up+RP', 'being+VBG', 'all+DT', 'black+JJ', 'on+IN', 'the+DT', 'shoe+NN', 'and+CC', 'took+VBD', 'away+RB', 'much+JJ', 'of+IN', 'the+DT', 'appeal+NN', 'the+DT', 'chinese+NNP', 'new+NNP', 'year+NNP', 'version+NN', 'seemed+VBD', 'to+TO', 'have+VB', 'once+RB', 'again+RB', 'perfect+JJ', 'fit+JJ', 'very+RB', 'comfortable+JJ', 'shoe+NN', 'but+CC', 'it+PRP', 'is+VBZ', 'not+RB', 'the+DT', 'shoe+NN', 'pictured+VBN', 'and+CC', 'advertised+VBD', 'above+IN', 'i+PRP', 'received+VBD', 'a+DT', 'red+JJ', 'black+NNP', 'shoe+NNP', 'w+NNP', 'minimal+JJ', 'gold+NN', 'accents+NNS', 'only+RB', 'on+IN', 'the+DT', 'tongue+NN']\", \"adidas d rose56:['quality+NN', 'is+VBZ', 'perfect+JJ', 'comfortable+JJ', 'and+CC', 'valid+JJ', 'style+NN', 'everything+NN', 'is+VBZ', 'perfect+JJ']\", \"adidas d rose57:['the+DT', 'shoe+NN', 'looks+VBZ', 'great+JJ', 'however+RB', 'the+DT', 'shoes+NNS', 'are+VBP', 'missing+VBG', 'the+DT', 'iconic+NNP', 'brenda+NNP', 'tattoo+NNP', 'on+IN', 'the+DT', 'tongue+NN', 'that+WDT', 'is+VBZ', 'listed+VBN', 'on+IN', 'the+DT', 'description+NN', 'of+IN', 'those+DT', 'on+IN', 'this+DT', 'website+NN']\", \"adidas d rose58:['super+RB', 'comfortable+JJ', 'with+IN', 'standout+NN', 'colors+NNS', 'and+CC', 'design+NN']\", \"adidas d rose59:['comfort+NN', 'and+CC', 'light+JJ', 'good+JJ', 'support+VB', 'the+DT', 'heel+NN', 'is+VBZ', 'a+DT', 'little+JJ', 'lose+JJ']\", \"adidas d rose60:['they+PRP', 'run+VBP', 'a+DT', 'little+JJ', 'small+JJ', 'once+IN', 'we+PRP', 'exchanged+VBD', 'them+PRP', 'they+PRP', 'are+VBP', 'great+JJ', 'and+CC', 'look+VB', 'good+JJ']\", \"adidas d rose61:['i+PRP', 'was+VBD', 'so+RB', 'impressed+JJ', 'by+IN', 'the+DT', 'style+NN', 'and+CC', 'design+NN', 'of+IN', 'the+DT', 'shoe+NN', 'it+PRP', 'was+VBD', 'very+RB', 'roomy+NN', 'and+CC', 'comfortable+JJ']\", \"adidas d rose62:['super+NNP', 'light+NNP', 'and+CC', 'fit+VBP', 'perfectly+RB', 'around+IN', 'my+PRP$', 'whole+JJ', 'foot+NN', 'i+PRP', 'm+IN', 'thinking+NN', 'of+IN', 'what+WP', 'other+JJ', 'color+NN', 'way+NN', 'to+TO', 'get+VB', 'next+JJ']\", \"adidas d rose63:['superior+JJ', 'quality+NN', 'in+IN', 'every+DT', 'way+NN', 'down+RB', 'to+IN', 'every+DT', 'detail+NN', 'the+DT', 'most+RBS', 'comfortable+JJ', 'd+NNP', 'rose+VBD', 'i+PRP', 'have+VBP', 'experienced+VBN', 'pictures+NNS', 'do+VBP', 'not+RB', 'do+VB', 'this+DT', 'shoe+NN', 'justice+NN', 'vibrant+JJ', 'colors+NNS', 'and+CC', 'defining+VBG', 'lines+NNS', 'my+PRP$', 'current+JJ', 'favorite+NN', 'in+IN', 'my+PRP$', 'rotation+NN']\", \"adidas d rose64:['nice+JJ', 'better+RBR', 'than+IN', 'most+JJS', 'd+NN', 'roses+VBZ', 'out+RP', 'i+PRP', 'have+VBP', '5+CD', 'different+JJ', 'pair+NN']\", \"adidas d rose65:['i+PRP', 'love+VBP', 'd+NNPS', 'ross11+NN', 'because+IN', 'they+PRP', 'are+VBP', 'beautiful+JJ', 'and+CC', 'very+RB', 'comfortable+JJ', 'and+CC', 'i+PRP', 'love+VBP', 'the+DT', 'color+NN']\", \"adidas d rose66:['great+JJ', 'fit+JJ', 'and+CC', 'comfortable+JJ', 'looking+VBG', 'forward+RB', 'to+IN', 'playing+VBG', 'in+IN', 'them+PRP', 'this+DT', 'season+NN']\", \"adidas d rose67:['love+VB', 'the+DT', 'look+NN', 'and+CC', 'the+DT', 'quality+NN', 'of+IN', 'this+DT', 'shoe+NN', 'lightweight+JJ', 'and+CC', 'stylish+JJ']\", \"adidas d rose68:['fix+VB', 'the+DT', 'ad+NN', 'picture+NN', 'that+WDT', 'shows+VBZ', 'gold+NN', 'on+IN', 'them+PRP', 'there+RB', 'isn+NNP', 't+VBD', 'any+DT', 'gold+NN', 'plating+NN', 'on+IN', 'it+PRP', 'other+JJ', 'than+IN', 'that+IN', 'they+PRP', 'are+VBP', 'perfect+JJ']\", \"adidas d rose69:['the+DT', 'shoes+NNS', 'are+VBP', 'very+RB', 'comfortable+JJ', 'everything+NN', 'that+WDT', 'i+PRP', 'expected+VBD', 'and+CC', 'the+DT', 'price+NN', 'was+VBD', 'great+JJ']\", \"adidas d rose70:['good+JJ', 'quality+NN', 'love+VBP', 'the+DT', 'materials+NNS', 'of+IN', 'the+DT', 'shoes+NNS', 'i+PRP', 'love+VBP', 'everything+NN', 'about+IN', 'it+PRP', 'i+PRP', 'will+MD', 'surely+RB', 'recommend+VB', 'it+PRP', 'to+IN', 'all+DT', 'of+IN', 'my+PRP$', 'friends+NNS', 'and+CC', 'family+NN', 'what+WP', 'i+PRP', 'mostly+RB', 'like+VBP', 'about+IN', 'it+PRP', 'is+VBZ', 'the+DT', 'design+NN', 'very+RB', 'simple+JJ', 'but+CC', 'there+EX', 'is+VBZ', 'an+DT', 'elegant+NN', 'in+IN', 'it+PRP', 'and+CC', 'a+DT', 'swag+NN']\", \"adidas d rose71:['looks+VBZ', 'better+RBR', 'in+IN', 'person+NN', 'good+JJ', 'quality+NN', 'great+JJ', 'fit+NN', 'i+PRP', 'love+VBP', 'the+DT', 'design+NN']\", \"adidas d rose72:['these+DT', 'are+VBP', 'way+RB', 'better+JJR', 'in+IN', 'person+NN', 'very+RB', 'comfortable+JJ', 'on+IN', 'court+NN', 'excellent+JJ', 'traction+NN', 'and+CC', 'much+RB', 'lighter+JJR', 'than+IN', 'expected+VBN']\", \"adidas d rose73:['beautiful+JJ', 'shoe+NN', 'waiting+VBG', 'for+IN', 'my+PRP$', 'size+NN', 'to+TO', 'come+VB', 'in+RP', 'to+TO', 'purchase+VB', 'in+IN', 'the+DT', 'other+JJ', 'colors+NNS']\", \"adidas d rose74:['fits+VBZ', 'good+JJ', 'traction+NN', 'a+DT', 'one+NN', 'fits+VBZ', 'like+IN', 'a+DT', 'glove+NN', 'like+UH', 'you+PRP', 'got+VBP', 'your+PRP$', 'own+JJ', 'skin+NN', 'the+DT', 'best+JJS', 'of+IN', 'getting+VBG', 'basketball+NN', 'shoe+NN', 'of+IN', 'the+DT', 'year+NN', 'of+IN', '2020+CD', 'if+IN', 'you+PRP', 'want+VBP', 'to+TO', 'do+VB', 'the+DT', 'three+CD', 'd+NNP', 'rose12+NNS', 'like+IN', 'this+DT', 'head+NN', 'will+MD', 'have+VB', 'no+DT', 'problem+NN']\", \"adidas d rose75:['good+NNP', 'fit+NNP', 'quility+NN', 'is+VBZ', 'on+IN', 'point+NN', 'and+CC', 'they+PRP', 'look+VBP', 'great+JJ']\", \"adidas d rose76:['can+MD', 't+NNP', 'wait+VB', 'to+TO', 'coach+VB', 'my+PRP$', 'high+JJ', 'school+NN', 'basketball+NN', 'teams+NNS', 'in+IN', 'these+DT', 'd+NN', 'rose+VBD', 'sneakers+NNS']\", \"adidas d rose77:['great+JJ', 'look+VB', 'but+CC', 'you+PRP', 'want+VBP', 'me+PRP', 'to+TO', 'write+VB', 'too+RB', 'much+JJ', 'so+IN', 'it+PRP', 'ruins+VBZ', 'the+DT', 'post+NN']\", \"adidas d rose78:['comfort+NN', 'that+WDT', 'only+RB', 'comes+VBZ', 'from+IN', 'adidas+NN', 'fits+VBZ', 'very+RB', 'well+RB', 'and+CC', 'has+VBZ', 'good+JJ', 'quality+NN', 'for+IN', 'the+DT', 'price+NN']\", \"adidas d rose79:['good+JJ', 'fit+NNP', 'good+JJ', 'look+VBP', 'good+JJ', 'buy+NN', 'for+IN', 'the+DT', 'money+NN', 'easy+JJ', 'to+TO', 'wipe+VB', 'off+RP']\", \"adidas d rose80:['good+JJ', 'but+CC', 'a+DT', 'little+JJ', 'to+TO', 'big+JJ', 'i+PRP', 'say+VBP', 'get+VB', 'a+DT', 'size+NN', 'smaller+JJR', 'than+IN', 'what+WP', 'you+PRP', 'usually+RB', 'get+VBP']\", \"adidas d rose81:['it+PRP', 's+VBZ', 'great+JJ', 'but+CC', 'different+JJ', 'but+CC', 'the+DT', 'feel+NN', 'of+IN', 'them+PRP', 'is+VBZ', 'awesome+JJ']\", \"adidas d rose82:['my+PRP$', 'first+JJ', 'd+NNP', 'rose+NN', 'shoes+NNS', 'and+CC', 'they+PRP', 'are+VBP', 'great+JJ', 'very+RB', 'confortable+JJ', 'and+CC', 'great+JJ', 'support+NN']\", \"adidas d rose83:['love+VB', 'these+DT', 'shoes+NNS', 'fits+VBZ', 'great+JJ', 'great+JJ', 'support+NN', 'would+MD', 'recommend+VB', 'to+IN', 'anyone+NN', 'doesn+VB', 't+NNP', 'hurt+NN', 'that+IN', 'they+PRP', 'look+VBP', 'fresh+JJ', 'too+RB']\", \"adidas d rose84:['the+DT', 'adidas+NNP', 'd+NNP', 'rose+VBD', '773+CD', '2020+CD', 'is+VBZ', 'imported+VBN']\", \"adidas d rose85:['his+PRP$', 'shoes+NNS', 'usually+RB', 'vary+VBP', 'in+IN', 'size+NN', 'between+IN', '10+CD', '1+CD', '2+CD', '-+SYM', '11+CD', '1+CD', '2+CD', 'because+IN', 'he+PRP', 'has+VBZ', 'wide+JJ', 'feet+NNS', 'but+CC', 'i+PRP', 'got+VBD', 'him+PRP', 'an+DT', '11+CD', 'and+CC', 'they+PRP', 'fit+VBP', 'him+PRP', 'great+JJ']\", \"adidas d rose86:['one+CD', 'of+IN', 'my+PRP$', 'favorites+NNS', 'shoes+NNS', 'so+RB', 'far+RB', 'i+PRP', 'would+MD', 'recommend+VB', 'this+DT', 'shoe+NN', 'to+IN', 'anyone+NN', 'look+VB', 'for+IN', 'style+NN', 'and+CC', 'comfort+NN']\", \"adidas d rose87:['i+PRP', 'm+VBD', 'a+DT', 'huge+JJ', 'fan+NN', 'of+IN', 'rose+NNP', 's+NNP', 'shoe+NN', 'line+NN', 'because+IN', 'of+IN', 'how+WRB', 'comfortable+JJ', 'all+PDT', 'his+PRP$', 'shoes+NNS', 'are+VBP']\", \"adidas d rose88:['looks+VBZ', 'great+JJ', 'feels+VBZ', 'great+JJ', 'i+PRP', 'can+MD', 'ball+VB', 'up+RP', 'and+CC', 'walk+VB', 'around+IN', 'all+DT', 'day+NN', 'in+IN', 'these+DT', 'without+IN', 'any+DT', 'discomfort+JJ', 'one+CD', 'of+IN', 'the+DT', 'best+JJS', 'purchases+NNS', 'i+PRP', 've+VBP', 'made+VBN']\", \"adidas d rose89:['just+RB', 'got+VBD', 'this+DT', 'shoe+NN', 'because+IN', 'of+IN', 'my+PRP$', 'ankle+NN', 'problems+NNS', 'and+CC', 'haven+NNP', 't+NNP', 'had+VBD', 'any+DT', 'since+IN']\", \"adidas d rose90:['great+JJ', 'shoes+NNS', 'they+PRP', 'look+VBP', 'and+CC', 'feel+VBP', 'great+JJ', 'plus+CC', 'they+PRP', 'are+VBP', 'affordable+JJ']\", \"adidas d rose91:['my+PRP$', 'daughter+NN', 'loves+VBZ', 'her+PRP$', 'shoes+NNS', 'great+JJ', 'comfort+NN', 'i+PRP', 'would+MD', 'buy+VB', 'them+PRP', 'again+RB']\", \"adidas d rose92:['i+PRP', 'd+VBD', 'highly+RB', 'recommend+VB', 'it+PRP', 'as+IN', 'it+PRP', 'is+VBZ', 'super+RB', 'comfy+JJ', 'and+CC', 'looks+VBZ', 'cool+JJ']\", \"adidas d rose93:['shoes+NNS', 'are+VBP', 'great+JJ', 'very+RB', 'comfortable+JJ', 'on+IN', 'the+DT', 'court+NN', 'i+PRP', 'would+MD', 'recommend+VB']\", \"adidas d rose94:['they+PRP', 'came+VBD', 'in+IN', 'the+DT', 'mail+NN', 'very+RB', 'fast+JJ', 'quality+NN', 'is+VBZ', 'great+JJ', 'their+PRP$', 'comfortable+NN', 'all+RB', 'in+IN', 'all+DT', 'i+PRP', 'would+MD', 'recommend+VB']\", \"adidas d rose95:['they+PRP', 'fit+VBP', 'comfortably+RB', 'and+CC', 'they+PRP', 'make+VBP', 'my+PRP$', 'feet+NNS', 'look+VB', 'smaller+JJR']\", \"adidas d rose96:['very+RB', 'good+JJ', 'sneaker+NN', 'colors+NNS', 'compliment+VBP', 'each+DT', 'other+JJ', 'nicely+RB', 'looks+VBZ', 'good+JJ', 'on+IN', 'the+DT', 'app+NN', 'but+CC', 'better+RBR', 'in+IN', 'person+NN']\", \"adidas d rose97:['a+DT', 'great+JJ', 'addition+NN', 'to+IN', 'the+DT', 'd+NN', 'rose+VBD', 'collection+NN', 'and+CC', 'just+RB', 'an+DT', 'overall+JJ', 'good+JJ', 'looking+JJ', 'and+CC', 'good+JJ', 'fitting+JJ', 'shoe+NN']\", \"adidas d rose98:['the+DT', 'quality+NN', 'of+IN', 'this+DT', 'shoes+NNS', 'and+CC', 'the+DT', 'comfort+NN', 'is+VBZ', 'outstanding+JJ', 'my+PRP$', 'sons+NNS', 'word+NN', 'i+PRP', 'would+MD', 'highly+RB', 'recommend+VB', 'them+PRP']\", \"adidas d rose99:['our+PRP$', 'organization+NN', 'e+VBZ', 'a+DT', 'prep+NN', 'stars+VBZ', 'only+RB', 'wears+VBZ', 'adidas+NNS', 'merchandise+NN', 'our+PRP$', 'team+NN', 'shoe+NN', 'for+IN', 'summer+NN', '2020+CD', 'are+VBP', 'the+DT', 'popular+JJ', 'd+NN', 'rose+VBD', '773+CD', '2020+CD', 'shoes+NNS', 'our+PRP$', 'student+NN', '-+HYPH', 'athletes+NNS', 'absolutely+RB', 'love+VBP', 'the+DT', 'shoes+NNS', 'provides+VBZ', 'maximum+JJ', 'support+NN', 'and+CC', 'comfort+NN']\", \"adidas d rose100:['amazing+JJ', 'amazing+JJ', 'amazing+JJ', 'amazing+JJ', 'amazing+JJ', 'amazing+JJ', 'amazing+JJ']\", \"adidas d rose101:['ok+UH', 'fitting+JJ', 'shoe+NN', 'runs+VBZ', 'a+DT', 'bit+NN', 'long+JJ', 'and+CC', 'wide+JJ', 'so+RB', 'i+PRP', 'went+VBD', 'down+RB', 'a+DT', 'half+JJ', 'size+NN', 'not+RB', 'to+IN', 'snug+VB', 'around+IN', 'the+DT', 'toe+NN', 'box+NN', 'a+DT', 'little+JJ', 'loose+JJ', 'and+CC', 'wide+JJ', 'in+IN', 'the+DT', 'toe+NN', 'area+NN']\", \"adidas d rose102:['five+CD', 'stars+NNS', ';+:', 'two+CD', 'thumbs+NNS', 'up+RP']\", \"adidas d rose103:['perfect+JJ', 'fit+NNP', 'i+PRP', 've+XX', 'been+VBN', 'battling+VBG', 'with+IN', 'some+DT', 'sneakers+NNS', 'about+IN', 'the+DT', 'sizes+NNS', 'i+PRP', 'm+NN', 'an+DT', '11+CD', 'and+CC', 'ultimately+RB', 'i+PRP', 've+VBP', 'been+VBN', 'buying+VBG', 'shoe+NN', '½+NN', 'to+IN', '1+CD', 'size+NN', 'bigger+JJR', 'cause+IN', 'it+PRP', 'doesn+VBP', 't+NNP', 'fit+NNP', 'but+CC', 'this+DT', 'one+NN', 's+PRP', 'are+VBP', 'just+RB', 'perfect+JJ', 'fit+NN', 'at+IN', '11+CD', 'love+VBP', 'them+PRP']\", \"adidas d rose104:['the+DT', 'quality+NN', 'of+IN', 'this+DT', 'shoe+NN', 'is+VBZ', 'great+JJ', 'the+DT', 'comfort+NN', 'is+VBZ', 'good+JJ', 'as+RB', 'well+RB', 'i+PRP', 'would+MD', 'definitely+RB', 'recommend+VB', 'this+DT', 'shoe+NN', 'to+IN', 'friends+NNS']\", \"adidas d rose105:['it+PRP', 'is+VBZ', 'a+DT', 'good+JJ', 'shoe+NN', 'i+PRP', 'wish+VBP', 'the+DT', 'area+NN', 'around+IN', 'the+DT', 'bones+NNS', 'below+IN', 'my+PRP$', 'toes+NNS', 'was+VBD', 'a+DT', 'bit+NN', 'wider+JJR', 'cause+IN', 'it+PRP', 'puts+VBZ', 'pressure+NN', 'and+CC', 'so+RB', 'i+PRP', 'have+VBP', 'to+TO', 'take+VB', 'it+PRP', 'off+RP', 'to+TO', 'rest+VB', 'my+PRP$', 'feet+NNS', 'it+PRP', 'feels+VBZ', 'like+IN', 'their+PRP$', 'being+VBG', 'crushed+VBN', 'other+JJ', 'than+IN', 'that+DT', 'it+PRP', 's+VBZ', 'a+DT', 'great+JJ', 'shoe+NN']\", \"adidas d rose106:['the+DT', 'shoe+NN', 'is+VBZ', 'very+RB', 'comfortable+JJ', 'stylish+JJ', 'when+WRB', 'using+VBG', 'it+PRP', 'is+VBZ', 'a+DT', 'bit+NN', 'wider+JJR', 'than+IN', 'i+PRP', 'expected+VBD', 'however+RB', 'i+PRP', 'ordered+VBD', 'online+RB', 'the+DT', 'size+NN', '12+CD', 'i+PRP', 'received+VBD', 'felt+VBD', 'like+IN', 'a+DT', '12+CD', '5+CD', 'the+DT', 'first+JJ', 'time+NN', 'i+PRP', 'wore+VBD', 'the+DT', 'shoe+NN', 'i+PRP', 'tightened+VBD', 'up+RP', 'the+DT', 'laces+NNS', 'as+RB', 'best+RB', 'as+IN', 'i+PRP', 'could+MD', 'was+VBD', 'able+JJ', 'to+TO', 'perform+VB', 'without+IN', 'a+DT', 'hitch+NN']\", \"adidas d rose107:['this+DT', 'shoe+NN', 'looks+VBZ', 'great+JJ', 'and+CC', 'feels+VBZ', 'amazing+JJ', 'on+IN', 'foot+NN', 'i+PRP', 'have+VBP', 'a+DT', 'wide+JJ', 'foot+NN', 'but+CC', 'this+DT', 'maybe+RB', 'the+DT', 'best+JJS', 'basketball+NN', 'shoe+NN', 'i+PRP', 've+XX', 'ever+RB', 'purchased+VBN', 'for+IN', 'myself+PRP']\", \"adidas d rose108:['i+PRP', 've+XX', 'only+RB', 'worn+VBD', 'them+PRP', '2+CD', 'times+NNS', 'since+IN', 'purchase+NN', 'i+PRP', 'haven+VBP', 't+NNP', 'hoop+NNP', 'sun+NNP', 'them+PRP', 'the+DT', 'lightstrike+NNP', 'foam+NN', 'is+VBZ', 'super+RB', 'comfy+JJ', 'the+DT', 'materials+NNS', 'on+IN', 'the+DT', 'upper+JJ', 'feel+VBP', 'pretty+RB', 'good+JJ', 'also+RB', 'i+PRP', 'm+VBD', 'a+DT', 'true+JJ', 'sz9+NNS', '5+CD', 'but+CC', 'i+PRP', 'usually+RB', 'get+VBP', 'adidas+NN', 'basketball+NN', 'shoes+NNS', 'in+IN', 'a+DT', 'sz9+NNS', 'that+WDT', 's+VBZ', 'what+WP', 'i+PRP', 'did+VBD', 'with+IN', 'these+DT', 'went+VBD', 'down+RB', 'a+DT', '1+CD', '2+CD', 'size+NN', 'and+CC', 'they+PRP', 'feel+VBP', 'great+JJ']\", \"adidas d rose109:['get+VB', 'the+DT', 'd+NN', 'rose+NN', 'shoes+NNS', 'as+RB', 'soon+RB', 'as+IN', 'they+PRP', 'come+VBP', 'out+RP', 'they+PRP', 'are+VBP', 'always+RB', 'sold+VBN', 'out+RP', 'and+CC', 'never+RB', 'get+VB', 'restocked+VBN', 'still+RB', 'a+DT', 'great+JJ', 'shoe+NN', 'to+TO', 'play+VB', 'in+IN', 'or+CC', 'if+IN', 'you+PRP', 'just+RB', 'out+RB', 'and+CC', 'about+IN', 'go+VB', 'a+DT', 'half+JJ', 'size+NN', 'down+RP', 'for+IN', 'the+DT', 'best+JJS', 'fit+NN']\", \"adidas d rose110:['ex+UH', 'if+IN', 'you+PRP', 'wear+VBP', 'a+DT', 'women+NNS', 's+POS', 'size+NN', '10+CD', 'you+PRP', 'would+MD', 'select+VB', 'an+DT', '8+CD', '5+CD', 'in+IN', 'this+DT', 'sneaker+NN']\", \"adidas d rose111:['i+PRP', 'absolutely+RB', 'love+VBP', 'my+PRP$', '773+CD', 's+NN', 'they+PRP', 'are+VBP', 'stylish+JJ', 'a+DT', 'd+NN', 'beyond+IN', 'comfortable+JJ']\", \"adidas d rose112:['these+DT', 'shoes+NNS', 'are+VBP', 'very+RB', 'comfortable+JJ', 'and+CC', 'true+JJ', 'to+TO', 'size+NN']\", \"adidas d rose113:['if+IN', 'your+PRP$', 'looking+VBG', 'for+IN', 'a+DT', 'true+JJ', 'fit+NN', 'to+TO', 'size+VB', 'it+PRP', 's+VBZ', 'here+RB', 'when+WRB', 'i+PRP', 'seen+VBD', 'them+PRP', 'on+IN', 'the+DT', 'website+NN', 'they+PRP', 'looked+VBD', 'good+JJ', 'but+CC', 'let+VB', 'me+PRP', 'tell+VB', 'you+PRP', 'in+IN', 'person+NN', 'they+PRP', 'look+VBP', 'even+RB', 'better+JJR', 'the+DT', 'quality+NN', 'is+VBZ', 'great+JJ', 'and+CC', 'the+DT', 'comfort+NN', 'is+VBZ', 'a+DT', 'plus+NN']\", \"adidas d rose114:['great+JJ', 'shoes+NNS', 'and+CC', 'super+RB', 'comfortable+JJ', 'the+DT', 'fit+NN', 'is+VBZ', 'about+IN', 'half+PDT', 'a+DT', 'size+NN', 'to+IN', 'big+JJ', 'but+CC', 'other+JJ', 'than+IN', 'that+IN', 'they+PRP', 'are+VBP', 'perfect+JJ']\", \"adidas d rose115:['sharp+JJ', 'look+NN', 'with+IN', 'just+RB', 'a+DT', 'small+JJ', 'bit+NN', 'of+IN', 'color+NN', 'and+CC', 'you+PRP', 'can+MD', 'pick+VB']\", \"adidas d rose116:['textile+JJ', 'upper+JJ', 'features+VBZ', 'collar+NN', 'webbing+VBG', 'for+IN', 'breathable+JJ', 'comfort+NN']\", \"adidas d rose117:['very+RB', 'happy+JJ', 'good+JJ', 'fit+NN', 'and+CC', 'comfort+NN']\", \"adidas d rose118:['textile+NN', 'lining+NN', 'for+IN', 'added+VBN', 'comfort+NN']\", \"adidas d rose119:['comfortable+JJ', 'and+CC', 'great+JJ', 'feeling+NN', 'on+IN', 'the+DT', 'court+NN', 'very+RB', 'light+JJ', 'weight+NN', 'nice+JJ', 'color+NN', 'and+CC', 'detail+NN']\", \"adidas d rose120:['these+DT', 'are+VBP', 'absolutely+RB', 'incredible+JJ', 'shoes+NNS', 'i+PRP', 'have+VBP', 'owned+VBN', 'many+JJ', 'different+JJ', 'basketball+NN', 'shoes+NNS', 'and+CC', 'these+DT', 'are+VBP', 'definitely+RB', 'my+PRP$', 'favorite+JJ', 'i+PRP', 'do+VBP', 'wish+VB', 'they+PRP', 'would+MD', 'have+VB', 'kept+VBN', 'the+DT', 'piece+NN', 'on+IN', 'the+DT', 'side+NN', 'of+IN', 'the+DT', 'shoe+NN', 'as+IN', 'gold+NN', 'instead+RB', 'of+IN', 'black+JJ']\", \"adidas d rose121:['love+VB', 'these+DT', 'shoes+NNS', 'the+DT', 'style+NN', 'and+CC', 'the+DT', 'comfort+NN', 'level+NN', 'they+PRP', 'run+VBP', 'a+DT', 'little+JJ', 'big+JJ', 'but+CC', 'it+PRP', 's+VBZ', 'manageable+JJ']\", \"adidas d rose122:['i+PRP', 'have+VBP', 'a+DT', 'narrow+JJ', 'foot+NN', 'but+CC', 'long+RB', 'this+DT', 'shoe+NN', 'fits+VBZ', 'perfectly+RB', 'it+PRP', 'feels+VBZ', 'great+JJ', 'too+RB', 'our+PRP$', 'team+NN', 'said+VBD', 'we+PRP', 'needed+VBD', 'white+JJ', 'shoes+NNS', 'and+CC', 'these+DT', 'look+VBP', 'nice+JJ', 'in+IN', 'white+JJ', 'most+JJS', 'white+JJ', 'basketball+NN', 'shoes+NNS', 'look+VBP', 'like+IN', 'boats+NNS']\", \"adidas d rose123:['worth+JJ', 'buying+VBG', 'this+DT', 'very+RB', 'comfortable+JJ', 'shoes+NNS', 'and+CC', 'also+RB', 'have+VB', 'a+DT', 'good+JJ', 'grip+NN']\", \"adidas d rose124:['the+DT', 'shoes+NNS', 'are+VBP', 'very+RB', 'comfortable+JJ', 'and+CC', 'look+VB', 'great+JJ', 'on+RB', 'and+CC', 'off+IN', 'the+DT', 'court+NN', 'there+RB', 's+VBZ', 'great+JJ', 'support+NN', 'on+IN', 'the+DT', 'ankles+NNS', 'and+CC', 'broke+VBD', 'in+RP', 'after+IN', 'a+DT', 'couple+NN', 'of+IN', 'uses+NNS']\", \"adidas d rose125:['adidas+NNP', 'finally+RB', 'decided+VBD', 'to+TO', 'put+VB', 'some+DT', 'effort+NN', 'into+IN', 'the+DT', 'd+NN', 'rose+NN', 'line+NN', 'and+CC', 'it+PRP', 'shows+VBZ', 'this+DT', 'is+VBZ', 'by+IN', 'far+RB', 'the+DT', 'best+JJS', 'rose+NN', 'shoe+NN', 'in+IN', 'terms+NNS', 'of+IN', 'aesthetic+NN', 'and+CC', 'performance+NN', 'that+WDT', 'we+PRP', 've+VBP', 'seen+VBN', 'in+IN', 'the+DT', 'past+JJ', 'years+NNS', 'very+RB', 'happy+JJ', 'with+IN', 'my+PRP$', 'purchase+NN']\", \"adidas d rose126:['i+PRP', 've+VBP', 'seen+VBN', 'a+DT', 'few+JJ', 'model+NN', 'of+IN', 'the+DT', 'd+NNP', 'rose+VBD', 'line+NN', 'that+IN', 'i+PRP', 've+VBP', 'liked+VBD', 'over+IN', 'the+DT', 'years+NNS', 'but+CC', 'the+DT', '11+CD', 'is+VBZ', 'by+IN', 'far+RB', 'my+PRP$', 'favorite+JJ', 'i+PRP', 'really+RB', 'like+VBP', 'the+DT', 'lightstrike+NNP', 'foam+NN', 'although+IN', 'not+RB', 'as+RB', 'comfortable+JJ', 'as+IN', 'the+DT', 'boost+NN', 'but+CC', 'still+RB', 'feels+VBZ', 'pretty+RB', 'good+JJ', 'under+IN', 'foot+NN', 'the+DT', 'length+NN', 'fits+NNS', 'great+JJ', 'even+RB', 'though+IN', 'the+DT', 'width+NN', 'has+VBZ', 'a+DT', 'bit+NN', 'of+IN', 'space+NN', 'overall+RB', 'i+PRP', 'm+VBD', 'very+RB', 'pleased+JJ', 'with+IN', 'this+DT', 'shoes+NNS', 'so+RB', 'much+RB', 'that+DT', 'so+RB', 'far+RB', 'i+PRP', 'have+VBP', 'two+CD', 'pairs+NNS', 'and+CC', 'will+MD', 'definitely+RB', 'buy+VB', 'more+JJR', 'colorways+NNS']\", \"adidas d rose127:['love+VB', 'the+DT', 'hints+NNS', 'of+IN', 'gold+NN', 'on+IN', 'the+DT', 'shoe+NN', 'and+CC', 'they+PRP', 're+VBZ', 'so+RB', 'lightweight+JJ']\", \"adidas d rose128:['comfortable+JJ', 'and+CC', 'affordable+JJ', 'very+RB', 'stylish+JJ', 'i+PRP', 'would+MD', 'recommend+VB', 'to+IN', 'anyone+NN']\", \"adidas d rose129:['i+PRP', 'like+VBP', 'small+JJ', 'shoes+NNS', 'this+DT', 'shoes+NNS', 'is+VBZ', 'really+RB', 'big+JJ', 'not+RB', 'in+IN', 'size+NN', 'but+CC', 'width+NN', 'and+CC', 'all+DT', 'i+PRP', 'thought+VBD', 'it+PRP', 'would+MD', 'be+VB', 'a+DT', 'little+JJ', 'bit+NN', 'neater+JJ', 'than+IN', 'it+PRP', 'is+VBZ', 'the+DT', 'add+NN', 'did+VBD', 'it+PRP', 'no+DT', 'justice+NN']\", \"adidas d rose130:['i+PRP', 'bought+VBD', 'these+DT', 'for+IN', 'my+PRP$', 'stepdaughter+NN', 'and+CC', 'she+PRP', 'loves+VBZ', 'them+PRP', 'they+PRP', 'are+VBP', 'great+JJ', 'and+CC', 'neutral+JJ', 'so+IN', 'that+IN', 'they+PRP', 'match+VBP', 'her+PRP$', 'basketball+NN', 'uniform+NN', 'love+NN']\", \"adidas d rose131:['good+JJ', 'basketball+NN', 'shoe+NN', 'for+IN', 'the+DT', 'sport+NN', 'or+CC', 'just+RB', 'to+TO', 'wear+VB', 'very+RB', 'smooth+JJ', 'shoe+NN', 'by+IN', 'adidas+NNP']\", \"adidas d rose132:['women+NNS', 'select+VBP', '1+CD', '5+CD', 'sizes+NNS', 'smaller+JJR', 'than+IN', 'your+PRP$', 'typical+JJ', 'shoe+NN', 'size+NN']\", \"adidas d rose133:['can+MD', 't+NNP', 'wait+VB', 'to+TO', 'bring+VB', 'the+DT', 'shots+NNS', 'on+IN', 'the+DT', 'court+NN', 'with+IN', 'this+DT', 'baby+NN']\", \"adidas d rose134:['overall+JJ', 'great+JJ', 'shoe+NN', 'perfect+JJ', 'shoe+NN', 'to+TO', 'play+VB', 'basketball+NN']\", \"adidas d rose135:['i+PRP', 'm+VBD', 'a+DT', 'huge+JJ', 'd+NN', 'rose+VBD', 'fan+NN', 'so+RB', 'when+WRB', 'i+PRP', 'saw+VBD', 'some+DT', 'affordable+JJ', 'shoes+NNS', 'by+IN', 'him+PRP', 'i+PRP', 'was+VBD', 'excited+JJ', 'and+CC', 'for+IN', 'good+JJ', 'reason+NN', 'shoes+NNS', 'are+VBP', 'beautiful+JJ', 'and+CC', 'fit+JJ', 'good+JJ', 'a+DT', 'little+JJ', 'narrow+JJ', 'but+CC', 'once+IN', 'you+PRP', 'break+VBP', 'them+PRP', 'in+RB', 'there+RB', 'perfect+JJ']\", \"adidas d rose136:['so+RB', 'much+JJ', 'cushion+NN', 'whenever+WRB', 'i+PRP', 'land+VBP', 'from+IN', 'jumping+VBG', 'it+PRP', 'absorbs+VBZ', 'all+DT', 'of+IN', 'my+PRP$', 'weight+NN']\", \"adidas d rose137:['mid+JJ', '-+JJ', 'cut+JJ', 'silhouette+NN', 'and+CC', 'lace+NN', '-+HYPH', 'up+RP', 'construction+NN']\", \"adidas d rose138:['i+PRP', 'absolutely+RB', 'love+VBP', 'this+DT', 'silhouette+NN', 'this+DT', 'the+DT', 'best+JJS', 'looking+JJ', 'adidas+NN', 'basketball+NN', 'sneaker+NN', 'i+PRP', 've+VBP', 'seen+VBN', 'since+IN', 'the+DT', 'kevin+NNP', 'garnett+NNP', 's+POS', 'many+JJ', 'moons+NNS', 'ago+RB', 'the+DT', 'lightstrike+NN', 'is+VBZ', 'pretty+RB', 'comfortable+JJ', 'and+CC', 'i+PRP', 'm+VBD', 'glad+JJ', 'this+DT', 'was+VBD', 'carried+VBN', 'over+RP', 'from+IN', 'the+DT', 'n3xt+NNP', 'l3v3l+NNP', 'they+PRP', 'fit+VBP', 'true+JJ', 'to+TO', 'size+VB', 'for+IN', 'me+PRP', 'with+IN', 'a+DT', 'bit+NN', 'of+IN', 'toe+NN', 'room+NN', 'for+IN', 'those+DT', 'who+WP', 'need+VBP', 'it+PRP', 'i+PRP', 'wouldn+VBD', 't+NNP', 'recommend+NN', 'rockin+NNP', 'these+DT', 'loose+JJ', 'b+NNP', 'c+NN', 'there+EX', 'is+VBZ', 'quite+PDT', 'a+DT', 'bit+NN', 'of+IN', 'dead+JJ', 'space+NN', 'in+IN', 'the+DT', 'upper+JJ', 'other+JJ', 'than+IN', 'that+IN', 'these+DT', 'are+VBP', 'very+RB', 'dope+NN', 'especially+RB', 'in+IN', 'the+DT', 'brenda+NNP', 'colorway+NNP']\", \"adidas d rose139:['where+WRB', 'the+DT', 'gold+NN', 'metallic+NN', 'is+VBZ', 'in+IN', 'the+DT', 'picture+NN', 'i+PRP', 'did+VBD', 'not+RB', 'receive+VB', 'on+IN', 'my+PRP$', 'pair+NN', 'of+IN', 'd+NN', 'rose+VBD', '11s+NNPS', 'won+VBD', 't+NN', 'recommend+NN', 'basketball+NN', 'shoes+NNS', 'from+IN', 'adidas+NNP']\", \"adidas d rose140:['comfort+NN', 'level+NN', 'is+VBZ', 'great+JJ', 'but+CC', 'just+RB', 'a+DT', 'little+JJ', 'to+IN', 'wide+JJ', 'quality+NN', 'is+VBZ', 'good+JJ', 'and+CC', 'the+DT', 'shoe+NN', 'looks+VBZ', 'great+JJ']\", \"adidas d rose141:['nice+JJ', 'color+NN', 'good+JJ', 'quality+NN', '1+CD', '2+CD', 'size+NN', 'bigger+JJR', 'makes+VBZ', 'it+PRP', 'very+RB', 'comfortable+JJ']\", \"adidas d rose142:['i+PRP', 'loved+VBD', 'the+DT', 'design+NN', 'but+CC', 'i+PRP', 'never+RB', 'saw+VBD', 'that+IN', 'it+PRP', 'was+VBD', 'for+IN', 'men+NNS', 'and+CC', 'women+NNS', 'i+PRP', 'am+VBP', 'size+NN', '9+CD', 'and+CC', 'it+PRP', 'is+VBZ', 'too+RB', 'big+JJ', 'i+PRP', 'had+VBD', 'to+TO', 'change+VB', 'it+PRP', 'in+IN', 'the+DT', 'store+NN']\", \"adidas d rose143:['they+PRP', 'are+VBP', 'very+RB', 'comfortable+JJ', 'and+CC', 'stylish+JJ', 'nice+JJ', 'color+NN', 'and+CC', 'design+NN']\", \"adidas d rose144:['the+DT', 'grip+NN', 'is+VBZ', 'good+JJ', 'i+PRP', 'started+VBD', 'play+VBP', 'with+IN', 'the+DT', 'shoe+NN', 'and+CC', 'satisfied+JJ']\", \"adidas d rose145:['the+DT', 'shoe+NN', 'it+PRP', 's+VBZ', 'self+NN', 'was+VBD', 'ok+JJ', 'but+CC', 'the+DT', 'look+NN', 'was+VBD', 'not+RB', 'good+JJ', 'ended+VBN', 'up+RP', 'returning+VBG', 'it+PRP', 'for+IN', 'being+VBG', 'so+RB', 'bulky+JJ', 'looking+VBG', 'and+CC', 'not+RB', 'comfortable+JJ']\", \"adidas d rose146:['unisex+NNP', 'sizing+NN', ':+:', 'unisex+NNP', 'shoes+NNS', 'are+VBP', 'equal+JJ', 'to+IN', 'men+NNS', 's+POS', 'shoe+NN', 'sizing+VBG']\", \"adidas d rose147:['comfortable+JJ', 'and+CC', 'great+JJ', 'looking+JJ', 'shows+NNS', 'for+IN', 'the+DT', 'price+NN']\", \"adidas d rose148:['these+DT', 'look+VBP', 'great+JJ', 'can+MD', 't+VB', 'wait+VB', 'to+TO', 'hoop+VB', 'in+IN', 'them+PRP']\", \"adidas d rose149:['they+PRP', 'are+VBP', 'perfect+JJ', 'for+IN', 'basketball+NN', 'for+IN', 'my+PRP$', 'varsity+NN', 'playing+VBG', 'granddaughter+NN', 'she+PRP', 'loves+VBZ', 'them+PRP', 'in+IN', 'this+DT', 'covid+JJ', 'year+NN', 'she+PRP', 'needed+VBD', 'a+DT', 'positive+JJ']\", \"adidas d rose150:['lightweight+NNP', 'bounce+NNP', 'midsole+NNP', 'cushioning+NN']\", \"adidas d rose151:['fits+VBZ', 'very+RB', 'well+RB', 'it+PRP', 'is+VBZ', 'very+RB', 'comfortable+JJ', 'feels+VBZ', 'like+IN', 'i+PRP', 'could+MD', 'wear+VB', 'them+PRP', 'all+DT', 'day+NN', 'no+DT', 'problem+NN']\", \"adidas d rose152:['the+DT', 'shoes+NNS', 'are+VBP', 'very+RB', 'light+JJ', 'and+CC', 'very+RB', 'soft+JJ', 'and+CC', 'it+PRP', 'make+VBP', 'you+PRP', 'feel+VB', 'like+IN', 'you+PRP', 'don+VBP', 't+NNP', 'even+RB', 'have+VBP', 'shoes+NNS', 'on+IN']\", \"adidas d rose153:['perfect+JJ', 'size+NN', 'my+PRP$', 'husband+NN', 'loves+VBZ', 'this+DT', 'excellent+JJ', 'cost+NN', '-+HYPH', 'quality+NN', 'ratio+NN', 'i+PRP', 'recommend+VBP', 'it+PRP']\", \"adidas d rose154:['my+PRP$', '14y+CD', 'son+NN', 'loves+VBZ', 'these+DT', 'wide+JJ', 'width+JJ', 'sneakers+NNS', 'he+PRP', 'says+VBZ', 'the+DT', 'heel+NN', 'feels+VBZ', 'like+IN', 'a+DT', 'marshmallow+NN']\", \"adidas d rose155:['i+PRP', 'like+VBP', 'this+DT', 'product+NN', 'very+RB', 'much+RB', 'the+DT', 'colors+NNS', 'are+VBP', 'nice+JJ', 'also+RB', 'the+DT', 'shoe+NN', 'is+VBZ', 'very+RB', 'comfortable+JJ']\", \"adidas d rose156:['good+JJ', 'design+NN', 'i+PRP', 'love+VBP', 'mid+NNP', 'height+NN', 'basketball+NN', 'shoes+NNS', 'excellent+JJ', 'lightweight+NNP', 'feel+VBP']\", \"adidas d rose157:['i+PRP', 'was+VBD', 'so+RB', 'excited+JJ', 'for+IN', 'the+DT', 'release+NN', 'of+IN', 'the+DT', 'chinese+NNP', 'new+NNP', 'year+NN', 'inspiration+NN', 'sneakers+NNS', 'but+CC', 'it+PRP', 'was+VBD', 'nothing+NN', 'like+IN', 'the+DT', 'pictures+NNS', 'on+IN', 'the+DT', 'website+NN', 'the+DT', 'metallics+NNPS', 'gold+NNP', 'midsole+NNP', 'lightstrike+NNP', 'bar+NN', 'which+WDT', 'was+VBD', 'the+DT', 'highlight+NN', 'of+IN', 'the+DT', 'shoes+NNS', 'is+VBZ', 'all+DT', 'black+JJ', 'instead+RB', 'it+PRP', 's+VBZ', 'such+PDT', 'a+DT', 'disappointment+NN']\", \"adidas d rose158:['it+PRP', 'didn+NNP', 't+NNP', 'fit+VBP', 'well+RB', 'and+CC', 'was+VBD', 'uncomfortable+JJ', 'didn+NNP', 't+NNP', 'last+JJ', 'long+RB', 'or+CC', 'perform+VBP', 'as+RB', 'well+RB', 'as+IN', 'most+JJS', 'of+IN', 'the+DT', 'basketball+NN', 'shoes+NNS', 'i+PRP', 've+VBP', 'used+VBN']\", \"adidas d rose159:['very+RB', 'happy+JJ', 'with+IN', 'this+DT', 'shoe+NN', 'great+JJ', 'feel+NN', 'had+VBD', 'no+DT', 'problem+NN', 'with+IN', 'comfort+NN', 'immediately+RB']\", \"adidas d rose160:['product+NN', 'features+NNS']\", \"adidas d rose161:['overall+JJ', 'score=4+NNP', '6+CD']\", \"adidas d rose162:['rubber+NN', 'outsole+RB', 'with+IN', 'herringbone+JJ', 'traction+NN', 'pattern+NN']\", \"adidas d rose163:['nice+JJ', 'looking+JJ', 'shoe+NN', 'i+PRP', 'got+VBD', 'compliments+NNS', 'i+PRP', 'purchased+VBD', 'the+DT', 'complete+JJ', 'look+NN']\", \"adidas d rose164:['adidas+NNP', 'dies+VBZ', 'it+PRP', 'again+RB', 'this+DT', 'shoes+NNS', 'is+VBZ', 'perfect+JJ', 'for+IN', 'playing+VBG', 'ball+NN', 'not+RB', 'to+IN', 'heavy+JJ', 'and+CC', 'gives+VBZ', 'protection+NN', 'around+IN', 'the+DT', 'ankle+NN', 'sole+JJ', 'has+VBZ', 'good+JJ', 'grip+NN', 'so+RB', 'you+PRP', 'are+VBP', 'not+RB', 'sliding+VBG', 'on+IN', 'the+DT', 'floor+NN']\", \"adidas d rose165:['review+NN', 'count=95+CD', '0+CD']\", \"adidas d rose166:['the+DT', 'shoe+NN', 'is+VBZ', 'a+DT', 'perfect+JJ', 'mix+NN', 'of+IN', 'comfort+NN', 'and+CC', 'style+NN', 'my+PRP$', 'son+NN', 'absolutely+RB', 'enjoys+VBZ', 'playing+VBG', 'ball+NN', 'in+IN', 'these+DT', 'shoes+NNS', 'and+CC', 'the+DT', 'color+NN', 'coordinates+VBZ', 'with+IN', 'his+PRP$', 'uniform+NN', 'perfectly+RB', 'he+PRP', 'started+VBD', 'out+RP', 'in+IN', 'drose+NN', 'shoes+NNS', 'and+CC', 'he+PRP', 's+VBZ', 'happy+JJ', 'he+PRP', 'found+VBD', 'his+PRP$', 'way+NN', 'back+RB', 'to+IN', 'them+PRP', 'i+PRP', 'would+MD', 'definitely+RB', 'recommend+VB']\", \"adidas d rose167:['i+PRP', 'am+VBP', 'adidas+NNP', 'it+PRP', 's+VBZ', 'all+DT', 'i+PRP', 'wear+VBP', 'need+VBP', 'a+DT', 'contract+NN', 'asap+NNS']\", \"adidas d rose168:['love+VB', 'the+DT', 'color+NN', 'nice+JJ', 'and+CC', 'comfortable+JJ', 'good+NN', 'too+RB', 'walk+NN', 'in+IN']\", \"adidas d rose169:['i+PRP', 'm+VBD', 'a+DT', 'huge+JJ', 'drose+NN', 'fan+NN', 'these+DT', 'shoes+NNS', 'are+VBP', 'great+JJ', 'to+TO', 'hoop+VB', 'in+IN']\", \"adidas d rose170:['overall+JJ', 'score=4+NNP', '8+CD']\", \"adidas d rose171:['the+DT', 'd+NNP', 'rose+VBD', '773+CD', '2020+CD', 'has+VBZ', 'become+VBN', 'one+CD', 'of+IN', 'my+PRP$', 'all+DT', 'time+NN', 'favorite+JJ', 'basketball+NN', 'sneakers+NNS']\", \"adidas d rose172:['great+NNP', 'sneaker+NNP', 'and+CC', 'great+JJ', 'colors+NNS', 'i+PRP', 'love+VBP', 'neon+NN', 'green+NNP', 'so+RB', 'i+PRP', 'had+VBD', 'to+TO', 'have+VB', 'these+DT']\", \"adidas d rose173:['its+PRP$', 'a+DT', 'very+RB', 'light+JJ', 'shoe+NN', 'and+CC', 'comfortable+JJ', 'for+IN', 'the+DT', 'bottom+NN', 'of+IN', 'her+PRP$', 'foot+NN', 'and+CC', 'doesn+NN', 't+NN', 'cause+VB', 'blisters+NNS', 'around+IN', 'd+NN', 'the+DT', 'heel+NN', 'and+CC', 'ankle+NN']\", \"adidas d rose174:['my+PRP$', 'friend+NN', 'love+VBP', 'it+PRP', 'definitly+RB', 'will+MD', 'order+VB', 'more+JJR', 'its+PRP$', 'nice+JJ', 'and+CC', 'comfortable+JJ']\", \"adidas d rose175:['there+EX', 'very+RB', 'comfortable+JJ', 'and+CC', 'they+PRP', 'look+VBP', 'great+JJ', 'i+PRP', 'can+MD', 'can+MD', 'wear+VB', 'them+PRP', 'all+DT', 'day+NN', 'no+DT', 'problem+NN']\", \"adidas d rose176:['i+PRP', 'have+VBP', 'wanted+VBN', 'to+TO', 'buy+VB', 'd+NNP', 'rose+NN', 'shoes+NNS', 'ever+RB', 'since+IN', 'i+PRP', 'missed+VBD', 'out+RP', 'on+IN', 'the+DT', '7+CD', 's+NN', 'but+CC', 'i+PRP', 'have+VBP', 'not+RB', 'been+VBN', 'a+DT', 'big+JJ', 'enough+JJ', 'fan+NN', 'of+IN', 'any+DT', 'of+IN', 'the+DT', 'subsequent+JJ', 'years+NNS', 'the+DT', '11+CD', 'sweet+NNP', 'home+NN', 'chicago+NNP', 'is+VBZ', 'visually+RB', 'the+DT', 'best+RBS', '-+HYPH', 'looking+VBG', 'sneakers+NNS', 'i+PRP', 'have+VBP', 'seen+VBN', 'in+IN', 'a+DT', 'long+JJ', 'time+NN', 'i+PRP', 'ordered+VBD', 'my+PRP$', 'size+NN', 'despite+IN', 'the+DT', 'reviews+NNS', 'and+CC', 'despite+IN', 'the+DT', 'fact+NN', 'that+IN', 'my+PRP$', 'hardens+NNS', 'were+VBD', 'too+RB', 'big+JJ', 'too+RB', 'and+CC', 'sure+RB', 'enough+RB', 'they+PRP', 'are+VBP', 'too+RB', 'long+JJ', 'adidas+NN', 'measures+NNS', 'in+IN', 'their+PRP$', 'own+JJ', 'way+NN', 'i+PRP', 'suppose+VBP', 'the+DT', 'width+NN', 'was+VBD', 'correct+JJ', 'at+IN', 'least+JJS', 'for+IN', 'me+PRP', 'i+PRP', 'quickly+RB', 'exchanged+VBD', 'via+IN', 'mail+NN', 'my+PRP$', '11+CD', 's+NN', 'for+IN', 'the+DT', '10+CD', 'and+CC', 'a+DT', 'half+NN', 'so+IN', 'that+IN', 'i+PRP', 'could+MD', 'get+VB', 'them+PRP', 'before+IN', 'they+PRP', 'sold+VBD', 'out+RP', 'adidas+NNS', 'really+RB', 'made+VBD', 'that+IN', 'easy+JJ', 'obviously+RB', 'i+PRP', 'can+MD', 't+VB', 'play+VB', 'due+IN', 'to+IN', 'the+DT', 'circumstances+NNS', 'but+CC', 'i+PRP', 'can+MD', 'not+RB', 'wait+VB', 'to+TO', 'wear+VB', 'these+DT', 'on+IN', 'the+DT', 'court+NN', 'while+IN', 'trying+VBG', 'on+IN', 'the+DT', 'size+NN', '11+CD', 'i+PRP', 'did+VBD', 'notice+VB', 'the+DT', 'material+NN', 'on+IN', 'top+NN', 'of+IN', 'my+PRP$', 'toes+NNS', 'was+VBD', 'pushing+VBG', 'down+RP', 'while+IN', 'i+PRP', 'was+VBD', 'walking+VBG', 'to+IN', 'the+DT', 'point+NN', 'it+PRP', 'was+VBD', 'noticeable+JJ', 'bordering+VBG', 'on+RP', 'annoying+JJ', 'i+PRP', 'hope+VBP', 'that+IN', 'it+PRP', 'is+VBZ', 'just+RB', 'part+NN', 'of+IN', 'the+DT', 'break+VB', '-+HYPH', 'in+RP', 'period+NN']\", \"adidas d rose177:['a+DT', 'great+JJ', 'looking+JJ', 'and+CC', 'very+RB', 'comfortable+JJ', 'shoe+NN', 'i+PRP', 'got+VBD', 'several+JJ', 'compliments+NNS', 'on+IN', 'them+PRP', 'and+CC', 'my+PRP$', 'teenager+NN', 'now+RB', 'wants+VBZ', 'a+DT', 'pair+NN']\", \"adidas d rose178:['this+DT', 'is+VBZ', 'a+DT', 'great+JJ', 'pair+NN', 'of+IN', 'shoes+NNS', 'i+PRP', 'would+MD', 'recommend+VB', 'this+DT', 'to+IN', 'a+DT', 'friend+NN', 'but+CC', 'make+VB', 'sure+JJ', 'you+PRP', 'do+VBP', 'your+PRP$', 'research+NN', 'before+IN', 'this+DT', 'shoe+NN', 'runs+VBZ', 'long+JJ', 'and+CC', 'very+RB', 'wide+JJ', 'i+PRP', 'also+RB', 'wouldn+VBD', 't+NN', 'play+NN', 'with+IN', 'these+DT', 'on+IN', 'ash+NNP', 'indoor+JJ', 'court+NN', 'because+IN', 'the+DT', 'traction+NN', 'is+VBZ', 'a+DT', 'little+JJ', 'slippery+JJ']\", \"adidas d rose179:['love+VB', 'the+DT', 'color+NN', 'trim+NN', 'and+CC', 'design+NN', 'of+IN', 'this+DT', 'shoe+NN', 'must+MD', 'remember+VB', 'this+DT', 'is+VBZ', 'a+DT', 'basketball+NN', 'shoe+NN', 'cut+VBN', 'and+CC', 'go+VB', 'ability+NN', 'with+IN', 'the+DT', 'base+NN', 'of+IN', 'these+DT']\", \"adidas d rose180:['d+NNP', 'rose+VBD', 'that+DT', 'man+NN', 'so+RB', 'i+PRP', 'had+VBD', 'to+TO', 'grab+VB', 'em+PRP', 'they+PRP', 'are+VBP', 'on+IN', 'another+DT', 'lvl+NN']\", \"adidas d rose181:['shoes+NNS', 'are+VBP', 'great+JJ', 'until+IN', 'you+PRP', 'lace+VBP', 'them+PRP', 'up+RP', 'and+CC', 'the+DT', 'little+JJ', 'string+NN', 'breaks+NNS', 'that+WDT', 'you+PRP', 'loop+VBP', 'your+PRP$', 'shoe+NN', 'strings+NNS', 'through+IN', 'poor+JJ', 'design+NN', 'beware+NN']\", \"adidas d rose182:['i+PRP', 'wore+VBD', 'them+PRP', 'for+IN', 'the+DT', 'first+JJ', 'time+NN', 'and+CC', 'they+PRP', 'are+VBP', 'so+RB', 'cool+JJ', '2+CD', 'thumbs+NNS', 'up+RP']\", \"adidas d rose183:['traction+NN', 'is+VBZ', 'ok+JJ', 'and+CC', 'will+MD', 'have+VB', 'to+TO', 'keep+VB', 'wiping+VBG', 'on+IN', 'dusty+JJ', 'court+NN', 'and+CC', 'recommend+VB', 'half+JJ', 'size+NN', 'down+RP']\", \"adidas d rose184:['very+RB', 'comfortable+JJ', 'shoe+NN', 'i+PRP', 'always+RB', 'go+VBP', 'down+RP', 'a+DT', 'half+JJ', 'size+NN', 'but+CC', 'i+PRP', 'probably+RB', 'could+MD', 've+VB', 'went+VBD', 'down+IN', 'a+DT', 'full+JJ', 'size+NN', 'the+DT', 'toe+NNP', 'box+NN', 'area+NN', 'has+VBZ', 'just+RB', 'a+DT', 'bit+NN', 'to+IN', 'much+JJ', 'space+NN', 'but+CC', 'other+JJ', 'than+IN', 'that+IN', 'it+PRP', 'feels+VBZ', 'great+JJ']\", \"adidas d rose185:['will+MD', 'forever+RB', 'recommend+VB', 'adidas+NNS', 'to+IN', 'everyone+NN', 'adidas+NN', 'design+NN', 'is+VBZ', 'head+NN', 'turner+NNP', 'anywhere+RB', 'you+PRP', 'go+VBP', 'wearing+VBG', 'one+CD']\", \"adidas d rose186:['thanks+NNS', 'for+IN', 'bringing+VBG', 'back+RB', 'the+DT', 'area+NN', 'code+NNP', 'series+NNP', 'way+NN', 'to+TO', 'come+VB', 'back+RB', 'with+IN', 'a+DT', 'shoe+NN', 'on+IN', 'this+DT', 'colorway+NN', 'that+WDT', 'stands+VBZ', 'out+RP', 'with+IN', 'a+DT', 'suttle+NN', 'gold+NN', 'shine+NN', 'to+IN', 'it+PRP', 'in+IN', 'the+DT', 'future+NN', 'it+PRP', 'would+MD', 'be+VB', 'great+JJ', 'to+TO', 'see+VB', 'a+DT', '312+CD', 'on+IN', 'a+DT', 'shoe+NN', 'keep+VB', 'it+PRP', 'coming+VBG']\", \"adidas d rose187:['the+DT', 'fit+NN', 'is+VBZ', 'perfect+JJ', 'to+TO', 'size+VB', 'and+CC', 'feels+VBZ', 'tailor+NN', 'made+VBN', 'to+IN', 'my+PRP$', 'feet+NNS', 'the+DT', 'shoe+NN', 'is+VBZ', 'lightweight+JJ', 'the+DT', 'ankle+NN', 'support+NN', 'is+VBZ', 'phenomenal+JJ', 'being+VBG', 'both+CC', 'sturdy+JJ', 'and+CC', 'comfortable+JJ', 'this+DT', 'is+VBZ', 'a+DT', 'very+RB', 'attractive+JJ', 'sneaker+NN', 'that+WDT', 'looks+VBZ', 'great+JJ', 'in+IN', 'all+DT', 'forms+NNS', 'of+IN', 'attire+NN']\", \"adidas d rose188:['comfortable+JJ', 'on+IN', 'th+NN', 'err+IN', 'feet+NNS', 'as+IN', 'and+CC', 'stylish+VB', 'on+IN', 'the+DT', 'feet+NNS']\", \"adidas d rose189:['i+PRP', 'love+VBP', 'the+DT', 'feel+NN', 'very+RB', 'comfortable+JJ', 'and+CC', 'the+DT', 'style+NN', 'is+VBZ', 'pretty+RB', 'slick+JJ']\", \"adidas d rose190:['i+PRP', 'm+VBD', 'originally+RB', 'a+DT', 'wearer+NN', 'of+IN', 'another+DT', 'popular+JJ', 'brand+NN', 'but+CC', 'since+IN', 'i+PRP', 've+VBP', 'experienced+JJ', 'adidas+NNS', 'i+PRP', 'have+VBP', 'found+VBN', 'a+DT', 'new+JJ', 'sneaker+NN']\", \"adidas d rose191:['i+PRP', 'fell+VBD', 'in+IN', 'love+NN', 'with+IN', 'the+DT', 'shoes+NNS', 'even+RB', 'more+RBR', 'when+WRB', 'i+PRP', 'received+VBD', 'my+PRP$', 'order+NN']\", \"adidas d rose192:['said+VBD', 'enough+JJ', 'the+DT', 'shoe+NN', 'is+VBZ', 'great+JJ', 'on+IN', 'all+DT', 'aspects+NNS', 'for+IN', 'a+DT', 'performance+NN', 'basketball+NN', 'shoe+NN']\", \"adidas d rose193:['yes+UH', 'good+JJ', 'size+NN', 'comfort+NN', 'and+CC', 'quality+NN', 'my+PRP$', 'player+NN', 'loves+VBZ', 'the+DT', 'comfort+NN', 'of+IN', 'the+DT', 'shoe+NN']\", \"adidas d rose194:['wrong+JJ', 'description+NN', 'i+PRP', 'guess+VBP', 'gold+NN', 'doesn+NN', 't+NNP', 'exist+VBP', 'but+CC', 'same+JJ', 'art+NN', 'no+UH']\", \"adidas d rose195:['they+PRP', 'hug+VBP', 'your+PRP$', 'foot+NN', 'in+IN', 'the+DT', 'right+JJ', 'spot+NN', 'and+CC', 'they+PRP', 'are+VBP', 'very+RB', 'light+JJ', 'weight+NN', 'feels+VBZ', 'like+IN', 'walking+VBG', 'on+IN', 'air+NN']\", \"adidas d rose196:['love+VB', 'the+DT', 'color+JJ', 'way+NN', 'of+IN', 'this+DT', 'shoe+NN', 'a+DT', 'must+MD', 'have+VB', 'sneaker+NN']\", \"adidas d rose197:['went+VBD', 'down+IN', 'a+DT', 'full+JJ', 'size+NN', '10+CD', 'to+IN', 'a+DT', '9+CD', 'and+CC', 'they+PRP', 'fit+VBP', 'perfect+JJ', 'no+DT', 'dead+JJ', 'space+NN', 'in+IN', 'the+DT', 'toe+NN', 'box+NN', 'or+CC', 'heel+NN', 'slippage+NN']\", \"adidas d rose198:['men+NNS', 'select+VBP', 'your+PRP$', 'typical+JJ', 'shoe+NN', 'size+NN']\", \"adidas d rose199:['these+DT', 'shoes+NNS', 'are+VBP', 'so+RB', 'comfortable+JJ', 'and+CC', 'stylish+JJ', 'and+CC', 'has+VBZ', 'the+DT', 'perfect+JJ', 'ankle+NN', 'support+NN']\", \"adidas d rose200:['nice+JJ', 'very+RB', 'comfortable+JJ', 'and+CC', 'stylish+JJ', 'was+VBD', 'hard+JJ', 'to+TO', 'find+VB', 'the+DT', 'red+NN', 'but+CC', 'once+IN', 'it+PRP', 'was+VBD', 'in+IN', '-+HYPH', 'stock+NN', 'it+PRP', 'arrived+VBD', 'in+IN', 'no+DT', 'time+NN']\", \"adidas d rose201:['my+PRP$', 'son+NN', 'loves+VBZ', 'them+PRP', 'but+CC', 'i+PRP', 'have+VBP', 'to+TO', 'send+VB', 'them+PRP', 'back+RB', 'the+DT', 'fit+NN', 'is+VBZ', 'too+RB', 'big+JJ']\", \"adidas d rose202:['one+CD', 'of+IN', 'the+DT', 'orange+JJ', 'loops+NNS', 'broke+VBD', 'first+JJ', 'time+NN', 'putting+VBG', 'the+DT', 'pair+NN', 'of+IN', 'shoes+NNS', 'on+IN', 'because+IN', 'you+PRP', 'are+VBP', 'of+IN', 'stock+NN', 'in+IN', 'this+DT', 'shoe+NN', 'size+NN', '12+CD', 'i+NN', 'm+IN', 'having+VBG', 'it+PRP', 'repaired+VBN', 'locally+RB', 'definitely+RB', 'disappointing+VBG', 'the+DT', 'other+JJ', 'pair+NN', 'purchased+VBN', 'works+VBZ', 'fine+RB', 'and+CC', 'is+VBZ', 'very+RB', 'comfortable+JJ']\", \"adidas d rose203:['they+PRP', 'were+VBD', 'perfect+JJ']\", \"adidas d rose204:['these+DT', 'are+VBP', 'good+JJ', 'quality+NN', 'shoes+NNS', 'and+CC', 'well+RB', 'worth+JJ', 'the+DT', 'investment+NN']\", \"adidas d rose205:['seems+VBZ', 'like+IN', 'this+DT', 'years+NNS', 'adidas+NN', 'basketball+NN', 'models+NNS', 'except+IN', 'the+DT', 'don+NNP', 'issue+NN', '2+CD', 'run+NN', '1+CD', '2+CD', 'size+NN', 'too+RB', 'long+RB', 'once+RB', 'i+PRP', 'went+VBD', 'down+RB', '5+CD', 'it+PRP', 'fit+JJ', 'perfect+JJ']\", \"adidas d rose206:['i+PRP', 'never+RB', 'know+VBP', 'which+WDT', 'adidas+NNP', 'shoe+NN', 'is+VBZ', 'based+VBN', 'on+IN', 'a+DT', 'man+NN', 's+POS', 'foot+NN', 'so+RB', 'sizing+NN', 'has+VBZ', 'become+VBN', 'a+DT', 'big+JJ', 'issue+NN', 'i+PRP', 'had+VBD', 'to+TO', 'get+VB', 'a+DT', '7+CD', 'in+IN', 'a+DT', 'running+JJ', 'shoe+NN', 'when+WRB', 'i+PRP', 'bought+VBD', 'my+PRP$', 'first+JJ', 'boost+NN', 'shoe+NN', 'loved+VBD', 'it+PRP', 'except+IN', 'for+IN', 'the+DT', 'slippery+JJ', 'sole+JJ', 'but+CC', 'over+IN', 'the+DT', 'years+NNS', 'i+PRP', 'have+VBP', 'had+VBN', 'issues+NNS', 'finding+VBG', 'the+DT', 'right+JJ', 'size+NN', 'and+CC', 'can+MD', 'never+RB', 'tell+VB', 'if+IN', 'the+DT', 'shoe+NN', 'was+VBD', 'created+VBN', 'with+IN', 'a+DT', 'woman+NN', 's+POS', 'foot+NN', 'profile+NN', 'or+CC', 'a+DT', 'man+NN', 's+VBZ', 'until+IN', 'it+PRP', 'arrives+VBZ', 'when+WRB', 'based+VBN', 'on+IN', 'a+DT', 'man+NN', 's+POS', 'it+PRP', 'is+VBZ', 'too+RB', 'long+JJ', 'and+CC', 'narrow+JJ', 'at+IN', 'the+DT', 'fore+NNP', 'foot+NN', 'area+NN', 'for+IN', 'my+PRP$', 'foot+NN', 'and+CC', 'too+RB', 'many+JJ', 'shoes+NNS', 'are+VBP', 'being+VBG', 'made+VBN', 'sock+JJ', 'style+NN', 'with+IN', 'an+DT', 'attached+VBN', 'tongue+NN', 'i+PRP', 'have+VBP', 'high+JJ', 'arches+NNS', 'and+CC', 'this+DT', 'causes+VBZ', 'issues+NNS', 'please+UH', 'note+VB', 'that+IN', 'this+DT', 'shoe+NN', 'has+VBZ', 'a+DT', 'detached+VBN', 'tongue+NN', 'and+CC', 'that+DT', 'was+VBD', 'why+WRB', 'i+PRP', 'gave+VBD', 'it+PRP', 'a+DT', 'try+NN', 'it+PRP', 'would+MD', 'have+VB', 'been+VBN', 'a+DT', 'good+JJ', 'shoe+NN', 'if+IN', 'it+PRP', 'had+VBD', 'not+RB', 'been+VBN', 'made+VBN', 'in+IN', 'a+DT', 'generic+JJ', 'footbed+NN', 'and+CC', 'was+VBD', 'based+VBN', 'on+IN', 'a+DT', 'women+NNS', 's+POS', 'foot+NN']\", \"adidas d rose207:['i+PRP', 'absolutely+RB', 'love+VBP', 'these+DT', 'shoes+NNS', 'they+PRP', 're+VBP', 'so+RB', 'comfortable+JJ', 'and+CC', 'they+PRP', 'look+VBP', 'great+JJ', 'too+RB']\", \"adidas d rose208:['great+JJ', 'shoes+NNS', 'but+CC', 'hey+UH', 'do+VBP', 'nt+RB', 'have+VB', 'gold+JJ', 'plastic+NN', 'heel+NN', 'side+NN', 'foot+NN', 'piece+NN', 'its+PRP$', 'in+IN', 'black+NN']\", \"adidas d rose209:['i+PRP', 'purchased+VBD', 'this+DT', 'pair+NN', 'months+NNS', 'ago+RB', 'to+TO', 'use+VB', 'at+IN', 'work+NN', 'as+IN', 'a+DT', 'food+NN', 'service+NN', 'worker+NN', 'i+PRP', 'm+VBD', 'always+RB', 'on+IN', 'my+PRP$', 'feet+NNS', 'walking+VBG', 'running+VBG', 'at+RB', 'least+JJS', '8+CD', 'hours+NNS', 'a+DT', 'day+NN', 'great+JJ', 'quality+NN', 'they+PRP', 'have+VBP', 'protected+VBN', 'my+PRP$', 'feet+NNS', 'from+IN', 'spills+NNS', 'and+CC', 'injury+NN', 'most+JJS', 'times+NNS', 'i+PRP', 'take+VBP', 'extra+JJ', 'caution+NN', 'not+RB', 'to+TO', 'slip+VB', 'and+CC', 'fall+VB', 'on+IN', 'greasy+JJ', 'kitchen+NN', 'floors+NNS', 'i+PRP', 'will+MD', 'keep+VB', 'using+VBG', 'them+PRP', 'until+IN', 'they+PRP', 'wear+VBP', 'out+RP']\", \"adidas d rose210:['never+RB', 'order+VB', 'shoes+NNS', 'online+RB', 'but+CC', 'i+PRP', 'tried+VBD', 'and+CC', 'they+PRP', 'fit+VBP', 'perfectly+RB', 'and+CC', 'we+PRP', 're+VBP', 'what+WP', 'i+PRP', 'wanted+VBD']\", \"adidas d rose211:['great+JJ', 'comfortable+JJ', 'and+CC', 'really+RB', 'cool+JJ', 'look+NN', 'i+PRP', 'would+MD', 'definitely+RB', 'recommend+VB']\", \"adidas d rose212:['very+RB', 'basic+JJ', 'basketball+NN', 'shoes+VBZ', 'the+DT', 'support+NN', 'was+VBD', 'there+RB', 'but+CC', 'felt+VBD', 'a+DT', 'bit+NN', 'tight+JJ']\", \"adidas d rose213:['for+IN', 'basketball+NN', 'i+PRP', 'haven+VBP', 't+NNP', 'experienced+VBD', 'a+DT', 'basketball+NN', 'shoe+NN', 'that+WDT', 's+VBZ', 'better+JJR', 'to+TO', 'play+VB', 'for+IN', 'hours+NNS', 'in+RB', 'than+IN', 'these+DT', 'traction+NN', 'is+VBZ', 'good+JJ', 'and+CC', 'the+DT', 'shoe+NN', 'seems+VBZ', 'durable+JJ', 'just+RB', 'wish+NN', 'there+EX', 'were+VBD', 'more+JJR', 'colors+NNS', 'lockdown+NN', 'is+VBZ', 'also+RB', 'a+DT', 'plus+NN', 'in+IN', 'these+DT', 'shoes+NNS', 'love+VBP', 'd+NN', 'rose+VBD']\", \"adidas d rose214:['this+DT', 'is+VBZ', 'just+RB', 'a+DT', 'reminder+NN', 'to+TO', 'go+VB', 'down+RB', 'half+PDT', 'a+DT', 'size+NN', 'i+PRP', 'went+VBD', 'with+IN', 'a+DT', '12+CD', 'because+IN', 'i+PRP', 'wanted+VBD', 'this+DT', 'colorway+NN', 'and+CC', 'it+PRP', 'was+VBD', 'the+DT', 'only+JJ', 'option+NN', 'left+VBN', 'go+VB', 'half+JJ', 'size+NN', 'down+RP', 'for+IN', 'actual+JJ', 'use+NN']\", \"adidas d rose215:['nice+JJ', 'shoes+NNS', 'could+MD', 'use+VB', 'a+DT', 'little+JJ', 'more+RBR', 'arch+JJ', 'support+NN', 'other+JJ', 'than+IN', 'that+IN', 'they+PRP', 'are+VBP', 'comfortable+JJ']\", \"adidas d rose216:['great+JJ', 'shoe+NN', 'i+PRP', 'do+VBP', 'recommend+VB', 'this+DT', 'product+NN', 'for+IN', 'others+NNS']\", \"adidas d rose217:['good+JJ', 'grip+NN', 'for+IN', 'basketball+NN', 'and+CC', 'comfort+NN', 'just+RB', 'too+RB', 'big+JJ']\", \"adidas d rose218:['for+IN', 'd+NNP', 'rose+VBD', 'fans+NNS', 'it+PRP', 's+VBZ', 'a+DT', 'great+JJ', 'show+NN', 'will+MD', 'get+VB', 'this+DT', 'show+NN', 'again+RB', 'in+IN', 'different+JJ', 'color+NN']\", \"adidas d rose219:['amazing+JJ', 'product+NN', 'best+JJS', 'shoes+NNS', 'ever+RB', 'confortable+JJ', 'and+CC', 'great+JJ', 'desing+NN']\", \"adidas d rose220:['y+PRP', 'all+DT', 'sent+VBD', 'the+DT', 'shoe+NN', '3+CD', 'times+NNS', 'to+TO', 'big+VB', 'it+PRP', 'had+VBD', 'metric+JJ', 'size+NN', 'so+RB', 'i+PRP', 'got+VBD', 'the+DT', 'one+NN', 'that+WDT', 'was+VBD', 'supposed+VBN', 'to+TO', 'fit+VB', 'and+CC', 'it+PRP', 'was+VBD', 'the+DT', 'actual+JJ', 'us+NNP', 'size+NN']\", \"adidas d rose221:['the+DT', 'shoe+NN', 'was+VBD', 'clean+JJ', 'and+CC', 'slick+JJ', 'it+PRP', 'looks+VBZ', 'exactly+RB', 'like+IN', 'the+DT', 'photos+NNS', 'the+DT', 'shoe+NN', 'is+VBZ', 'comfortable+JJ', 'especially+RB', 'in+IN', 'the+DT', 'arch+NN']\", \"adidas d rose222:['great+NNP', 'shoe+NN', 'ordered+VBD', 'half+PDT', 'a+DT', 'size+NN', 'smaller+JJR', 'because+IN', 'they+PRP', 'didn+NNP', 't+NNP', 'have+VBP', 'my+PRP$', 'size+NN', 'but+CC', 'they+PRP', 'seem+VBP', 'to+TO', 'fit+VB', 'fine+JJ', 'and+CC', 'i+PRP', 'have+VBP', 'no+DT', 'issues+NNS']\", \"adidas d rose223:['fits+VBZ', 'nicely+RB', 'and+CC', 'can+MD', 'go+VB', 'with+IN', 'a+DT', 'lot+NN', 'of+IN', 'my+PRP$', 'gear+NN', 'can+MD', 't+VB', 'wait+VB', 'for+IN', 'the+DT', 'next+JJ', 'limited+JJ', 'edition+NN']\", \"adidas d rose224:['got+VBD', 'these+DT', 'for+IN', 'my+PRP$', 'husband+NN', 'and+CC', 'he+PRP', 'loves+VBZ', 'it+PRP', 'trendy+JJ', 'and+CC', 'comfortable+JJ', 'always+RB', 'excellent+JJ', 'quality+NN', 'footwear+NN']\", \"adidas d rose225:['awesome+JJ', 'i+PRP', 'dig+VBP', 'em+PRP', 'a+DT', 'lot+NN', 'everthing+NN', 'is+VBZ', 'awesome+JJ', 'from+IN', 'purchase+NN', 'to+IN', 'delivering+NN']\"]\n"
     ]
    }
   ],
   "source": [
    "review_dic = all_def.load_json(\"/media/jade/yi_Data/Data/chenxi/single_pos.json\")\n",
    "\n",
    "for k,v in review_dic.items():\n",
    "    review_dic[k] = list(enumerate(review_dic[k]))\n",
    "                \n",
    "#             # add product name onto each element inside a list\n",
    "for k, v in review_dic.items():\n",
    "    temp = []\n",
    "    for i in v:\n",
    "        i = str(k) + str(i[0]) + \":\" + str(i[1])\n",
    "        temp.append(i)\n",
    "    review_dic[k] = temp\n",
    "\n",
    "all_def.look_n(review_dic, 1)\n",
    "\n",
    "# sec_dic = {}\n",
    "# for k, v in review_dic.items():\n",
    "#     tmp_dic = {}\n",
    "#     for sub_k, sub_v in v.items():\n",
    "#         tmp_v = sub_v.split('+')[0] + \"+\" + sub_v.split('+')[-1] \n",
    "#         if sub_k not in tmp_dic:\n",
    "#             tmp_dic[sub_k] = tmp_v\n",
    "#         else:\n",
    "#             tmp_dic[sub_k].append(tmp_v)\n",
    "#     if k not in sec_dic:\n",
    "#         sec_dic[k] = tmp_dic\n",
    "#     else:\n",
    "#         sec_dic[k].append(tmp_dic)\n",
    "        \n",
    "        \n",
    "        \n",
    "# all_def.look_n(sec_dic_dic, 1)"
   ]
  },
  {
   "cell_type": "code",
   "execution_count": null,
   "metadata": {},
   "outputs": [],
   "source": [
    "# print(review_dic['Reebok_Classic_Leather_Gum_Casual_Shoes'][0].split(\":\")[1].split(\",\"))\n",
    "# print(len(review_dic['Reebok_Classic_Leather_Gum_Casual_Shoes'][0].split(\":\")[1].split(\",\")))\n",
    "# print(type(review_dic['Reebok_Classic_Leather_Gum_Casual_Shoes'][0].split(\":\")[1].split(\",\")))\n",
    "# # print(review_dic['Nike_Air_Huarache_Run_Casual_Shoes'])"
   ]
  },
  {
   "cell_type": "code",
   "execution_count": 21,
   "metadata": {},
   "outputs": [],
   "source": [
    "'''\n",
    "This function is for the filtering of reviews that pick those only one attribute review can be a whole window\n",
    "also note that all the functions displayed below are treating dictionaries as an object\n",
    "'''\n",
    "def pick_unique_window(data):\n",
    "    for k, v in data.items():\n",
    "        temp1 = []\n",
    "        for review in v:\n",
    "            i = 0\n",
    "            j = review.split(\":\")[1]\n",
    "            j = j.split(\",\")\n",
    "            for pair in j:\n",
    "                word = pair.split(\"+\")[0]\n",
    "                word = word.strip(\"]'[\")\n",
    "                if word in list(chain(*list(attribute_lexicon.values()))):\n",
    "                    i += 1\n",
    "            if i == 1:\n",
    "                review = review + \"ONLY1\"\n",
    "            temp1.append(review)\n",
    "        data[k] = temp1 \n",
    "    return data\n",
    "                            "
   ]
  },
  {
   "cell_type": "code",
   "execution_count": 22,
   "metadata": {},
   "outputs": [],
   "source": [
    "review_dic  = pick_unique_window(review_dic)\n",
    "# review_dic['Nike_Air_Huarache_Run_Casual_Shoes']"
   ]
  },
  {
   "cell_type": "code",
   "execution_count": 23,
   "metadata": {},
   "outputs": [],
   "source": [
    "'''\n",
    "This section I decide to extract all the old dictionary\n",
    "'''\n",
    "sec_dic = {}\n",
    "for k, v in review_dic.items():\n",
    "    for review in v:\n",
    "        title = review.split(\":\")[0]\n",
    "        neirong = review.split(\":\")[1]\n",
    "        if title not in sec_dic:\n",
    "            sec_dic[title] = neirong\n",
    "        else:\n",
    "            sec_dic[title].append(neirong)"
   ]
  },
  {
   "cell_type": "code",
   "execution_count": 24,
   "metadata": {},
   "outputs": [],
   "source": [
    "def look_3 (dic):\n",
    "    i = 0\n",
    "    for k, v in dic.items():\n",
    "        i += 1\n",
    "        if i <= 4:\n",
    "            print(k, v)"
   ]
  },
  {
   "cell_type": "code",
   "execution_count": 25,
   "metadata": {},
   "outputs": [
    {
     "name": "stdout",
     "output_type": "stream",
     "text": [
      "adidas d rose0 ['love+VB', 'the+DT', 'shoes+NNS', 'light+JJ', 'weight+NNP', 'fit+JJ', 'from+IN', 'order+NN', 'to+IN', 'delivery+NN', 'came+VBD', 'in+IN', 'a+DT', 'very+RB', 'timely+JJ', 'manner+NN']\n",
      "adidas d rose1 ['i+PRP', 'recommend+VBP', 'getting+VBG', 'these+DT', 'shoes+NNS', 'comfortable+JJ', 'as+IN', 'they+PRP', 'can+MD', 'get+VB']\n",
      "adidas d rose2 ['women+NNS', 'select+VBP', '2+CD', 'sizes+NNS', 'smaller+JJR', 'than+IN', 'your+PRP$', 'typical+JJ', 'shoe+NN', 'size+NN']\n",
      "adidas d rose3 ['love+VB', 'the+DT', 'shoes+NNS', 'they+PRP', 'are+VBP', 'slightly+RB', 'on+IN', 'the+DT', 'wider+JJR', 'side+NN', 'which+WDT', 'i+PRP', 'happen+VBP', 'to+TO', 'like+UH', 'the+DT', 'sole+NN', 'really+RB', 'grips+VBZ', 'well+RB', 'and+CC', 'i+PRP', 'love+VBP', 'how+WRB', 'the+DT', 'lime+NN', 'green+NN', 'really+RB', 'pops+VBZ', 'when+WRB', 'you+PRP', 'wear+VBP', 'them+PRP', 'very+RB', 'comfortable+JJ', 'shoe+NN', 'with+IN', 'great+JJ', 'support+NN', '5+CD', 'stars+NNS']\n"
     ]
    }
   ],
   "source": [
    "look_3(sec_dic)"
   ]
  },
  {
   "cell_type": "code",
   "execution_count": 26,
   "metadata": {},
   "outputs": [],
   "source": [
    "'''\n",
    "This function is extracting all the windows for a single product\n",
    "based on the modification of the algorithm 1, \n",
    "43th time version\n",
    "'''\n",
    "def creat_window(file_name):\n",
    "    window = 5\n",
    "#     Iterating through all POS tags\n",
    "#     for k, v in file_name.items():\n",
    "    for k, review in file_name.items():\n",
    "#         print(review)\n",
    "        if 'ONLY1' in review:\n",
    "            n_window = review.split(\"ONLY\")[0]\n",
    "            file_name[k] = n_window\n",
    "        else:\n",
    "            review = review.strip('] [')\n",
    "            pairs = review.split(\",\")\n",
    "            t = 0\n",
    "            tmp = []\n",
    "            for element in pairs:\n",
    "                l = len(pairs)\n",
    "                        # joining the terms with ,\n",
    "        #                 element = \",\".join(element)\n",
    "                word = element.strip(\"][(\\'\").split('+')[0]\n",
    "                word = word.strip(\" '\")\n",
    "                if word in list(chain(*list(attribute_lexicon.values()))):\n",
    "                    pairs[t] = pairs[t] + \"attr\"\n",
    "                    if t >= 5 and t <= l-5:\n",
    "                        nn_window = pairs[t-5:t+6]\n",
    "                    if t >= 5 and t > l-5:\n",
    "                        nn_window = pairs[t-5:]\n",
    "                    if t < 5 and t <= l-5:\n",
    "                        nn_window = pairs[0:t+6]\n",
    "                    if t < 5 and t > l-5:\n",
    "                        nn_window = pairs[0:]\n",
    "                    tmp.append(nn_window)\n",
    "                    pairs[t] = pairs[t].split(\"attr\")[0]\n",
    "#                     print(tmp)\n",
    "                t += 1\n",
    "\n",
    "            file_name[k] = tmp\n",
    "#         break\n",
    "    return file_name\n",
    "\n",
    "def write_window(file_name):\n",
    "    with open(file_name, 'w', encoding = 'UTF-8') as f:\n",
    "        for i in output:\n",
    "            f.write(str(i))\n",
    "            f.write('\\n')"
   ]
  },
  {
   "cell_type": "code",
   "execution_count": 27,
   "metadata": {},
   "outputs": [],
   "source": [
    "sec_dic = creat_window(sec_dic)"
   ]
  },
  {
   "cell_type": "code",
   "execution_count": 28,
   "metadata": {},
   "outputs": [],
   "source": [
    "def locate_attribute(data):\n",
    "    for k,v in data.items():\n",
    "        temp1 = []\n",
    "        # this is the list to store the description for the attribute appears in the window\n",
    "        for window in v:\n",
    "            temp2 = []\n",
    "            for j in window:\n",
    "#                 n_word = n_j.strip(\"(\\'\").split(\"+\")[0].strip(\"\\'\")\n",
    "#                 n_word = n_word.strip(\" \\'\")\n",
    "                # pick the word first and find the closest pre-defined tag\n",
    "                if 'attr' in j:\n",
    "                    word_p = window.index(j)\n",
    "                    # word_p shows the position of attribute appears in the sentence   \n",
    "                    j = str(j) + str(word_p)\n",
    "                temp2.append(j)\n",
    "            temp1.append(temp2)\n",
    "        data[k] = temp1\n",
    "    return data\n",
    "\n",
    "            "
   ]
  },
  {
   "cell_type": "code",
   "execution_count": 29,
   "metadata": {
    "scrolled": true
   },
   "outputs": [],
   "source": [
    "'''\n",
    "This section already locate the attribute position and itself in the window\n",
    "'''\n",
    "sec_dic = locate_attribute(sec_dic)"
   ]
  },
  {
   "cell_type": "code",
   "execution_count": 30,
   "metadata": {},
   "outputs": [],
   "source": [
    "def locate_description(data):\n",
    "    for k,v in data.items():\n",
    "        temp1 = []\n",
    "        for window in v:\n",
    "            temp2 = []\n",
    "            for j in window:\n",
    "                n_j = ''.join(j)\n",
    "                n_tag = n_j.strip(\")(\\'\").split(\"+\")[-1].lstrip(\" \\'\")\n",
    "                    # n_tag is the tag list of the pairs inside the window except the attribute word\n",
    "                if n_tag in ['NN', 'NNS', 'JJ', 'RB']:\n",
    "                    tag_p = window.index(j)\n",
    "                    j = str(j) + \"decr\" + str(tag_p)\n",
    "                temp2.append(j)\n",
    "            temp1.append(temp2)\n",
    "        data[k] = temp1\n",
    "    return data     "
   ]
  },
  {
   "cell_type": "code",
   "execution_count": 31,
   "metadata": {},
   "outputs": [],
   "source": [
    "sec_dic = locate_description(sec_dic)"
   ]
  },
  {
   "cell_type": "code",
   "execution_count": 32,
   "metadata": {},
   "outputs": [],
   "source": [
    "def write_json(file_name, dic):\n",
    "    with open(file_name, \"w\") as f:\n",
    "        json.dump(dic, f)\n",
    "        print(\"Done\")\n",
    "    "
   ]
  },
  {
   "cell_type": "code",
   "execution_count": null,
   "metadata": {},
   "outputs": [],
   "source": [
    "write_json(\"H:Data/chenxi/2021_chelsea.json\", sec_dic)"
   ]
  },
  {
   "cell_type": "code",
   "execution_count": 33,
   "metadata": {},
   "outputs": [],
   "source": [
    "def write_file(file_name, data_set):\n",
    "    with open(file_name, \"w\", encoding = \"UTF-8\") as f:\n",
    "        for i in data_set:\n",
    "            f.write(str(i))\n",
    "            f.write('\\n')\n",
    "        print('Done')\n",
    "def write_txt_fromdic(file_name, data):\n",
    "    with open(file_name, \"w\", encoding = \"UTF-8\") as f:\n",
    "        for k, v in data.items():\n",
    "            f.write(str(k) + str(v))\n",
    "            f.write('\\n')\n",
    "            f.write('\\n')\n",
    "        print('Done')"
   ]
  },
  {
   "cell_type": "markdown",
   "metadata": {},
   "source": [
    "## This is a brute force sentiment lexicon, collect all emotion words from a dictionary and online resources"
   ]
  },
  {
   "cell_type": "code",
   "execution_count": 34,
   "metadata": {},
   "outputs": [],
   "source": [
    "baoli_lexicon = []\n",
    "with open(\"/media/jade/yi_Data/Google_download/opinion-lexicon-English/positive-words.txt\") as f:\n",
    "    positive = f.readlines()\n",
    "    positive = \"\".join(positive).split('\\n')\n",
    "    positive = positive[30:]\n",
    "with open(\"/media/jade/yi_Data/Google_download/opinion-lexicon-English/negative-words.txt\") as n_f:\n",
    "    negative = n_f.readlines()\n",
    "    negative = \"\".join(negative).split('\\n')\n",
    "baoli_lexicon = positive + negative"
   ]
  },
  {
   "cell_type": "code",
   "execution_count": 35,
   "metadata": {},
   "outputs": [],
   "source": [
    "sentiment_lexicon = {}\n",
    "for i in range(0,len(baoli_lexicon)):\n",
    "    sentiment_lexicon[i] = baoli_lexicon[i] "
   ]
  },
  {
   "cell_type": "code",
   "execution_count": 36,
   "metadata": {},
   "outputs": [],
   "source": [
    "l_sentiment = list(sentiment_lexicon.values())"
   ]
  },
  {
   "cell_type": "code",
   "execution_count": 37,
   "metadata": {},
   "outputs": [],
   "source": [
    "def locate_sentiment(data):\n",
    "    for k,v  in data.items():\n",
    "        temp1 = []\n",
    "        for window in v:\n",
    "            temp2 = []\n",
    "            for j in window:\n",
    "                n_j = str(j)\n",
    "                n_senti = n_j.strip(\"(\\'\").split(\"+\")[0].strip(\"\\'\")\n",
    "                n_senti = n_senti.strip(\" \\'\")\n",
    "                if n_senti in l_sentiment:\n",
    "                    senti_p = window.index(j)\n",
    "                    # word_p shows the position of attribute appears in the sentence   \n",
    "                    j = str(j) + \"senti\" + str(senti_p)\n",
    "                temp2.append(j)\n",
    "            temp1.append(temp2)\n",
    "        data[k] = temp1\n",
    "    return data\n"
   ]
  },
  {
   "cell_type": "code",
   "execution_count": 38,
   "metadata": {},
   "outputs": [],
   "source": [
    "sec_dic = locate_sentiment(sec_dic)"
   ]
  },
  {
   "cell_type": "code",
   "execution_count": null,
   "metadata": {},
   "outputs": [],
   "source": [
    "write_json(\"H:/Data/chenxi/2021_threeresults.json\", sec_dic)"
   ]
  },
  {
   "cell_type": "code",
   "execution_count": 39,
   "metadata": {},
   "outputs": [],
   "source": [
    "def to_results(data):\n",
    "    for k, v in data.items():\n",
    "        temp1 = []\n",
    "        for window in v:\n",
    "            temp2 = []\n",
    "            for j in window:\n",
    "                if 'attr' in str(j) or 'senti' in str(j) or 'decr' in str(j):\n",
    "                    temp2.append(j)\n",
    "            temp1.append(temp2)\n",
    "        data[k] = temp1\n",
    "    return data\n"
   ]
  },
  {
   "cell_type": "code",
   "execution_count": 40,
   "metadata": {},
   "outputs": [],
   "source": [
    "sec_dic = to_results(sec_dic)"
   ]
  },
  {
   "cell_type": "code",
   "execution_count": null,
   "metadata": {},
   "outputs": [],
   "source": [
    "write_json(\"H:/Data/chenxi/2021_to_results.json\", sec_dic)"
   ]
  },
  {
   "cell_type": "code",
   "execution_count": null,
   "metadata": {},
   "outputs": [],
   "source": [
    "write_txt_fromdic(\"H:/Data/chenxi/2021_to_results.txt\", review_dic)"
   ]
  },
  {
   "cell_type": "markdown",
   "metadata": {},
   "source": [
    "## Build sentiment lexicon "
   ]
  },
  {
   "cell_type": "code",
   "execution_count": null,
   "metadata": {},
   "outputs": [],
   "source": [
    "import senticnet"
   ]
  },
  {
   "cell_type": "code",
   "execution_count": 41,
   "metadata": {},
   "outputs": [],
   "source": [
    "from senticnet.senticnet import SenticNet\n",
    "\n",
    "sn = SenticNet()\n",
    "# concept_info = sn.concept('love')\n",
    "polarity_value = sn.polarity_label('vicious')\n",
    "polarity_intense = sn.polarity_value('vicious')\n",
    "# moodtags = sn.moodtags('love')\n",
    "# semantics = sn.semantics('love')\n",
    "# sentics = sn.sentics('love')\n",
    "moodtags = sn.moodtags('vicious')\n",
    "semantics = sn.semantics('love')\n",
    "sentics = sn.sentics('love')"
   ]
  },
  {
   "cell_type": "code",
   "execution_count": 42,
   "metadata": {},
   "outputs": [
    {
     "name": "stdout",
     "output_type": "stream",
     "text": [
      "-0.33 <class 'str'>\n"
     ]
    },
    {
     "data": {
      "text/plain": [
       "str"
      ]
     },
     "execution_count": 42,
     "metadata": {},
     "output_type": "execute_result"
    }
   ],
   "source": [
    "print(polarity_intense, type(polarity_intense))\n",
    "type(polarity_intense)"
   ]
  },
  {
   "cell_type": "code",
   "execution_count": null,
   "metadata": {},
   "outputs": [],
   "source": [
    "sentiment_lexicon"
   ]
  },
  {
   "cell_type": "code",
   "execution_count": null,
   "metadata": {},
   "outputs": [],
   "source": [
    "# manu = np.load(\"H:/Data/jade.npy\")\n",
    "# print(manu)"
   ]
  },
  {
   "cell_type": "code",
   "execution_count": null,
   "metadata": {},
   "outputs": [],
   "source": [
    "# with open(\"H:/Data/manu.txt\", \"w\") as f:\n",
    "#     for i in manu:\n",
    "#         i = \"\".join(str(i))\n",
    "#         f.write(i)\n",
    "#         f.write('\\n')"
   ]
  },
  {
   "cell_type": "code",
   "execution_count": null,
   "metadata": {},
   "outputs": [],
   "source": [
    "# # this is the old lexicon created by myself\n",
    "# # not used in the followind algorithm\n",
    "# attribute_lexicon = ['nike', 'addidas', 'puma', 'reebok', 'under armour', 'asics', 'brooks', 'champion', 'converse', 'jordan', 'fila', 'lacoste', 'mizuno', 'new balance', 'snkr', 'skechers', 'timberland', 'saucony', 'k-swiss', 'air', 'design', 'color', 'combination', 'sensor', 'surface', 'midsole', 'durable', 'explosive', 'speedy', 'powerful', 'intelligent', 'eyelet', 'heel', 'heel cup', 'quarter', 'sole', 'toe cap', 'tongue', 'topline', 'top piece', 'upper', 'vamp', 'welt', 'collar', 'foxing', 'heel counter', 'heel tab', 'inner sole', 'lace guard', 'midsole', 'outsole', 'padding', 'sock liner', 'aglets', 'beaters', 'bespoke', 'colorway', 'deadstock', 'deubré', 'flip-flop', 'grails', 'high top', 'hypebeast', 'hyperstrike', 'jumpman', 'lows', 'mids', 'nib', 'ndc', 'ogs', 'on ice', 'player edition', 'player exclusives', 'quickstrike', 'reseller', 'Retro', 'tonal', 'upper', 'updown', 'vnds', 'zigtech', 'red', 'yellow', 'blue', 'leather', 'thick', 'light', 'heavy', 'hard', 'soft', 'materials', 'big', 'small', 'adjustable', 'adorable', 'anatomic', 'anatomically designed', 'anti-fatigue', 'antimicrobial', 'athletic', 'beveled', 'bold', 'boys', 'breathable', 'breezy', 'canvas', 'casual', 'chic', 'classic', 'closed-toe', 'comfortable', 'comfy', 'contemporary', 'cooler', 'cushioned', 'cut-out', 'cute', 'cutting-edge', 'dainty', 'dapper', 'decorative', 'dependable', 'designer', 'detailed', 'distressed', 'dress', 'drier', 'kids', 'latest', 'lightweight', 'long-lasting', 'machine washable', 'masculine', 'memory foam-lined', 'mens', 'moisture-wicking', 'non-marking', 'non-slip', 'odor-absorbing', 'odor-resistant', 'open-toe', 'optimal', 'over-the-knee', 'overlay', 'padded', 'patchwork', 'patent', 'pleated', 'plush', 'professional', 'protective', 'pull-on', 'reflective', 'reliable', 'remodeled', 'revolutionary', 'rocker-style', 'ruched', 'rugged', 'sassy', 'savvy', 'easy-to-maintain', 'eco-friendly', 'edgy', 'efficient', 'elegant', 'embroidered', 'engineered', 'environmentally-friendly', 'ergonomic', 'everyday', 'exceptional', 'exciting', 'fabric-lined', 'fancy', 'fashionable', 'favorite', 'feminine', 'finely detailed', 'flattering', 'flexible', 'flirty', 'foot-friendly', 'forefoot', 'form-fitting', 'girls', 'gusseted', 'high-heeled', 'high-performance', 'hot', 'imported', 'injection-molded', 'innovative', 'insole', 'insulated', 'shock-absorbent', 'shock-absorbing', 'simple', 'sleek', 'slip-on', 'slip-resistant', 'slouched', 'smooth', 'sophisticated', 'stable', 'state-of-the-art', 'strapless', 'strappy', 'structural', 'stunning', 'stylish', 'suede', 'superior', 'supple', 'supportive', 'synthetic', 'textured', 'toning', 'top-of-the-line', 'treaded', 'trendy', 'underfoot', 'unique', 'versatile', 'water-resistant', 'waterproof', 'wear-anywhere', 'womens', 'eva insert', 'accent', 'accents', 'all-day comfort', 'ankle', 'ankle strap', 'apparel', 'arch', 'arch bridge', 'arch support', 'best fit', 'beveled heel', 'block heel', 'brand', 'breathability', 'buckle', 'calf', 'calf space', 'canvas', 'clasp', 'closure', 'comfort', 'coziness', 'cushioning', 'cut-out upper', 'design', 'design elements', 'detailing', 'durability', 'easy on/off', 'efficiency', 'elastic', 'embellishment', 'mesh fabric', 'midsole', 'motion control', 'movement', 'name brand', 'nubuck', 'orthotics', 'outdoor wear', 'outsole', 'over-pronator', 'padding', 'padding', 'pair', 'pair of shoes', 'panel', 'patent leather', 'peep toe', 'perfect fit', 'personal style', 'platform', 'pointed toe', 'posture', 'propulsion', 'quality', 'rearfoot', 'rearfoot stability', 'removable insole', 'rocker bottom', 'sandal', 'season', 'shearling', 'shock', 'shoe', 'ensemble', 'fabric', 'fall', 'fashion', 'fit', 'flair', 'foot', 'foot environment', 'footbed', 'footing', 'full-grain leather', 'gait', 'give', 'grip', 'heel', 'heel cup', 'heel strike', 'hidden zipper', 'impact', 'indoor wear', 'innovation', 'insert', 'insole', 'instep', 'laces', 'leather', 'leather upper', 'leg', 'lifestyle', 'lining', 'lining', 'low back', 'side zip entry', 'skid-resistant', 'sole', 'spring', 'square toe', 'stability', 'steel shank', 'steel toe', 'stitching', 'strap', 'strap closure', 'stride', 'strike points', 'style', 'styling', 'summer', 'support', 'technology', 'toe-off', 'toes', 'tongue', 'traction', 'tread', 'tricot lining', 'trim', 'underfoot protection', 'upper', 'ventilation system', 'wardrobe', 'warmth', 'width', 'winter', 'zipper']\n",
    "# import Create_POS\n",
    "# Create_POS.create_POS_file.write_file(\"H:/Data/old_attribute_lexicon.txt\", attribute_lexicon)"
   ]
  },
  {
   "cell_type": "markdown",
   "metadata": {},
   "source": [
    "## Import word2vec and start turn the description into embedding"
   ]
  },
  {
   "cell_type": "code",
   "execution_count": 47,
   "metadata": {},
   "outputs": [],
   "source": [
    "import tensorflow as tf\n",
    "import keras \n",
    "import sys\n",
    "import os\n",
    "import gensim\n",
    "import sklearn\n",
    "import nltk"
   ]
  },
  {
   "cell_type": "code",
   "execution_count": 49,
   "metadata": {},
   "outputs": [],
   "source": [
    "model = gensim.models.KeyedVectors.load_word2vec_format('/media/jade/yi_Data/Data/models/GoogleNews-vectors-negative300.bin',binary=True)"
   ]
  },
  {
   "cell_type": "code",
   "execution_count": 50,
   "metadata": {},
   "outputs": [],
   "source": [
    "pre_word = model.vocab.keys()"
   ]
  },
  {
   "cell_type": "raw",
   "metadata": {},
   "source": [
    "apparently here is a problem that if some customer metioned multiple attributes inside a sentence, then the window will be ugly and keep growing,\n",
    "Then I found in each window there is a \"main\" attribute that the window was built by it, and that will be the attr with largest number, so thats ok even if we choose that one "
   ]
  },
  {
   "cell_type": "code",
   "execution_count": 53,
   "metadata": {},
   "outputs": [],
   "source": [
    "# look_3(sec_dic)"
   ]
  },
  {
   "cell_type": "code",
   "execution_count": 54,
   "metadata": {},
   "outputs": [],
   "source": [
    "def get_key (dic, value):\n",
    "#     for k, v in dic\n",
    "     return [k for k, v in dic.items() if value in v]"
   ]
  },
  {
   "cell_type": "code",
   "execution_count": 55,
   "metadata": {},
   "outputs": [
    {
     "data": {
      "text/plain": [
       "['Weight']"
      ]
     },
     "execution_count": 55,
     "metadata": {},
     "output_type": "execute_result"
    }
   ],
   "source": [
    "get_key(attribute_lexicon, 'weight' )"
   ]
  },
  {
   "cell_type": "code",
   "execution_count": 56,
   "metadata": {},
   "outputs": [],
   "source": [
    "'''\n",
    "This function is aiming at deal with those window that includes multiple tags\n",
    "After adjusting the create_window function, this function is unnecessary\n",
    "'''\n",
    "def clean_window(dic):\n",
    "    for k, v in dic.items():\n",
    "        for window in v:\n",
    "            a = 0\n",
    "            for word in window:\n",
    "                # 9th version\n",
    "                # This loop clean those words with multiple tags, mainly are senti with attr and senti with decr\n",
    "#                 if 'attr' in word and 'senti' in word:\n",
    "#                     window[a] = word.split(\"senti\")[0]\n",
    "#                 if 'decr' in word and 'senti' in word:\n",
    "#                     window[a] = word.split(\"senti\")[0]\n",
    "                if 'attr' in word and 'senti' in word:\n",
    "                    window[a] = word.split(\"senti\")[0]\n",
    "                a += 1\n",
    "    return dic\n"
   ]
  },
  {
   "cell_type": "code",
   "execution_count": 57,
   "metadata": {},
   "outputs": [],
   "source": [
    "sec_dic = clean_window(sec_dic)"
   ]
  },
  {
   "cell_type": "code",
   "execution_count": 58,
   "metadata": {},
   "outputs": [],
   "source": [
    "# look_3(sec_dic)"
   ]
  },
  {
   "cell_type": "code",
   "execution_count": 59,
   "metadata": {},
   "outputs": [],
   "source": [
    "# ceshi = {'Reebok_Classic_Leather_Gum_Casual_Shoes0': [[\" 'love+VBP'senti1\", \" 'old+JJ'decr3\", \" 'school+NN'decr4\", \" 'style+NN'attr5\", \" 'sneakers+NNS'decr8\", \" 'so+RB'decr10\"], [\" 'sneakers+NNS'decr2\", \" 'so+RB'decr4\", \" 'comfortable+JJ'attr5\"]],\n",
    "# 'Reebok_Classic_Leather_Gum_Casual_Shoes1': [[\" 'true+JJ'decr1\", \" 'classic+NN'attr2\", \" 'fans+NNS'decr5senti5\", \" 'sneakers+NNS'decr7\"], [\" 'nice+RB'decr1senti1\", \" 'materials+NNS'attr5\", \" 'pretty+RB'decr7senti7\", \" 'good+JJ'decr8senti8\", \" 'too+RB'decr9\"]],\n",
    "# 'Reebok_Classic_Leather_Gum_Casual_Shoes2': [[\" 'kid+NN'decr1\", \" 'so+RB'decr2\", \" 'always+RB'decr4\", \" 'like+IN'attr5\", \" 'retro+NN'decr7\", \" 'sneakers+NNS'decr9\"], [\" 'so+RB'decr0\", \" 'always+RB'decr2\", \" 'like+IN'senti3\", \" 'retro+NN'attr5\", \" 'sneakers+NNS'decr7\"]],\n",
    "# 'Lacoste_Chaymon_Casual_Shoes0': [[\" 'shoe+NN'decr2\", \" 'causal+NN'decr4\", \" 'wear+NN'attr5\", \" 'kaki+NN'decr8\"], [\" 'wear+NN'decr0\", \" 'kaki+NN'decr3\", \" 'feel+VBZ'attr5\", \" 'great+JJ'decr6senti6\", \" 'so+RB'decr7\", \" 'comfortable+JJ'decr8senti8\", \" 'light+JJ'decr9\", \" 'weight+NN'decr10\"], [\" 'kaki+NN'decr0\", \" 'great+JJ'decr3senti3\", \" 'so+RB'decr4\", \" 'comfortable+JJ'attr5\", \" 'light+JJ'decr6\", \" 'weight+NN'decr7\", \" 'stylish+NN'decr8senti8\", \" 'i+NN'decr10\"], [\" 'great+JJ'decr2senti2\", \" 'so+RB'decr3\", \" 'comfortable+JJ'decr4senti4\", \" 'light+JJ'attr5\", \" 'weight+NN'decr6\", \" 'stylish+NN'decr7senti7\", \" 'i+NN'decr9\"], [\" 'great+JJ'decr1senti1\", \" 'so+RB'decr2\", \" 'comfortable+JJ'decr3senti3\", \" 'light+JJ'decr4\", \" 'weight+NN'attr5\", \" 'stylish+NN'decr6senti6\", \" 'i+NN'decr8\", \" 'alot+NN'decr10\"]]}"
   ]
  },
  {
   "cell_type": "code",
   "execution_count": 60,
   "metadata": {},
   "outputs": [],
   "source": [
    "'''\n",
    "The first test shows that the attribute lexicon includes tromedous duplicate attributes\n",
    "'''\n",
    "# 8th version\n",
    "def find_title (dic):\n",
    "    for k, v in dic.items():\n",
    "        temp = []\n",
    "        for window in v:\n",
    "            for word in window:\n",
    "                in_dic = {}\n",
    "                if 'attr' in word:\n",
    "                    title = word.split(\"+\")[0].strip(\" \\'\")\n",
    "                    title = get_key(attribute_lexicon, title)\n",
    "                    title = ''.join(title)\n",
    "                    window.remove(word)\n",
    "                    in_dic[title] = window\n",
    "                    temp.append(in_dic)\n",
    "        dic[k] = temp\n",
    "    return dic"
   ]
  },
  {
   "cell_type": "code",
   "execution_count": 61,
   "metadata": {},
   "outputs": [],
   "source": [
    "sec_dic = find_title(sec_dic)"
   ]
  },
  {
   "cell_type": "code",
   "execution_count": 62,
   "metadata": {},
   "outputs": [
    {
     "name": "stdout",
     "output_type": "stream",
     "text": [
      "adidas d rose0 [{'Heel': [\"'love+VB'senti0\", \" 'shoes+NNS'decr2\", \" 'fit+JJ'decr5\", \" 'order+NN'decr7\"]}, {'Weight': [\"'love+VB'senti0\", \" 'shoes+NNS'decr2\", \" 'light+JJ'decr3\", \" 'fit+JJ'decr5\", \" 'order+NN'decr7\", \" 'delivery+NN'decr9\"]}, {'Heel': [\"'love+VB'senti0\", \" 'shoes+NNS'decr2\", \" 'light+JJ'decr3\", \" 'order+NN'decr7\", \" 'delivery+NN'decr9\"]}]\n",
      "adidas d rose1 [{'Fit': [\" 'recommend+VBP'senti1\", \" 'shoes+NNS'decr4\"]}]\n",
      "adidas d rose2 []\n",
      "adidas d rose3 [{'Fit': [\" 'slightly+RB'decr2\", \" 'side+NN'decr6\"]}, {'Shape': [\" 'side+NN'decr0\", \" 'sole+NN'decr7\", \" 'really+RB'decr8\", \" 'well+RB'decr10senti10\"]}, {'Energy_Return': [\" 'like+UH'senti3\", \" 'really+RB'decr6\", \" 'well+RB'decr8senti8\"]}, {'Fasteners': [\" 'green+NN'decr0\", \" 'really+RB'decr1\", \" 'very+RB'decr7\", \" 'comfortable+JJ'decr8senti8\", \" 'shoe+NN'decr9\"]}, {'Fit': [\" 'very+RB'decr4\", \" 'shoe+NN'decr6\", \" 'great+JJ'decr8senti8\", \" 'support+NN'decr9senti9\"]}, {'Stability': [\" 'very+RB'decr0\", \" 'comfortable+JJ'decr1senti1\", \" 'shoe+NN'decr2\", \" 'great+JJ'decr4senti4\", \" 'stars+NNS'decr7\"]}]\n"
     ]
    }
   ],
   "source": [
    "look_3(sec_dic)"
   ]
  },
  {
   "cell_type": "code",
   "execution_count": null,
   "metadata": {},
   "outputs": [],
   "source": [
    "'''\n",
    "This section is recreating the positive lexicon and negtive lexicon\n",
    "'''\n",
    "print(len(positive), len(negative))\n"
   ]
  },
  {
   "cell_type": "code",
   "execution_count": null,
   "metadata": {},
   "outputs": [],
   "source": [
    "# ceshi = {\n",
    "# 'Reebok_Classic_Leather_Gum_Casual_Shoes0' : [{'Shape': [\" 'love+VBP'senti1\", \" 'old+JJ'decr3\", \" 'school+NN'decr4\", \" 'sneakers+NNS'decr8\", \" 'so+RB'decr10\"]}, {'Fit': [\" 'sneakers+NNS'decr2\", \" 'so+RB'decr4\"]}],\n",
    "# 'Reebok_Classic_Leather_Gum_Casual_Shoes1' : [{'Cushion': [\" 'true+JJ'decr1\", \" 'fans+NNS'decr5senti5\", \" 'sneakers+NNS'decr7\"]}, {'Heel': [\" 'nice+RB'decr1senti1\", \" 'pretty+RB'decr7senti7\", \" 'good+JJ'decr8senti8\", \" 'too+RB'decr9\"]}],\n",
    "# 'Reebok_Classic_Leather_Gum_Casual_Shoes2' : [{'Shape': [\" 'kid+NN'decr1\", \" 'so+RB'decr2\", \" 'always+RB'decr4\", \" 'retro+NN'decr7\", \" 'sneakers+NNS'decr9\"]}, {'Fixation': [\" 'so+RB'decr0\", \" 'always+RB'decr2\", \" 'like+IN'senti3\", \" 'sneakers+NNS'decr7\"]}],\n",
    "# 'Lacoste_Chaymon_Casual_Shoes0' : [{'Fasteners': [\" 'shoe+NN'decr2\", \" 'causal+NN'decr4\", \" 'kaki+NN'decr8\"]}, {'Fit': [\" 'wear+NN'decr0\", \" 'kaki+NN'decr3\", \" 'great+JJ'decr6senti6\", \" 'so+RB'decr7\", \" 'comfortable+JJ'decr8senti8\", \" 'light+JJ'decr9\", \" 'weight+NN'decr10\"]}, {'Fit': [\" 'kaki+NN'decr0\", \" 'great+JJ'decr3senti3\", \" 'so+RB'decr4\", \" 'light+JJ'decr6\", \" 'weight+NN'decr7\", \" 'stylish+NN'decr8senti8\", \" 'i+NN'decr10\"]}, {'Heel': [\" 'great+JJ'decr2senti2\", \" 'so+RB'decr3\", \" 'comfortable+JJ'decr4senti4\", \" 'weight+NN'decr6\", \" 'stylish+NN'decr7senti7\", \" 'i+NN'decr9\"]}, {'Weight': [\" 'great+JJ'decr1senti1\", \" 'so+RB'decr2\", \" 'comfortable+JJ'decr3senti3\", \" 'light+JJ'decr4\", \" 'stylish+NN'decr6senti6\", \" 'i+NN'decr8\", \" 'alot+NN'decr10\"]}]\n",
    "# }"
   ]
  },
  {
   "cell_type": "markdown",
   "metadata": {},
   "source": [
    "# IMPORTANT: 7/19/2019 because the stage1 result is showing two large clusters, so we decide to eliminate the negetaive weights for every customer, in the following section I changed it, if wwant it back need to change it to -1"
   ]
  },
  {
   "cell_type": "code",
   "execution_count": 63,
   "metadata": {},
   "outputs": [],
   "source": [
    "def add_polarity(data):\n",
    "    for k, v in data.items():\n",
    "        for dic in v:\n",
    "            for sec_k, review in dic.items():\n",
    "                pola = []\n",
    "                for word in review:\n",
    "                    if 'senti' in word:\n",
    "                        word = word.split(\"+\")[0].strip(\" \\'\")\n",
    "                        if word in positive:\n",
    "                            pola.append(1)\n",
    "                        elif word in negative:\n",
    "                            pola.append(-1)\n",
    "                dic[sec_k].append(str(np.mean(pola)))\n",
    "    return data\n",
    "\n",
    "def add_polarity_senti(data):\n",
    "    for k, v in data.items():\n",
    "        for dic in v:\n",
    "            for sec_k, review in dic.items():\n",
    "                pola = []\n",
    "                for word in review:\n",
    "                    if 'senti' in word:\n",
    "                        word = word.split(\"+\")[0].strip(\" \\'\")\n",
    "                        try:\n",
    "                            pola.append(float(sn.polarity_value(word)))\n",
    "                        except:\n",
    "                            pass\n",
    "                dic[sec_k].append(str(np.mean(pola)))\n",
    "    return data"
   ]
  },
  {
   "cell_type": "code",
   "execution_count": 64,
   "metadata": {},
   "outputs": [
    {
     "name": "stderr",
     "output_type": "stream",
     "text": [
      "/home/jade/anaconda3/envs/3rd/lib/python3.8/site-packages/numpy/core/fromnumeric.py:3372: RuntimeWarning: Mean of empty slice.\n",
      "  return _methods._mean(a, axis=axis, dtype=dtype,\n",
      "/home/jade/anaconda3/envs/3rd/lib/python3.8/site-packages/numpy/core/_methods.py:170: RuntimeWarning: invalid value encountered in double_scalars\n",
      "  ret = ret.dtype.type(ret / rcount)\n"
     ]
    }
   ],
   "source": [
    "sec_dic =add_polarity(sec_dic)"
   ]
  },
  {
   "cell_type": "code",
   "execution_count": 65,
   "metadata": {},
   "outputs": [],
   "source": [
    "sec_dic =add_polarity_senti(sec_dic)"
   ]
  },
  {
   "cell_type": "code",
   "execution_count": 66,
   "metadata": {},
   "outputs": [
    {
     "name": "stdout",
     "output_type": "stream",
     "text": [
      "adidas d rose0 [{'Heel': [\"'love+VB'senti0\", \" 'shoes+NNS'decr2\", \" 'fit+JJ'decr5\", \" 'order+NN'decr7\", '1.0', '0.83']}, {'Weight': [\"'love+VB'senti0\", \" 'shoes+NNS'decr2\", \" 'light+JJ'decr3\", \" 'fit+JJ'decr5\", \" 'order+NN'decr7\", \" 'delivery+NN'decr9\", '1.0', '0.83']}, {'Heel': [\"'love+VB'senti0\", \" 'shoes+NNS'decr2\", \" 'light+JJ'decr3\", \" 'order+NN'decr7\", \" 'delivery+NN'decr9\", '1.0', '0.83']}]\n",
      "adidas d rose1 [{'Fit': [\" 'recommend+VBP'senti1\", \" 'shoes+NNS'decr4\", '1.0', '0.774']}]\n",
      "adidas d rose2 []\n",
      "adidas d rose3 [{'Fit': [\" 'slightly+RB'decr2\", \" 'side+NN'decr6\", 'nan', 'nan']}, {'Shape': [\" 'side+NN'decr0\", \" 'sole+NN'decr7\", \" 'really+RB'decr8\", \" 'well+RB'decr10senti10\", '1.0', 'nan']}, {'Energy_Return': [\" 'like+UH'senti3\", \" 'really+RB'decr6\", \" 'well+RB'decr8senti8\", '1.0', 'nan']}, {'Fasteners': [\" 'green+NN'decr0\", \" 'really+RB'decr1\", \" 'very+RB'decr7\", \" 'comfortable+JJ'decr8senti8\", \" 'shoe+NN'decr9\", '1.0', '0.76']}, {'Fit': [\" 'very+RB'decr4\", \" 'shoe+NN'decr6\", \" 'great+JJ'decr8senti8\", \" 'support+NN'decr9senti9\", '1.0', '0.871']}, {'Stability': [\" 'very+RB'decr0\", \" 'comfortable+JJ'decr1senti1\", \" 'shoe+NN'decr2\", \" 'great+JJ'decr4senti4\", \" 'stars+NNS'decr7\", '1.0', '0.8085']}]\n"
     ]
    }
   ],
   "source": [
    "look_3(sec_dic)"
   ]
  },
  {
   "cell_type": "code",
   "execution_count": 67,
   "metadata": {},
   "outputs": [
    {
     "name": "stdout",
     "output_type": "stream",
     "text": [
      "Done\n",
      "Done\n"
     ]
    }
   ],
   "source": [
    "write_json(\"/media/jade/yi_Data/Data/chenxi/3rdWS_results_float.json\", sec_dic)\n",
    "write_txt_fromdic(\"/media/jade/yi_Data/Data/chenxi/3rdWS_results_float.txt\", sec_dic)"
   ]
  },
  {
   "cell_type": "markdown",
   "metadata": {},
   "source": [
    "## 7202019 the elimination of negative didn't seem to have influence for the results, I decide use the senticnet instead of use 1 to do the sentiment quatification"
   ]
  },
  {
   "cell_type": "code",
   "execution_count": null,
   "metadata": {},
   "outputs": [],
   "source": [
    "def add_polarity(data):\n",
    "    for k, v in data.items():\n",
    "        for dic in v:\n",
    "            for sec_k, review in dic.items():\n",
    "                pola = []\n",
    "                for word in review:\n",
    "                    if 'senti' in word:\n",
    "                        word = word.split(\"+\")[0].strip(\" \\'\")\n",
    "                        try:\n",
    "                            pola.append(sn.polarity_intense(word))\n",
    "                        except:\n",
    "                            pass\n",
    "                dic[sec_k].append(str(np.mean(pola)))\n",
    "    return data"
   ]
  },
  {
   "cell_type": "code",
   "execution_count": null,
   "metadata": {},
   "outputs": [],
   "source": [
    "sec_dic = add_polarity(sec_dic)"
   ]
  },
  {
   "cell_type": "code",
   "execution_count": null,
   "metadata": {},
   "outputs": [],
   "source": [
    "look_3(sec_dic)"
   ]
  },
  {
   "cell_type": "code",
   "execution_count": null,
   "metadata": {},
   "outputs": [],
   "source": [
    "'''\n",
    "This function I set all the window doesn't include polarity to positive, assumption no opnion means positive\n",
    "'''\n",
    "def manu_pola (data):\n",
    "    for k, v in data.items():\n",
    "        for dic in v:\n",
    "            for sec_k, review in dic.items():\n",
    "                for word in review:\n",
    "                    if word == 'nan':\n",
    "                        review[-1] = str(1.0)\n",
    "    return data"
   ]
  },
  {
   "cell_type": "code",
   "execution_count": null,
   "metadata": {},
   "outputs": [],
   "source": [
    "sec_dic = manu_pola(sec_dic)"
   ]
  },
  {
   "cell_type": "code",
   "execution_count": null,
   "metadata": {},
   "outputs": [],
   "source": [
    "look_3(sec_dic)"
   ]
  },
  {
   "cell_type": "code",
   "execution_count": null,
   "metadata": {},
   "outputs": [],
   "source": [
    "# ceshi = {\n",
    "# 'Reebok_Classic_Leather_Gum_Casual_Shoes0': [{'Shape': [\" 'love+VBP'senti1\", \" 'old+JJ'decr3\", \" 'school+NN'decr4\", \" 'sneakers+NNS'decr8\", \" 'so+RB'decr10\", '1.0']}, {'Fit': [\" 'sneakers+NNS'decr2\", \" 'so+RB'decr4\", '1.0']}],\n",
    "# 'Reebok_Classic_Leather_Gum_Casual_Shoes1': [{'Cushion': [\" 'true+JJ'decr1\", \" 'fans+NNS'decr5senti5\", \" 'sneakers+NNS'decr7\", '1.0']}, {'Heel': [\" 'nice+RB'decr1senti1\", \" 'pretty+RB'decr7senti7\", \" 'good+JJ'decr8senti8\", \" 'too+RB'decr9\", '1.0']}],\n",
    "# 'Reebok_Classic_Leather_Gum_Casual_Shoes2': [{'Shape': [\" 'kid+NN'decr1\", \" 'so+RB'decr2\", \" 'always+RB'decr4\", \" 'retro+NN'decr7\", \" 'sneakers+NNS'decr9\", '1.0']}, {'Fixation': [\" 'so+RB'decr0\", \" 'always+RB'decr2\", \" 'like+IN'senti3\", \" 'sneakers+NNS'decr7\", '1.0']}],\n",
    "# 'Lacoste_Chaymon_Casual_Shoes0': [{'Fasteners': [\" 'shoe+NN'decr2\", \" 'causal+NN'decr4\", \" 'kaki+NN'decr8\", '1.0']}, {'Fit': [\" 'wear+NN'decr0\", \" 'kaki+NN'decr3\", \" 'great+JJ'decr6senti6\", \" 'so+RB'decr7\", \" 'comfortable+JJ'decr8senti8\", \" 'light+JJ'decr9\", \" 'weight+NN'decr10\", '1.0']}, {'Fit': [\" 'kaki+NN'decr0\", \" 'great+JJ'decr3senti3\", \" 'so+RB'decr4\", \" 'light+JJ'decr6\", \" 'weight+NN'decr7\", \" 'stylish+NN'decr8senti8\", \" 'i+NN'decr10\", '1.0']}, {'Heel': [\" 'great+JJ'decr2senti2\", \" 'so+RB'decr3\", \" 'comfortable+JJ'decr4senti4\", \" 'weight+NN'decr6\", \" 'stylish+NN'decr7senti7\", \" 'i+NN'decr9\", '1.0']}, {'Weight': [\" 'great+JJ'decr1senti1\", \" 'so+RB'decr2\", \" 'comfortable+JJ'decr3senti3\", \" 'light+JJ'decr4\", \" 'stylish+NN'decr6senti6\", \" 'i+NN'decr8\", \" 'alot+NN'decr10\", '1.0']}]\n",
    "# }"
   ]
  },
  {
   "cell_type": "code",
   "execution_count": null,
   "metadata": {},
   "outputs": [],
   "source": [
    "'''\n",
    "This function is aiming at get the average embedding of each element in a window\n",
    "'''\n",
    "def get_avg_emb (data):\n",
    "    for k,v in data.items():\n",
    "        for dic in v:\n",
    "            window_avg = []\n",
    "            for sec_k, review in dic.items():\n",
    "                avg_emb = []\n",
    "                for word in review:\n",
    "                    if 'decr' in word:\n",
    "                        word = word.split(\"+\")[0].strip(\" \\'\")\n",
    "                        if word not in pre_word:\n",
    "                            continue\n",
    "                        vec = model[word]\n",
    "                        avg_emb.append(vec)\n",
    "                window_avg.append(np.mean(avg_emb, axis = 0) * float(review[-1]))\n",
    "                dic[sec_k] = window_avg\n",
    "    return data"
   ]
  },
  {
   "cell_type": "code",
   "execution_count": null,
   "metadata": {},
   "outputs": [],
   "source": [
    "sec_dic = get_avg_emb(sec_dic)"
   ]
  },
  {
   "cell_type": "code",
   "execution_count": null,
   "metadata": {},
   "outputs": [],
   "source": [
    "# look_3(sec_dic)"
   ]
  },
  {
   "cell_type": "code",
   "execution_count": null,
   "metadata": {},
   "outputs": [],
   "source": [
    "'''\n",
    "creating a new test dictionary\n",
    "'''\n",
    "# ceshi = {}\n",
    "# i = 0\n",
    "# for k,v in sec_dic.items():\n",
    "#     if i <= 15:\n",
    "#         if k not in ceshi:\n",
    "#             ceshi[k] = v\n",
    "#     i += 1\n",
    "            "
   ]
  },
  {
   "cell_type": "code",
   "execution_count": null,
   "metadata": {},
   "outputs": [],
   "source": [
    "import copy"
   ]
  },
  {
   "cell_type": "code",
   "execution_count": null,
   "metadata": {},
   "outputs": [],
   "source": [
    "def look_3key(data):\n",
    "    i = 0\n",
    "    for k, v in data.items():\n",
    "        i += 1\n",
    "        if i <= 4:\n",
    "            for dic in v:\n",
    "                print(dic.keys())\n",
    "                \n",
    "def look_5key(data):\n",
    "    i = 0\n",
    "    for k, v in data.items():\n",
    "        i += 1\n",
    "        if i <= 6:\n",
    "            for dic in v:\n",
    "                print(dic.keys())\n",
    "\n",
    "                \n",
    "def look_15key(data):\n",
    "    i = 0\n",
    "    for k, v in data.items():\n",
    "        i += 1\n",
    "        if i <= 15:\n",
    "            for dic in v:\n",
    "                print(dic.keys())"
   ]
  },
  {
   "cell_type": "code",
   "execution_count": null,
   "metadata": {},
   "outputs": [],
   "source": [
    "# ceshi2 = copy.deepcopy(ceshi)"
   ]
  },
  {
   "cell_type": "code",
   "execution_count": null,
   "metadata": {},
   "outputs": [],
   "source": [
    "# look_5key(ceshi2)"
   ]
  },
  {
   "cell_type": "code",
   "execution_count": null,
   "metadata": {},
   "outputs": [],
   "source": [
    "def clean_nan(data):\n",
    "    for key in list(data.keys()):\n",
    "        if not data.get(key):\n",
    "            del data[key]\n",
    "    for k, v in data.items():\n",
    "        for dic in v:\n",
    "            for key in list(dic.keys()):\n",
    "                if not dic.get(key):\n",
    "                    del dic[key]\n",
    "    return data"
   ]
  },
  {
   "cell_type": "code",
   "execution_count": null,
   "metadata": {},
   "outputs": [],
   "source": [
    "sec_dic = clean_nan(sec_dic)"
   ]
  },
  {
   "cell_type": "code",
   "execution_count": null,
   "metadata": {},
   "outputs": [],
   "source": [
    "'''\n",
    "creating a new test dictionary\n",
    "# '''\n",
    "# ceshi = {}\n",
    "# i = 0\n",
    "# for k,v in sec_dic.items():\n",
    "#     if i <= 15:\n",
    "#         if k not in ceshi:\n",
    "#             ceshi[k] = v\n",
    "#     i += 1\n",
    "            "
   ]
  },
  {
   "cell_type": "code",
   "execution_count": null,
   "metadata": {},
   "outputs": [],
   "source": [
    "# ceshi2 = copy.deepcopy(ceshi)"
   ]
  },
  {
   "cell_type": "code",
   "execution_count": null,
   "metadata": {},
   "outputs": [],
   "source": [
    "# ceshi2['Nike_Shox_Nz_Running_Shoes3']"
   ]
  },
  {
   "cell_type": "code",
   "execution_count": null,
   "metadata": {},
   "outputs": [],
   "source": [
    "'''\n",
    "There is another problem be observed in the previous results, some window indeed include mutiple attributes bute they may belongs to the same category, so in the lactote shoe, there are two fit in it\n",
    ", Just get the average of two attributes if they belong to a same big category\n",
    "'''\n",
    "\n",
    "def clean_array(data):\n",
    "    for k, v in data.items():\n",
    "        rp = []\n",
    "        i = 0\n",
    "        kong = {}\n",
    "        tmp2 = []\n",
    "        for dic in v:\n",
    "            rp.append(dic)\n",
    "            for sec_k, sec_v in dic.items():\n",
    "                kong[sec_k] = sec_v\n",
    "                if sec_k in tmp2:\n",
    "                    m = tmp2.index(sec_k)\n",
    "                    kong[sec_k] = np.mean([kong[sec_k], v[i][sec_k][0]])\n",
    "                    rp.pop(m)\n",
    "#                     print(i)\n",
    "                    try:\n",
    "                        rp.pop(i-1)\n",
    "                    except:\n",
    "                        continue\n",
    "                    rp.append(kong)\n",
    "                    tmp2.remove(sec_k)\n",
    "                else:\n",
    "                    tmp2.append(sec_k)\n",
    "                    del kong[sec_k]\n",
    "            i += 1\n",
    "            data[k] = rp\n",
    "                \n",
    "    return data\n"
   ]
  },
  {
   "cell_type": "code",
   "execution_count": null,
   "metadata": {},
   "outputs": [],
   "source": [
    "sec_dic = clean_array(sec_dic)"
   ]
  },
  {
   "cell_type": "code",
   "execution_count": null,
   "metadata": {},
   "outputs": [],
   "source": [
    "# look_15key(sec_dic)"
   ]
  },
  {
   "cell_type": "code",
   "execution_count": null,
   "metadata": {},
   "outputs": [],
   "source": [
    "def clean_again(data):\n",
    "    for k,v in data.items():\n",
    "        i = 0\n",
    "        for dic in v:\n",
    "            if dic == {}:\n",
    "                v = v.pop(i)\n",
    "            i += 1\n",
    "    return data"
   ]
  },
  {
   "cell_type": "code",
   "execution_count": null,
   "metadata": {},
   "outputs": [],
   "source": [
    "sec_dic = clean_again(sec_dic)"
   ]
  },
  {
   "cell_type": "code",
   "execution_count": null,
   "metadata": {},
   "outputs": [],
   "source": [
    "look_3(sec_dic)"
   ]
  },
  {
   "cell_type": "code",
   "execution_count": null,
   "metadata": {},
   "outputs": [],
   "source": [
    "# import json\n",
    "# type(sec_dic)\n",
    "# with open(\"H:/Data/matrix_of_everycustomer.json\", \"w\") as f:\n",
    "#     for k, v in sec_dic.items():\n",
    "#         sec_dic[k] = str(v)\n",
    "#     json.dump(sec_dic, f)\n",
    "#     print('Done')\n",
    "# cosine_similarity([test['Reebok_Classic_Leather_Gum_Casual_Shoes1'][0]['Cushion'][0],test['Lacoste_Chaymon_Casual_Shoes0'][1]['Fit'][0]])"
   ]
  },
  {
   "cell_type": "code",
   "execution_count": null,
   "metadata": {},
   "outputs": [],
   "source": [
    "ceshi = {}\n",
    "i = 0\n",
    "for k,v in sec_dic.items():\n",
    "    if i <= 10:\n",
    "        if k not in ceshi:\n",
    "            ceshi[k] = v\n",
    "    i += 1\n"
   ]
  },
  {
   "cell_type": "code",
   "execution_count": null,
   "metadata": {},
   "outputs": [],
   "source": [
    "ceshi\n",
    "ceshi['Reebok_Classic_Leather_Gum_Casual_Shoes0'][0]['Shape'][0]"
   ]
  },
  {
   "cell_type": "code",
   "execution_count": null,
   "metadata": {},
   "outputs": [],
   "source": [
    "# caonima = cosine_similarity([ceshi['Reebok_Classic_Leather_Gum_Casual_Shoes0'][0]['Shape'][0], ceshi['Reebok_Classic_Leather_Gum_Casual_Shoes1'][0]['Cushion'][0]])\n",
    "# print(caonima)\n",
    "# a = np.square(np.mean(caonima))\n",
    "# a"
   ]
  },
  {
   "cell_type": "markdown",
   "metadata": {},
   "source": [
    "## Get the similarity of each customer and visualize them"
   ]
  },
  {
   "cell_type": "code",
   "execution_count": null,
   "metadata": {},
   "outputs": [],
   "source": [
    "import numba\n",
    "from scipy import spatial\n",
    "import pandas as pd\n",
    "from sklearn.metrics.pairwise import cosine_similarity"
   ]
  },
  {
   "cell_type": "code",
   "execution_count": null,
   "metadata": {},
   "outputs": [],
   "source": [
    "'''\n",
    "This is the function to get the similarities of different customers\n",
    "'''\n",
    "# 9th version\n",
    "def get_smil (data):\n",
    "    laozi = []\n",
    "    i = 0\n",
    "    for k,v in data.items():\n",
    "#         print(k)\n",
    "        i += 1\n",
    "        print(i)\n",
    "        if i  == 1:\n",
    "            new_data = copy.deepcopy(data)\n",
    "        del new_data[k]\n",
    "        niubi = {}\n",
    "        for dic in v:\n",
    "#             print(dic.keys())\n",
    "            for s_k, s_v in new_data.items():\n",
    "                goushi = []\n",
    "                for s_dic in s_v:\n",
    "                    for attr, array in dic.items():\n",
    "                        if attr in s_dic.keys():\n",
    "                            try:\n",
    "                                similarity = np.square(cosine_similarity([dic[attr][0], s_dic[attr][0]])[0][1])\n",
    "                            except:\n",
    "                                pass\n",
    "                            goushi.append(similarity)\n",
    "                            niubi[k + \"+\" + s_k] = np.mean(goushi)\n",
    "        if niubi:\n",
    "            laozi.append(niubi)\n",
    "        tmp = list(data.items())\n",
    "        tmp = tmp[1:]\n",
    "        data = dict(tmp)\n",
    "#         break\n",
    "    return laozi\n",
    "            "
   ]
  },
  {
   "cell_type": "code",
   "execution_count": null,
   "metadata": {},
   "outputs": [],
   "source": [
    "'''\n",
    "creating a new test dictionary\n",
    "'''\n",
    "ceshi = {}\n",
    "i = 0\n",
    "for k,v in sec_dic.items():\n",
    "    if i <= 3:\n",
    "        if k not in ceshi:\n",
    "            ceshi[k] = v\n",
    "    i += 1\n",
    "         \n",
    "ceshi2 = copy.deepcopy(ceshi)\n",
    "# # print(ceshi2.keys())\n",
    "# # look_3key(ceshi2)"
   ]
  },
  {
   "cell_type": "code",
   "execution_count": null,
   "metadata": {},
   "outputs": [],
   "source": [
    "# test2 = list(ceshi2.items()) \n",
    "# print(test2)\n",
    "# ceshi3 = dict(test2)\n",
    "# if ceshi3 == ceshi2:\n",
    "#     print('yes')\n",
    "test = get_smil(ceshi2)"
   ]
  },
  {
   "cell_type": "code",
   "execution_count": null,
   "metadata": {},
   "outputs": [],
   "source": [
    "jiba = get_smil(sec_dic)"
   ]
  },
  {
   "cell_type": "code",
   "execution_count": null,
   "metadata": {},
   "outputs": [],
   "source": [
    "# print(jiba[0])\n",
    "# caonima = {}\n",
    "# for i in test:\n",
    "#     caonima.update(i)\n",
    "    \n",
    "# caonima\n",
    "len(jiba)"
   ]
  },
  {
   "cell_type": "code",
   "execution_count": null,
   "metadata": {},
   "outputs": [],
   "source": [
    "'''\n",
    "combine all the dictionary into one dic\n",
    "'''\n",
    "jiba2 = {}\n",
    "for i in jiba:\n",
    "    jiba2.update(i)"
   ]
  },
  {
   "cell_type": "code",
   "execution_count": null,
   "metadata": {},
   "outputs": [],
   "source": [
    "print(type(jiba))\n",
    "print(len(jiba2))\n",
    "print(type(jiba2))\n",
    "print(jiba2['Reebok_Classic_Leather_Gum_Casual_Shoes0+Reebok_Classic_Leather_Gum_Casual_Shoes2'])"
   ]
  },
  {
   "cell_type": "code",
   "execution_count": null,
   "metadata": {},
   "outputs": [],
   "source": [
    "for k, v in jiba2.items():\n",
    "    jiba2[k] = v.tolist()\n",
    "'''\n",
    "Imprtant, in this step I turn the array to list,and remeber this is for the writing out file\n",
    "'''"
   ]
  },
  {
   "cell_type": "code",
   "execution_count": null,
   "metadata": {},
   "outputs": [],
   "source": [
    "import json\n",
    "with open('H:/Data/similarity_7202019_wanshangpingfang.json', 'w') as f:\n",
    "    json.dump(jiba2, f)\n",
    "print('Done')"
   ]
  },
  {
   "cell_type": "code",
   "execution_count": null,
   "metadata": {},
   "outputs": [],
   "source": [
    "del jiba"
   ]
  },
  {
   "cell_type": "code",
   "execution_count": null,
   "metadata": {},
   "outputs": [],
   "source": [
    "look_3(jiba2)"
   ]
  },
  {
   "cell_type": "code",
   "execution_count": null,
   "metadata": {},
   "outputs": [],
   "source": [
    "ugly= [[0]*23403 for i in range(23403)]\n",
    "print(np.shape(ugly))\n",
    "\n",
    "name_dict = {}\n",
    "o = 0\n",
    "for k, v in jiba2.items():\n",
    "#     print(v)\n",
    "    o += 1\n",
    "    if o % 50000 == 0:\n",
    "        print(o)\n",
    "    n1,n2= k.split(\"+\")\n",
    "    if n1 not in name_dict:\n",
    "        name_dict[n1] = len(name_dict)\n",
    "    n1_id = name_dict[n1]\n",
    "#     print(n1_id)\n",
    "    if n2 not in name_dict:\n",
    "        name_dict[n2] = len(name_dict)\n",
    "    n2_id = name_dict[n2]\n",
    "#     print(n1_id, n2_id)\n",
    "    if n2_id > n1_id:\n",
    "        ugly[n1_id][n2_id] = v\n",
    "    else:\n",
    "        ugly[n2_id][n1_id] = v"
   ]
  },
  {
   "cell_type": "code",
   "execution_count": null,
   "metadata": {},
   "outputs": [],
   "source": [
    "from matplotlib.pyplot import figure\n",
    "from matplotlib.pyplot import subplots\n",
    "figure(num=None, figsize=(56, 56), dpi=80, facecolor='w', edgecolor='k')\n",
    "fig, ax = subplots(figsize=(56, 56))\n",
    "ax.imshow(ugly, cmap='hot', interpolation='nearest')\n",
    "plt.savefig(\"H:/Data/7202019morning.png\")"
   ]
  },
  {
   "cell_type": "code",
   "execution_count": null,
   "metadata": {},
   "outputs": [],
   "source": [
    "import matplotlib.pyplot as plt\n",
    "plt.savefig(\"H:/Data/7202019morning.png\")"
   ]
  },
  {
   "cell_type": "code",
   "execution_count": null,
   "metadata": {},
   "outputs": [],
   "source": [
    "'''\n",
    "This is the function that get the similarities between two arrays\n",
    "'''\n",
    "# def get_similarity (array1, array2):\n",
    "#     pass\n",
    "\n",
    "# load the saved dictionary\n",
    "with open(\"H:/Data/similarity.json\", \"r\", encoding = 'ISO-8859-1') as f:\n",
    "    jiba2 = json.load(f)\n",
    "# actually the cosine similirity can be calculated directly by the sklearn pacakage"
   ]
  },
  {
   "cell_type": "code",
   "execution_count": null,
   "metadata": {},
   "outputs": [],
   "source": [
    "def write_json(data, file_name):\n",
    "    with open(filename, 'w') as f:\n",
    "        for i in data:\n",
    "            f.write(i)\n",
    "            "
   ]
  },
  {
   "cell_type": "code",
   "execution_count": null,
   "metadata": {},
   "outputs": [],
   "source": [
    "def writing_list(data, file_name):\n",
    "    with open(file_name, 'w') as f:\n",
    "        for i in data:\n",
    "            f.write(str(i))\n",
    "            f.write('\\n')\n",
    "        print('Done')"
   ]
  },
  {
   "cell_type": "code",
   "execution_count": null,
   "metadata": {},
   "outputs": [],
   "source": [
    "writing_list(jiba, \"H:/Data/similarity_results.txt\")"
   ]
  },
  {
   "cell_type": "code",
   "execution_count": null,
   "metadata": {},
   "outputs": [],
   "source": [
    "b = cosine_similarity([ceshi['Reebok_Classic_Leather_Gum_Casual_Shoes0'][0]['Shape'][0], ceshi['Reebok_Classic_Leather_Gum_Casual_Shoes2'][0]['Shape'][0]])[0][1]\n",
    "print(b)"
   ]
  },
  {
   "cell_type": "code",
   "execution_count": null,
   "metadata": {},
   "outputs": [],
   "source": [
    "for k ,v in ceshi['Reebok_Classic_Leather_Gum_Casual_Shoes0'][0].items():\n",
    "    mimi = []\n",
    "    for s_k, s_v in ceshi['Reebok_Classic_Leather_Gum_Casual_Shoes2'][0].items():\n",
    "        if k in ceshi['Reebok_Classic_Leather_Gum_Casual_Shoes2'][0].keys():\n",
    "            similarity = cosine_similarity([ceshi['Reebok_Classic_Leather_Gum_Casual_Shoes0'][0][k][0], ceshi['Reebok_Classic_Leather_Gum_Casual_Shoes2'][0][k][0]] )\n",
    "            mimi.append(similarity)\n",
    "            avg_smi = np.mean(mimi)\n",
    "            print(avg_smi)\n",
    "        "
   ]
  },
  {
   "cell_type": "markdown",
   "metadata": {},
   "source": [
    "## Draw the heatmap based on the data we got previously"
   ]
  },
  {
   "cell_type": "code",
   "execution_count": null,
   "metadata": {},
   "outputs": [],
   "source": [
    "import seaborn as sns; sns.set()\n",
    "import random\n",
    "np.random.seed(66)\n",
    "# xiaodata = np.random.rand(10, 12)\n",
    "from matplotlib import pyplot as plt"
   ]
  },
  {
   "cell_type": "code",
   "execution_count": null,
   "metadata": {},
   "outputs": [],
   "source": [
    "'''\n",
    "Get random 100000 samples from the jiba2\n",
    "'''\n",
    "jiba3 = {}\n",
    "jiba3 = random.sample(jiba2.items(), 10000)"
   ]
  },
  {
   "cell_type": "code",
   "execution_count": null,
   "metadata": {},
   "outputs": [],
   "source": [
    "jiba3[0]"
   ]
  },
  {
   "cell_type": "code",
   "execution_count": null,
   "metadata": {},
   "outputs": [],
   "source": [
    "'''\n",
    "好，现在草泥马的老子终于选了10万个数据点出来可以搞一下了，草泥马的\n",
    "'''\n",
    "# df = pd.DataFrame(list(jiba3))\n",
    "print(len(jiba2))\n",
    "len(sec_dic)"
   ]
  },
  {
   "cell_type": "code",
   "execution_count": null,
   "metadata": {},
   "outputs": [],
   "source": [
    "sim = [[0]*23403 for i in range(23403)]\n",
    "print(np.shape(sim))\n",
    "\n",
    "o = 0\n",
    "name_dict = {}\n",
    "for k, v in jiba2.items():\n",
    "    o += 1\n",
    "    if o % 500 == 0:\n",
    "        print(o)\n",
    "    n1,n2= k.split(\"+\")\n",
    "    if n1 not in name_dict:\n",
    "        name_dict[n1] = len(name_dict)\n",
    "    n1_id = name_dict[n1]\n",
    "#     print(n1_id)\n",
    "    if n2 not in name_dict:\n",
    "        name_dict[n2] = len(name_dict)\n",
    "    n2_id = name_dict[n2]\n",
    "#     print(n1_id, n2_id)\n",
    "    sim[n2_id-1][n1_id-1] = v"
   ]
  },
  {
   "cell_type": "code",
   "execution_count": null,
   "metadata": {},
   "outputs": [],
   "source": [
    "with open(\"H:/Data/thepicture.json\", \"w\") as f:\n",
    "    json.dump(sim ,f)\n",
    "print('Done')"
   ]
  },
  {
   "cell_type": "code",
   "execution_count": null,
   "metadata": {},
   "outputs": [],
   "source": [
    "plt.figure(figsize = (46,46))\n",
    "sns_plot = sns.heatmap(sim, annot=True)"
   ]
  },
  {
   "cell_type": "code",
   "execution_count": null,
   "metadata": {},
   "outputs": [],
   "source": [
    "hangming = []\n",
    "for i in jiba3:\n",
    "    hangming.append(i[0])"
   ]
  },
  {
   "cell_type": "code",
   "execution_count": null,
   "metadata": {},
   "outputs": [],
   "source": [
    "df.index = pd.Series(hangming)"
   ]
  },
  {
   "cell_type": "code",
   "execution_count": null,
   "metadata": {},
   "outputs": [],
   "source": [
    "xuanlie = []\n",
    "for i in sec_dic.keys():\n",
    "    xuanlie.append(i)"
   ]
  },
  {
   "cell_type": "code",
   "execution_count": null,
   "metadata": {},
   "outputs": [],
   "source": [
    "xuanlie = random.sample(xuanlie, 500)"
   ]
  },
  {
   "cell_type": "code",
   "execution_count": null,
   "metadata": {},
   "outputs": [],
   "source": [
    "xuanlie"
   ]
  },
  {
   "cell_type": "code",
   "execution_count": null,
   "metadata": {},
   "outputs": [],
   "source": [
    "def create_newframe(liebiao, shuzhi):\n",
    "    chunksize = 300\n",
    "    tmp = []\n",
    "    tmp2 = pd.DataFrame()\n",
    "    o = 0\n",
    "    result2 = pd.DataFrame()\n",
    "    for i in liebiao[0:5]: # the randomly picked 10000 samples of customer\n",
    "        print(o)\n",
    "        o += 1\n",
    "        for j in shuzhi: # the randomly picked 100000 samples of similarities\n",
    "            if i in j[0]:\n",
    "                tmp.append(j[1])\n",
    "            result2 = pd.concat([result2, pd.DataFrame({i:tmp})], sort = False)\n",
    "#         result2 = pd.concat([result2, result], sort = False)\n",
    "    return result2"
   ]
  },
  {
   "cell_type": "code",
   "execution_count": null,
   "metadata": {},
   "outputs": [],
   "source": [
    "result2 = create_newframe(xuanlie, jiba3) "
   ]
  },
  {
   "cell_type": "code",
   "execution_count": null,
   "metadata": {},
   "outputs": [],
   "source": [
    "result2"
   ]
  },
  {
   "cell_type": "code",
   "execution_count": null,
   "metadata": {},
   "outputs": [],
   "source": [
    "import matplotlib.pyplot as plt"
   ]
  },
  {
   "cell_type": "code",
   "execution_count": null,
   "metadata": {},
   "outputs": [],
   "source": [
    "plt.figure(figsize=(40, 56))\n",
    "ax = sns.heatmap(result2)"
   ]
  },
  {
   "cell_type": "code",
   "execution_count": null,
   "metadata": {},
   "outputs": [],
   "source": [
    "result2"
   ]
  },
  {
   "cell_type": "code",
   "execution_count": null,
   "metadata": {},
   "outputs": [],
   "source": []
  }
 ],
 "metadata": {
  "kernelspec": {
   "display_name": "Python 3",
   "language": "python",
   "name": "python3"
  },
  "language_info": {
   "codemirror_mode": {
    "name": "ipython",
    "version": 3
   },
   "file_extension": ".py",
   "mimetype": "text/x-python",
   "name": "python",
   "nbconvert_exporter": "python",
   "pygments_lexer": "ipython3",
   "version": "3.8.8"
  }
 },
 "nbformat": 4,
 "nbformat_minor": 4
}
